{
 "cells": [
  {
   "cell_type": "markdown",
   "id": "4111f2c4",
   "metadata": {},
   "source": [
    "# Multiple Linear Regression\n",
    "## Bike Sharing Case Study\n",
    "### Step 1: Fetching & Understanding the Data"
   ]
  },
  {
   "cell_type": "code",
   "execution_count": 1,
   "id": "36bcd310",
   "metadata": {},
   "outputs": [],
   "source": [
    "# Let us  import neccessary libraries\n",
    "import pandas as pd\n",
    "import numpy as np\n",
    "import seaborn as sns\n",
    "import matplotlib.pyplot as plt\n",
    "import warnings\n",
    "warnings.filterwarnings('ignore')"
   ]
  },
  {
   "cell_type": "code",
   "execution_count": 2,
   "id": "51c83642",
   "metadata": {},
   "outputs": [
    {
     "data": {
      "text/html": [
       "<div>\n",
       "<style scoped>\n",
       "    .dataframe tbody tr th:only-of-type {\n",
       "        vertical-align: middle;\n",
       "    }\n",
       "\n",
       "    .dataframe tbody tr th {\n",
       "        vertical-align: top;\n",
       "    }\n",
       "\n",
       "    .dataframe thead th {\n",
       "        text-align: right;\n",
       "    }\n",
       "</style>\n",
       "<table border=\"1\" class=\"dataframe\">\n",
       "  <thead>\n",
       "    <tr style=\"text-align: right;\">\n",
       "      <th></th>\n",
       "      <th>instant</th>\n",
       "      <th>dteday</th>\n",
       "      <th>season</th>\n",
       "      <th>yr</th>\n",
       "      <th>mnth</th>\n",
       "      <th>holiday</th>\n",
       "      <th>weekday</th>\n",
       "      <th>workingday</th>\n",
       "      <th>weathersit</th>\n",
       "      <th>temp</th>\n",
       "      <th>atemp</th>\n",
       "      <th>hum</th>\n",
       "      <th>windspeed</th>\n",
       "      <th>casual</th>\n",
       "      <th>registered</th>\n",
       "      <th>cnt</th>\n",
       "    </tr>\n",
       "  </thead>\n",
       "  <tbody>\n",
       "    <tr>\n",
       "      <th>0</th>\n",
       "      <td>1</td>\n",
       "      <td>01-01-2018</td>\n",
       "      <td>1</td>\n",
       "      <td>0</td>\n",
       "      <td>1</td>\n",
       "      <td>0</td>\n",
       "      <td>6</td>\n",
       "      <td>0</td>\n",
       "      <td>2</td>\n",
       "      <td>14.110847</td>\n",
       "      <td>18.18125</td>\n",
       "      <td>80.5833</td>\n",
       "      <td>10.749882</td>\n",
       "      <td>331</td>\n",
       "      <td>654</td>\n",
       "      <td>985</td>\n",
       "    </tr>\n",
       "    <tr>\n",
       "      <th>1</th>\n",
       "      <td>2</td>\n",
       "      <td>02-01-2018</td>\n",
       "      <td>1</td>\n",
       "      <td>0</td>\n",
       "      <td>1</td>\n",
       "      <td>0</td>\n",
       "      <td>0</td>\n",
       "      <td>0</td>\n",
       "      <td>2</td>\n",
       "      <td>14.902598</td>\n",
       "      <td>17.68695</td>\n",
       "      <td>69.6087</td>\n",
       "      <td>16.652113</td>\n",
       "      <td>131</td>\n",
       "      <td>670</td>\n",
       "      <td>801</td>\n",
       "    </tr>\n",
       "    <tr>\n",
       "      <th>2</th>\n",
       "      <td>3</td>\n",
       "      <td>03-01-2018</td>\n",
       "      <td>1</td>\n",
       "      <td>0</td>\n",
       "      <td>1</td>\n",
       "      <td>0</td>\n",
       "      <td>1</td>\n",
       "      <td>1</td>\n",
       "      <td>1</td>\n",
       "      <td>8.050924</td>\n",
       "      <td>9.47025</td>\n",
       "      <td>43.7273</td>\n",
       "      <td>16.636703</td>\n",
       "      <td>120</td>\n",
       "      <td>1229</td>\n",
       "      <td>1349</td>\n",
       "    </tr>\n",
       "    <tr>\n",
       "      <th>3</th>\n",
       "      <td>4</td>\n",
       "      <td>04-01-2018</td>\n",
       "      <td>1</td>\n",
       "      <td>0</td>\n",
       "      <td>1</td>\n",
       "      <td>0</td>\n",
       "      <td>2</td>\n",
       "      <td>1</td>\n",
       "      <td>1</td>\n",
       "      <td>8.200000</td>\n",
       "      <td>10.60610</td>\n",
       "      <td>59.0435</td>\n",
       "      <td>10.739832</td>\n",
       "      <td>108</td>\n",
       "      <td>1454</td>\n",
       "      <td>1562</td>\n",
       "    </tr>\n",
       "    <tr>\n",
       "      <th>4</th>\n",
       "      <td>5</td>\n",
       "      <td>05-01-2018</td>\n",
       "      <td>1</td>\n",
       "      <td>0</td>\n",
       "      <td>1</td>\n",
       "      <td>0</td>\n",
       "      <td>3</td>\n",
       "      <td>1</td>\n",
       "      <td>1</td>\n",
       "      <td>9.305237</td>\n",
       "      <td>11.46350</td>\n",
       "      <td>43.6957</td>\n",
       "      <td>12.522300</td>\n",
       "      <td>82</td>\n",
       "      <td>1518</td>\n",
       "      <td>1600</td>\n",
       "    </tr>\n",
       "  </tbody>\n",
       "</table>\n",
       "</div>"
      ],
      "text/plain": [
       "   instant      dteday  season  yr  mnth  holiday  weekday  workingday  \\\n",
       "0        1  01-01-2018       1   0     1        0        6           0   \n",
       "1        2  02-01-2018       1   0     1        0        0           0   \n",
       "2        3  03-01-2018       1   0     1        0        1           1   \n",
       "3        4  04-01-2018       1   0     1        0        2           1   \n",
       "4        5  05-01-2018       1   0     1        0        3           1   \n",
       "\n",
       "   weathersit       temp     atemp      hum  windspeed  casual  registered  \\\n",
       "0           2  14.110847  18.18125  80.5833  10.749882     331         654   \n",
       "1           2  14.902598  17.68695  69.6087  16.652113     131         670   \n",
       "2           1   8.050924   9.47025  43.7273  16.636703     120        1229   \n",
       "3           1   8.200000  10.60610  59.0435  10.739832     108        1454   \n",
       "4           1   9.305237  11.46350  43.6957  12.522300      82        1518   \n",
       "\n",
       "    cnt  \n",
       "0   985  \n",
       "1   801  \n",
       "2  1349  \n",
       "3  1562  \n",
       "4  1600  "
      ]
     },
     "execution_count": 2,
     "metadata": {},
     "output_type": "execute_result"
    }
   ],
   "source": [
    "#Load Dataset\n",
    "bikeSharing = pd.read_csv(\"day.csv\")\n",
    "#Display  Overview of the dataset\n",
    "bikeSharing.head()"
   ]
  },
  {
   "cell_type": "code",
   "execution_count": 3,
   "id": "3e85b9c7",
   "metadata": {},
   "outputs": [
    {
     "data": {
      "text/plain": [
       "(730, 16)"
      ]
     },
     "execution_count": 3,
     "metadata": {},
     "output_type": "execute_result"
    }
   ],
   "source": [
    "#Check the shape\n",
    "bikeSharing.shape"
   ]
  },
  {
   "cell_type": "code",
   "execution_count": 4,
   "id": "ce1ea2ab",
   "metadata": {},
   "outputs": [
    {
     "name": "stdout",
     "output_type": "stream",
     "text": [
      "<class 'pandas.core.frame.DataFrame'>\n",
      "RangeIndex: 730 entries, 0 to 729\n",
      "Data columns (total 16 columns):\n",
      " #   Column      Non-Null Count  Dtype  \n",
      "---  ------      --------------  -----  \n",
      " 0   instant     730 non-null    int64  \n",
      " 1   dteday      730 non-null    object \n",
      " 2   season      730 non-null    int64  \n",
      " 3   yr          730 non-null    int64  \n",
      " 4   mnth        730 non-null    int64  \n",
      " 5   holiday     730 non-null    int64  \n",
      " 6   weekday     730 non-null    int64  \n",
      " 7   workingday  730 non-null    int64  \n",
      " 8   weathersit  730 non-null    int64  \n",
      " 9   temp        730 non-null    float64\n",
      " 10  atemp       730 non-null    float64\n",
      " 11  hum         730 non-null    float64\n",
      " 12  windspeed   730 non-null    float64\n",
      " 13  casual      730 non-null    int64  \n",
      " 14  registered  730 non-null    int64  \n",
      " 15  cnt         730 non-null    int64  \n",
      "dtypes: float64(4), int64(11), object(1)\n",
      "memory usage: 91.4+ KB\n"
     ]
    }
   ],
   "source": [
    "#Check the info\n",
    "bikeSharing.info()"
   ]
  },
  {
   "cell_type": "code",
   "execution_count": 5,
   "id": "14b50f4e",
   "metadata": {},
   "outputs": [
    {
     "data": {
      "text/html": [
       "<div>\n",
       "<style scoped>\n",
       "    .dataframe tbody tr th:only-of-type {\n",
       "        vertical-align: middle;\n",
       "    }\n",
       "\n",
       "    .dataframe tbody tr th {\n",
       "        vertical-align: top;\n",
       "    }\n",
       "\n",
       "    .dataframe thead th {\n",
       "        text-align: right;\n",
       "    }\n",
       "</style>\n",
       "<table border=\"1\" class=\"dataframe\">\n",
       "  <thead>\n",
       "    <tr style=\"text-align: right;\">\n",
       "      <th></th>\n",
       "      <th>instant</th>\n",
       "      <th>season</th>\n",
       "      <th>yr</th>\n",
       "      <th>mnth</th>\n",
       "      <th>holiday</th>\n",
       "      <th>weekday</th>\n",
       "      <th>workingday</th>\n",
       "      <th>weathersit</th>\n",
       "      <th>temp</th>\n",
       "      <th>atemp</th>\n",
       "      <th>hum</th>\n",
       "      <th>windspeed</th>\n",
       "      <th>casual</th>\n",
       "      <th>registered</th>\n",
       "      <th>cnt</th>\n",
       "    </tr>\n",
       "  </thead>\n",
       "  <tbody>\n",
       "    <tr>\n",
       "      <th>count</th>\n",
       "      <td>730.000000</td>\n",
       "      <td>730.000000</td>\n",
       "      <td>730.000000</td>\n",
       "      <td>730.000000</td>\n",
       "      <td>730.000000</td>\n",
       "      <td>730.000000</td>\n",
       "      <td>730.000000</td>\n",
       "      <td>730.000000</td>\n",
       "      <td>730.000000</td>\n",
       "      <td>730.000000</td>\n",
       "      <td>730.000000</td>\n",
       "      <td>730.000000</td>\n",
       "      <td>730.000000</td>\n",
       "      <td>730.000000</td>\n",
       "      <td>730.000000</td>\n",
       "    </tr>\n",
       "    <tr>\n",
       "      <th>mean</th>\n",
       "      <td>365.500000</td>\n",
       "      <td>2.498630</td>\n",
       "      <td>0.500000</td>\n",
       "      <td>6.526027</td>\n",
       "      <td>0.028767</td>\n",
       "      <td>2.997260</td>\n",
       "      <td>0.683562</td>\n",
       "      <td>1.394521</td>\n",
       "      <td>20.319259</td>\n",
       "      <td>23.726322</td>\n",
       "      <td>62.765175</td>\n",
       "      <td>12.763620</td>\n",
       "      <td>849.249315</td>\n",
       "      <td>3658.757534</td>\n",
       "      <td>4508.006849</td>\n",
       "    </tr>\n",
       "    <tr>\n",
       "      <th>std</th>\n",
       "      <td>210.877136</td>\n",
       "      <td>1.110184</td>\n",
       "      <td>0.500343</td>\n",
       "      <td>3.450215</td>\n",
       "      <td>0.167266</td>\n",
       "      <td>2.006161</td>\n",
       "      <td>0.465405</td>\n",
       "      <td>0.544807</td>\n",
       "      <td>7.506729</td>\n",
       "      <td>8.150308</td>\n",
       "      <td>14.237589</td>\n",
       "      <td>5.195841</td>\n",
       "      <td>686.479875</td>\n",
       "      <td>1559.758728</td>\n",
       "      <td>1936.011647</td>\n",
       "    </tr>\n",
       "    <tr>\n",
       "      <th>min</th>\n",
       "      <td>1.000000</td>\n",
       "      <td>1.000000</td>\n",
       "      <td>0.000000</td>\n",
       "      <td>1.000000</td>\n",
       "      <td>0.000000</td>\n",
       "      <td>0.000000</td>\n",
       "      <td>0.000000</td>\n",
       "      <td>1.000000</td>\n",
       "      <td>2.424346</td>\n",
       "      <td>3.953480</td>\n",
       "      <td>0.000000</td>\n",
       "      <td>1.500244</td>\n",
       "      <td>2.000000</td>\n",
       "      <td>20.000000</td>\n",
       "      <td>22.000000</td>\n",
       "    </tr>\n",
       "    <tr>\n",
       "      <th>25%</th>\n",
       "      <td>183.250000</td>\n",
       "      <td>2.000000</td>\n",
       "      <td>0.000000</td>\n",
       "      <td>4.000000</td>\n",
       "      <td>0.000000</td>\n",
       "      <td>1.000000</td>\n",
       "      <td>0.000000</td>\n",
       "      <td>1.000000</td>\n",
       "      <td>13.811885</td>\n",
       "      <td>16.889713</td>\n",
       "      <td>52.000000</td>\n",
       "      <td>9.041650</td>\n",
       "      <td>316.250000</td>\n",
       "      <td>2502.250000</td>\n",
       "      <td>3169.750000</td>\n",
       "    </tr>\n",
       "    <tr>\n",
       "      <th>50%</th>\n",
       "      <td>365.500000</td>\n",
       "      <td>3.000000</td>\n",
       "      <td>0.500000</td>\n",
       "      <td>7.000000</td>\n",
       "      <td>0.000000</td>\n",
       "      <td>3.000000</td>\n",
       "      <td>1.000000</td>\n",
       "      <td>1.000000</td>\n",
       "      <td>20.465826</td>\n",
       "      <td>24.368225</td>\n",
       "      <td>62.625000</td>\n",
       "      <td>12.125325</td>\n",
       "      <td>717.000000</td>\n",
       "      <td>3664.500000</td>\n",
       "      <td>4548.500000</td>\n",
       "    </tr>\n",
       "    <tr>\n",
       "      <th>75%</th>\n",
       "      <td>547.750000</td>\n",
       "      <td>3.000000</td>\n",
       "      <td>1.000000</td>\n",
       "      <td>10.000000</td>\n",
       "      <td>0.000000</td>\n",
       "      <td>5.000000</td>\n",
       "      <td>1.000000</td>\n",
       "      <td>2.000000</td>\n",
       "      <td>26.880615</td>\n",
       "      <td>30.445775</td>\n",
       "      <td>72.989575</td>\n",
       "      <td>15.625589</td>\n",
       "      <td>1096.500000</td>\n",
       "      <td>4783.250000</td>\n",
       "      <td>5966.000000</td>\n",
       "    </tr>\n",
       "    <tr>\n",
       "      <th>max</th>\n",
       "      <td>730.000000</td>\n",
       "      <td>4.000000</td>\n",
       "      <td>1.000000</td>\n",
       "      <td>12.000000</td>\n",
       "      <td>1.000000</td>\n",
       "      <td>6.000000</td>\n",
       "      <td>1.000000</td>\n",
       "      <td>3.000000</td>\n",
       "      <td>35.328347</td>\n",
       "      <td>42.044800</td>\n",
       "      <td>97.250000</td>\n",
       "      <td>34.000021</td>\n",
       "      <td>3410.000000</td>\n",
       "      <td>6946.000000</td>\n",
       "      <td>8714.000000</td>\n",
       "    </tr>\n",
       "  </tbody>\n",
       "</table>\n",
       "</div>"
      ],
      "text/plain": [
       "          instant      season          yr        mnth     holiday     weekday  \\\n",
       "count  730.000000  730.000000  730.000000  730.000000  730.000000  730.000000   \n",
       "mean   365.500000    2.498630    0.500000    6.526027    0.028767    2.997260   \n",
       "std    210.877136    1.110184    0.500343    3.450215    0.167266    2.006161   \n",
       "min      1.000000    1.000000    0.000000    1.000000    0.000000    0.000000   \n",
       "25%    183.250000    2.000000    0.000000    4.000000    0.000000    1.000000   \n",
       "50%    365.500000    3.000000    0.500000    7.000000    0.000000    3.000000   \n",
       "75%    547.750000    3.000000    1.000000   10.000000    0.000000    5.000000   \n",
       "max    730.000000    4.000000    1.000000   12.000000    1.000000    6.000000   \n",
       "\n",
       "       workingday  weathersit        temp       atemp         hum   windspeed  \\\n",
       "count  730.000000  730.000000  730.000000  730.000000  730.000000  730.000000   \n",
       "mean     0.683562    1.394521   20.319259   23.726322   62.765175   12.763620   \n",
       "std      0.465405    0.544807    7.506729    8.150308   14.237589    5.195841   \n",
       "min      0.000000    1.000000    2.424346    3.953480    0.000000    1.500244   \n",
       "25%      0.000000    1.000000   13.811885   16.889713   52.000000    9.041650   \n",
       "50%      1.000000    1.000000   20.465826   24.368225   62.625000   12.125325   \n",
       "75%      1.000000    2.000000   26.880615   30.445775   72.989575   15.625589   \n",
       "max      1.000000    3.000000   35.328347   42.044800   97.250000   34.000021   \n",
       "\n",
       "            casual   registered          cnt  \n",
       "count   730.000000   730.000000   730.000000  \n",
       "mean    849.249315  3658.757534  4508.006849  \n",
       "std     686.479875  1559.758728  1936.011647  \n",
       "min       2.000000    20.000000    22.000000  \n",
       "25%     316.250000  2502.250000  3169.750000  \n",
       "50%     717.000000  3664.500000  4548.500000  \n",
       "75%    1096.500000  4783.250000  5966.000000  \n",
       "max    3410.000000  6946.000000  8714.000000  "
      ]
     },
     "execution_count": 5,
     "metadata": {},
     "output_type": "execute_result"
    }
   ],
   "source": [
    "#Descirbe the information\n",
    "bikeSharing.describe()"
   ]
  },
  {
   "cell_type": "code",
   "execution_count": 6,
   "id": "140fa180",
   "metadata": {},
   "outputs": [
    {
     "name": "stdout",
     "output_type": "stream",
     "text": [
      "instant       0\n",
      "dteday        0\n",
      "season        0\n",
      "yr            0\n",
      "mnth          0\n",
      "holiday       0\n",
      "weekday       0\n",
      "workingday    0\n",
      "weathersit    0\n",
      "temp          0\n",
      "atemp         0\n",
      "hum           0\n",
      "windspeed     0\n",
      "casual        0\n",
      "registered    0\n",
      "cnt           0\n",
      "dtype: int64\n"
     ]
    }
   ],
   "source": [
    "#checking null values in dataset\n",
    "count=bikeSharing.isnull().sum()\n",
    "print(count)"
   ]
  },
  {
   "cell_type": "markdown",
   "id": "3fd34243",
   "metadata": {},
   "source": [
    "## Step 2: Data Preparation\n",
    "#### dataset have insignificant columns. We will drop following columns:\n",
    "#### instant is an index column.\n",
    "#### Column 'dteday' because yr and month represents similar information.\n",
    "#### Casual, Registered as their sum is present in 'cnt'.cnt is our target variable."
   ]
  },
  {
   "cell_type": "code",
   "execution_count": 7,
   "id": "d5e3d57c",
   "metadata": {},
   "outputs": [],
   "source": [
    "# 'instant' is an index column,so we will drop it\n",
    "bikeSharing.drop(['instant'],axis=1,inplace=True)"
   ]
  },
  {
   "cell_type": "code",
   "execution_count": 8,
   "id": "aa52d676",
   "metadata": {},
   "outputs": [
    {
     "data": {
      "text/plain": [
       "Index(['dteday', 'season', 'yr', 'mnth', 'holiday', 'weekday', 'workingday',\n",
       "       'weathersit', 'temp', 'atemp', 'hum', 'windspeed', 'casual',\n",
       "       'registered', 'cnt'],\n",
       "      dtype='object')"
      ]
     },
     "execution_count": 8,
     "metadata": {},
     "output_type": "execute_result"
    }
   ],
   "source": [
    "# Check the dataframe\n",
    "\n",
    "bikeSharing.columns"
   ]
  },
  {
   "cell_type": "code",
   "execution_count": 9,
   "id": "15201b41",
   "metadata": {},
   "outputs": [
    {
     "data": {
      "text/html": [
       "<div>\n",
       "<style scoped>\n",
       "    .dataframe tbody tr th:only-of-type {\n",
       "        vertical-align: middle;\n",
       "    }\n",
       "\n",
       "    .dataframe tbody tr th {\n",
       "        vertical-align: top;\n",
       "    }\n",
       "\n",
       "    .dataframe thead th {\n",
       "        text-align: right;\n",
       "    }\n",
       "</style>\n",
       "<table border=\"1\" class=\"dataframe\">\n",
       "  <thead>\n",
       "    <tr style=\"text-align: right;\">\n",
       "      <th></th>\n",
       "      <th>season</th>\n",
       "      <th>yr</th>\n",
       "      <th>mnth</th>\n",
       "      <th>holiday</th>\n",
       "      <th>weekday</th>\n",
       "      <th>workingday</th>\n",
       "      <th>weathersit</th>\n",
       "      <th>temp</th>\n",
       "      <th>atemp</th>\n",
       "      <th>hum</th>\n",
       "      <th>windspeed</th>\n",
       "      <th>cnt</th>\n",
       "    </tr>\n",
       "  </thead>\n",
       "  <tbody>\n",
       "    <tr>\n",
       "      <th>0</th>\n",
       "      <td>1</td>\n",
       "      <td>0</td>\n",
       "      <td>1</td>\n",
       "      <td>0</td>\n",
       "      <td>6</td>\n",
       "      <td>0</td>\n",
       "      <td>2</td>\n",
       "      <td>14.110847</td>\n",
       "      <td>18.18125</td>\n",
       "      <td>80.5833</td>\n",
       "      <td>10.749882</td>\n",
       "      <td>985</td>\n",
       "    </tr>\n",
       "    <tr>\n",
       "      <th>1</th>\n",
       "      <td>1</td>\n",
       "      <td>0</td>\n",
       "      <td>1</td>\n",
       "      <td>0</td>\n",
       "      <td>0</td>\n",
       "      <td>0</td>\n",
       "      <td>2</td>\n",
       "      <td>14.902598</td>\n",
       "      <td>17.68695</td>\n",
       "      <td>69.6087</td>\n",
       "      <td>16.652113</td>\n",
       "      <td>801</td>\n",
       "    </tr>\n",
       "    <tr>\n",
       "      <th>2</th>\n",
       "      <td>1</td>\n",
       "      <td>0</td>\n",
       "      <td>1</td>\n",
       "      <td>0</td>\n",
       "      <td>1</td>\n",
       "      <td>1</td>\n",
       "      <td>1</td>\n",
       "      <td>8.050924</td>\n",
       "      <td>9.47025</td>\n",
       "      <td>43.7273</td>\n",
       "      <td>16.636703</td>\n",
       "      <td>1349</td>\n",
       "    </tr>\n",
       "    <tr>\n",
       "      <th>3</th>\n",
       "      <td>1</td>\n",
       "      <td>0</td>\n",
       "      <td>1</td>\n",
       "      <td>0</td>\n",
       "      <td>2</td>\n",
       "      <td>1</td>\n",
       "      <td>1</td>\n",
       "      <td>8.200000</td>\n",
       "      <td>10.60610</td>\n",
       "      <td>59.0435</td>\n",
       "      <td>10.739832</td>\n",
       "      <td>1562</td>\n",
       "    </tr>\n",
       "    <tr>\n",
       "      <th>4</th>\n",
       "      <td>1</td>\n",
       "      <td>0</td>\n",
       "      <td>1</td>\n",
       "      <td>0</td>\n",
       "      <td>3</td>\n",
       "      <td>1</td>\n",
       "      <td>1</td>\n",
       "      <td>9.305237</td>\n",
       "      <td>11.46350</td>\n",
       "      <td>43.6957</td>\n",
       "      <td>12.522300</td>\n",
       "      <td>1600</td>\n",
       "    </tr>\n",
       "  </tbody>\n",
       "</table>\n",
       "</div>"
      ],
      "text/plain": [
       "   season  yr  mnth  holiday  weekday  workingday  weathersit       temp  \\\n",
       "0       1   0     1        0        6           0           2  14.110847   \n",
       "1       1   0     1        0        0           0           2  14.902598   \n",
       "2       1   0     1        0        1           1           1   8.050924   \n",
       "3       1   0     1        0        2           1           1   8.200000   \n",
       "4       1   0     1        0        3           1           1   9.305237   \n",
       "\n",
       "      atemp      hum  windspeed   cnt  \n",
       "0  18.18125  80.5833  10.749882   985  \n",
       "1  17.68695  69.6087  16.652113   801  \n",
       "2   9.47025  43.7273  16.636703  1349  \n",
       "3  10.60610  59.0435  10.739832  1562  \n",
       "4  11.46350  43.6957  12.522300  1600  "
      ]
     },
     "execution_count": 9,
     "metadata": {},
     "output_type": "execute_result"
    }
   ],
   "source": [
    "# Drop and check columns\n",
    "bikeSharing.drop(['dteday','casual','registered'],axis=1,inplace=True)\n",
    "bikeSharing.head()"
   ]
  },
  {
   "cell_type": "markdown",
   "id": "725a0e36",
   "metadata": {},
   "source": [
    "### Data conversion\n",
    "### Season,yr,mnth,holiday,weekday,workingday,weathersit all are categorical variables containing numeric representations.Hence, we need to convert them in categorical values to create dummy variables for them.\n",
    "### We will replace season,weekday and weathersit with appropriate values."
   ]
  },
  {
   "cell_type": "code",
   "execution_count": 10,
   "id": "ed14e2c4",
   "metadata": {},
   "outputs": [
    {
     "data": {
      "text/plain": [
       "1     62\n",
       "3     62\n",
       "5     62\n",
       "7     62\n",
       "8     62\n",
       "10    62\n",
       "12    62\n",
       "4     60\n",
       "6     60\n",
       "9     60\n",
       "11    60\n",
       "2     56\n",
       "Name: mnth, dtype: int64"
      ]
     },
     "execution_count": 10,
     "metadata": {},
     "output_type": "execute_result"
    }
   ],
   "source": [
    "\n",
    "bikeSharing['mnth'].value_counts()"
   ]
  },
  {
   "cell_type": "code",
   "execution_count": 11,
   "id": "6ea242b4",
   "metadata": {},
   "outputs": [
    {
     "data": {
      "text/plain": [
       "3    188\n",
       "2    184\n",
       "1    180\n",
       "4    178\n",
       "Name: season, dtype: int64"
      ]
     },
     "execution_count": 11,
     "metadata": {},
     "output_type": "execute_result"
    }
   ],
   "source": [
    "bikeSharing['season'].value_counts()"
   ]
  },
  {
   "cell_type": "code",
   "execution_count": 12,
   "id": "cfc447b8",
   "metadata": {},
   "outputs": [
    {
     "data": {
      "text/plain": [
       "1    463\n",
       "2    246\n",
       "3     21\n",
       "Name: weathersit, dtype: int64"
      ]
     },
     "execution_count": 12,
     "metadata": {},
     "output_type": "execute_result"
    }
   ],
   "source": [
    "bikeSharing['weathersit'].value_counts()"
   ]
  },
  {
   "cell_type": "code",
   "execution_count": 13,
   "id": "d213f78a",
   "metadata": {},
   "outputs": [
    {
     "data": {
      "text/plain": [
       "0    105\n",
       "1    105\n",
       "6    105\n",
       "2    104\n",
       "4    104\n",
       "5    104\n",
       "3    103\n",
       "Name: weekday, dtype: int64"
      ]
     },
     "execution_count": 13,
     "metadata": {},
     "output_type": "execute_result"
    }
   ],
   "source": [
    "bikeSharing['weekday'].value_counts()"
   ]
  },
  {
   "cell_type": "code",
   "execution_count": 14,
   "id": "fe99fde1",
   "metadata": {},
   "outputs": [
    {
     "data": {
      "text/html": [
       "<div>\n",
       "<style scoped>\n",
       "    .dataframe tbody tr th:only-of-type {\n",
       "        vertical-align: middle;\n",
       "    }\n",
       "\n",
       "    .dataframe tbody tr th {\n",
       "        vertical-align: top;\n",
       "    }\n",
       "\n",
       "    .dataframe thead th {\n",
       "        text-align: right;\n",
       "    }\n",
       "</style>\n",
       "<table border=\"1\" class=\"dataframe\">\n",
       "  <thead>\n",
       "    <tr style=\"text-align: right;\">\n",
       "      <th></th>\n",
       "      <th>season</th>\n",
       "      <th>yr</th>\n",
       "      <th>mnth</th>\n",
       "      <th>holiday</th>\n",
       "      <th>weekday</th>\n",
       "      <th>workingday</th>\n",
       "      <th>weathersit</th>\n",
       "      <th>temp</th>\n",
       "      <th>atemp</th>\n",
       "      <th>hum</th>\n",
       "      <th>windspeed</th>\n",
       "      <th>cnt</th>\n",
       "    </tr>\n",
       "  </thead>\n",
       "  <tbody>\n",
       "    <tr>\n",
       "      <th>0</th>\n",
       "      <td>spring</td>\n",
       "      <td>0</td>\n",
       "      <td>Jan</td>\n",
       "      <td>0</td>\n",
       "      <td>Saturday</td>\n",
       "      <td>0</td>\n",
       "      <td>Mist_cloudy</td>\n",
       "      <td>14.110847</td>\n",
       "      <td>18.18125</td>\n",
       "      <td>80.5833</td>\n",
       "      <td>10.749882</td>\n",
       "      <td>985</td>\n",
       "    </tr>\n",
       "    <tr>\n",
       "      <th>1</th>\n",
       "      <td>spring</td>\n",
       "      <td>0</td>\n",
       "      <td>Jan</td>\n",
       "      <td>0</td>\n",
       "      <td>Sunday</td>\n",
       "      <td>0</td>\n",
       "      <td>Mist_cloudy</td>\n",
       "      <td>14.902598</td>\n",
       "      <td>17.68695</td>\n",
       "      <td>69.6087</td>\n",
       "      <td>16.652113</td>\n",
       "      <td>801</td>\n",
       "    </tr>\n",
       "    <tr>\n",
       "      <th>2</th>\n",
       "      <td>spring</td>\n",
       "      <td>0</td>\n",
       "      <td>Jan</td>\n",
       "      <td>0</td>\n",
       "      <td>Monday</td>\n",
       "      <td>1</td>\n",
       "      <td>Clear_Few Clouds</td>\n",
       "      <td>8.050924</td>\n",
       "      <td>9.47025</td>\n",
       "      <td>43.7273</td>\n",
       "      <td>16.636703</td>\n",
       "      <td>1349</td>\n",
       "    </tr>\n",
       "    <tr>\n",
       "      <th>3</th>\n",
       "      <td>spring</td>\n",
       "      <td>0</td>\n",
       "      <td>Jan</td>\n",
       "      <td>0</td>\n",
       "      <td>Tuesday</td>\n",
       "      <td>1</td>\n",
       "      <td>Clear_Few Clouds</td>\n",
       "      <td>8.200000</td>\n",
       "      <td>10.60610</td>\n",
       "      <td>59.0435</td>\n",
       "      <td>10.739832</td>\n",
       "      <td>1562</td>\n",
       "    </tr>\n",
       "    <tr>\n",
       "      <th>4</th>\n",
       "      <td>spring</td>\n",
       "      <td>0</td>\n",
       "      <td>Jan</td>\n",
       "      <td>0</td>\n",
       "      <td>Wednesday</td>\n",
       "      <td>1</td>\n",
       "      <td>Clear_Few Clouds</td>\n",
       "      <td>9.305237</td>\n",
       "      <td>11.46350</td>\n",
       "      <td>43.6957</td>\n",
       "      <td>12.522300</td>\n",
       "      <td>1600</td>\n",
       "    </tr>\n",
       "    <tr>\n",
       "      <th>5</th>\n",
       "      <td>spring</td>\n",
       "      <td>0</td>\n",
       "      <td>Jan</td>\n",
       "      <td>0</td>\n",
       "      <td>Thursday</td>\n",
       "      <td>1</td>\n",
       "      <td>Clear_Few Clouds</td>\n",
       "      <td>8.378268</td>\n",
       "      <td>11.66045</td>\n",
       "      <td>51.8261</td>\n",
       "      <td>6.000868</td>\n",
       "      <td>1606</td>\n",
       "    </tr>\n",
       "    <tr>\n",
       "      <th>6</th>\n",
       "      <td>spring</td>\n",
       "      <td>0</td>\n",
       "      <td>Jan</td>\n",
       "      <td>0</td>\n",
       "      <td>Friday</td>\n",
       "      <td>1</td>\n",
       "      <td>Mist_cloudy</td>\n",
       "      <td>8.057402</td>\n",
       "      <td>10.44195</td>\n",
       "      <td>49.8696</td>\n",
       "      <td>11.304642</td>\n",
       "      <td>1510</td>\n",
       "    </tr>\n",
       "    <tr>\n",
       "      <th>7</th>\n",
       "      <td>spring</td>\n",
       "      <td>0</td>\n",
       "      <td>Jan</td>\n",
       "      <td>0</td>\n",
       "      <td>Saturday</td>\n",
       "      <td>0</td>\n",
       "      <td>Mist_cloudy</td>\n",
       "      <td>6.765000</td>\n",
       "      <td>8.11270</td>\n",
       "      <td>53.5833</td>\n",
       "      <td>17.875868</td>\n",
       "      <td>959</td>\n",
       "    </tr>\n",
       "    <tr>\n",
       "      <th>8</th>\n",
       "      <td>spring</td>\n",
       "      <td>0</td>\n",
       "      <td>Jan</td>\n",
       "      <td>0</td>\n",
       "      <td>Sunday</td>\n",
       "      <td>0</td>\n",
       "      <td>Clear_Few Clouds</td>\n",
       "      <td>5.671653</td>\n",
       "      <td>5.80875</td>\n",
       "      <td>43.4167</td>\n",
       "      <td>24.250650</td>\n",
       "      <td>822</td>\n",
       "    </tr>\n",
       "    <tr>\n",
       "      <th>9</th>\n",
       "      <td>spring</td>\n",
       "      <td>0</td>\n",
       "      <td>Jan</td>\n",
       "      <td>0</td>\n",
       "      <td>Monday</td>\n",
       "      <td>1</td>\n",
       "      <td>Clear_Few Clouds</td>\n",
       "      <td>6.184153</td>\n",
       "      <td>7.54440</td>\n",
       "      <td>48.2917</td>\n",
       "      <td>14.958889</td>\n",
       "      <td>1321</td>\n",
       "    </tr>\n",
       "  </tbody>\n",
       "</table>\n",
       "</div>"
      ],
      "text/plain": [
       "   season  yr mnth  holiday    weekday  workingday        weathersit  \\\n",
       "0  spring   0  Jan        0   Saturday           0       Mist_cloudy   \n",
       "1  spring   0  Jan        0     Sunday           0       Mist_cloudy   \n",
       "2  spring   0  Jan        0     Monday           1  Clear_Few Clouds   \n",
       "3  spring   0  Jan        0    Tuesday           1  Clear_Few Clouds   \n",
       "4  spring   0  Jan        0  Wednesday           1  Clear_Few Clouds   \n",
       "5  spring   0  Jan        0   Thursday           1  Clear_Few Clouds   \n",
       "6  spring   0  Jan        0     Friday           1       Mist_cloudy   \n",
       "7  spring   0  Jan        0   Saturday           0       Mist_cloudy   \n",
       "8  spring   0  Jan        0     Sunday           0  Clear_Few Clouds   \n",
       "9  spring   0  Jan        0     Monday           1  Clear_Few Clouds   \n",
       "\n",
       "        temp     atemp      hum  windspeed   cnt  \n",
       "0  14.110847  18.18125  80.5833  10.749882   985  \n",
       "1  14.902598  17.68695  69.6087  16.652113   801  \n",
       "2   8.050924   9.47025  43.7273  16.636703  1349  \n",
       "3   8.200000  10.60610  59.0435  10.739832  1562  \n",
       "4   9.305237  11.46350  43.6957  12.522300  1600  \n",
       "5   8.378268  11.66045  51.8261   6.000868  1606  \n",
       "6   8.057402  10.44195  49.8696  11.304642  1510  \n",
       "7   6.765000   8.11270  53.5833  17.875868   959  \n",
       "8   5.671653   5.80875  43.4167  24.250650   822  \n",
       "9   6.184153   7.54440  48.2917  14.958889  1321  "
      ]
     },
     "execution_count": 14,
     "metadata": {},
     "output_type": "execute_result"
    }
   ],
   "source": [
    "# ReNaming categorical variables for better representation, based on Data dictionary and assumption.\n",
    "bikeSharing['season'].replace({1:\"spring\",2:\"summer\",3:\"fall\",4:\"winter\"},inplace=True)\n",
    "bikeSharing['weathersit'].replace({1:\"Clear_Few Clouds\",2:\"Mist_cloudy\",3:\"Light rain_Light snow_Thunderstorm\"},inplace=True)\n",
    "bikeSharing['weekday'].replace({0:\"Sunday\",1:\"Monday\",2:\"Tuesday\",3:\"Wednesday\",4:\"Thursday\",5:\"Friday\",6:\"Saturday\"},inplace=True)\n",
    "bikeSharing['mnth'].replace({1:\"Jan\",2:\"Feb\",3:\"Mar\",4:\"Apr\",5:\"May\",6:\"Jun\",7:\"Jul\",8:\"Aug\",9:\"Sep\",10:\"Oct\",11:\"Nov\",12:\"Dec\"},inplace=True)\n",
    "\n",
    "bikeSharing.head(10)"
   ]
  },
  {
   "cell_type": "code",
   "execution_count": 15,
   "id": "28b531af",
   "metadata": {},
   "outputs": [
    {
     "data": {
      "text/plain": [
       "Dec    62\n",
       "Jan    62\n",
       "Mar    62\n",
       "Jul    62\n",
       "Oct    62\n",
       "May    62\n",
       "Aug    62\n",
       "Nov    60\n",
       "Sep    60\n",
       "Apr    60\n",
       "Jun    60\n",
       "Feb    56\n",
       "Name: mnth, dtype: int64"
      ]
     },
     "execution_count": 15,
     "metadata": {},
     "output_type": "execute_result"
    }
   ],
   "source": [
    "bikeSharing['mnth'].value_counts()"
   ]
  },
  {
   "cell_type": "code",
   "execution_count": 16,
   "id": "8a589158",
   "metadata": {},
   "outputs": [
    {
     "data": {
      "text/plain": [
       "fall      188\n",
       "summer    184\n",
       "spring    180\n",
       "winter    178\n",
       "Name: season, dtype: int64"
      ]
     },
     "execution_count": 16,
     "metadata": {},
     "output_type": "execute_result"
    }
   ],
   "source": [
    "bikeSharing['season'].value_counts()"
   ]
  },
  {
   "cell_type": "code",
   "execution_count": 17,
   "id": "c941b76d",
   "metadata": {},
   "outputs": [
    {
     "data": {
      "text/plain": [
       "Clear_Few Clouds                      463\n",
       "Mist_cloudy                           246\n",
       "Light rain_Light snow_Thunderstorm     21\n",
       "Name: weathersit, dtype: int64"
      ]
     },
     "execution_count": 17,
     "metadata": {},
     "output_type": "execute_result"
    }
   ],
   "source": [
    "bikeSharing['weathersit'].value_counts()"
   ]
  },
  {
   "cell_type": "code",
   "execution_count": 18,
   "id": "657f5bd2",
   "metadata": {},
   "outputs": [
    {
     "data": {
      "text/plain": [
       "Monday       105\n",
       "Sunday       105\n",
       "Saturday     105\n",
       "Tuesday      104\n",
       "Friday       104\n",
       "Thursday     104\n",
       "Wednesday    103\n",
       "Name: weekday, dtype: int64"
      ]
     },
     "execution_count": 18,
     "metadata": {},
     "output_type": "execute_result"
    }
   ],
   "source": [
    "bikeSharing['weekday'].value_counts()"
   ]
  },
  {
   "cell_type": "code",
   "execution_count": 19,
   "id": "e2365bbe",
   "metadata": {},
   "outputs": [
    {
     "name": "stdout",
     "output_type": "stream",
     "text": [
      "<class 'pandas.core.frame.DataFrame'>\n",
      "RangeIndex: 730 entries, 0 to 729\n",
      "Data columns (total 12 columns):\n",
      " #   Column      Non-Null Count  Dtype  \n",
      "---  ------      --------------  -----  \n",
      " 0   season      730 non-null    object \n",
      " 1   yr          730 non-null    int64  \n",
      " 2   mnth        730 non-null    object \n",
      " 3   holiday     730 non-null    int64  \n",
      " 4   weekday     730 non-null    object \n",
      " 5   workingday  730 non-null    int64  \n",
      " 6   weathersit  730 non-null    object \n",
      " 7   temp        730 non-null    float64\n",
      " 8   atemp       730 non-null    float64\n",
      " 9   hum         730 non-null    float64\n",
      " 10  windspeed   730 non-null    float64\n",
      " 11  cnt         730 non-null    int64  \n",
      "dtypes: float64(4), int64(4), object(4)\n",
      "memory usage: 68.6+ KB\n"
     ]
    }
   ],
   "source": [
    "#Changing datatypes of numerical variables to appropriate types\n",
    "bikeSharing[['temp','atemp','hum','windspeed','cnt']]=bikeSharing[['temp','atemp','hum','windspeed','cnt']].apply(pd.to_numeric)\n",
    "bikeSharing.info()"
   ]
  },
  {
   "cell_type": "markdown",
   "id": "1a1dd489",
   "metadata": {},
   "source": [
    "## Step 3: Data Visualization\n",
    "### Let get understanding of the data.\n",
    "### If there is some obvious multicollinearity going on, this is the first place to catch it\n",
    "### Here's where you'll also identify if some predictors directly have a strong association with the outcome variable"
   ]
  },
  {
   "cell_type": "markdown",
   "id": "0032b522",
   "metadata": {},
   "source": [
    "## Numeric Variables Visualization"
   ]
  },
  {
   "cell_type": "code",
   "execution_count": 20,
   "id": "f548163c",
   "metadata": {},
   "outputs": [
    {
     "data": {
      "image/png": "[encoded data removed]",
      "text/plain": [
       "<Figure size 900x900 with 30 Axes>"
      ]
     },
     "metadata": {
      "needs_background": "light"
     },
     "output_type": "display_data"
    }
   ],
   "source": [
    "#Let's visualize through pairplot of all the numeric variables\n",
    "sns.pairplot(bikeSharing, vars=['hum','windspeed','temp','atemp','cnt'])\n",
    "plt.show()"
   ]
  },
  {
   "cell_type": "code",
   "execution_count": 21,
   "id": "4a24acd9",
   "metadata": {},
   "outputs": [
    {
     "data": {
      "image/png": "[encoded data removed]",
      "text/plain": [
       "<Figure size 1152x720 with 2 Axes>"
      ]
     },
     "metadata": {
      "needs_background": "light"
     },
     "output_type": "display_data"
    }
   ],
   "source": [
    "#Check Correlation\n",
    "plt.figure(figsize = (16, 10))\n",
    "sns.heatmap(bikeSharing.corr(), annot = True, cmap=\"Greens\")\n",
    "plt.show()"
   ]
  },
  {
   "cell_type": "markdown",
   "id": "6cc9b5c8",
   "metadata": {},
   "source": [
    "## Observations:"
   ]
  },
  {
   "cell_type": "markdown",
   "id": "04fc1062",
   "metadata": {},
   "source": [
    "### High correlation between temp and atemp (0.99 which is almost 1)."
   ]
  },
  {
   "cell_type": "code",
   "execution_count": 22,
   "id": "32d6c813",
   "metadata": {},
   "outputs": [
    {
     "data": {
      "text/html": [
       "<div>\n",
       "<style scoped>\n",
       "    .dataframe tbody tr th:only-of-type {\n",
       "        vertical-align: middle;\n",
       "    }\n",
       "\n",
       "    .dataframe tbody tr th {\n",
       "        vertical-align: top;\n",
       "    }\n",
       "\n",
       "    .dataframe thead th {\n",
       "        text-align: right;\n",
       "    }\n",
       "</style>\n",
       "<table border=\"1\" class=\"dataframe\">\n",
       "  <thead>\n",
       "    <tr style=\"text-align: right;\">\n",
       "      <th></th>\n",
       "      <th>season</th>\n",
       "      <th>yr</th>\n",
       "      <th>mnth</th>\n",
       "      <th>holiday</th>\n",
       "      <th>weekday</th>\n",
       "      <th>workingday</th>\n",
       "      <th>weathersit</th>\n",
       "      <th>atemp</th>\n",
       "      <th>hum</th>\n",
       "      <th>windspeed</th>\n",
       "      <th>cnt</th>\n",
       "    </tr>\n",
       "  </thead>\n",
       "  <tbody>\n",
       "    <tr>\n",
       "      <th>0</th>\n",
       "      <td>spring</td>\n",
       "      <td>0</td>\n",
       "      <td>Jan</td>\n",
       "      <td>0</td>\n",
       "      <td>Saturday</td>\n",
       "      <td>0</td>\n",
       "      <td>Mist_cloudy</td>\n",
       "      <td>18.18125</td>\n",
       "      <td>80.5833</td>\n",
       "      <td>10.749882</td>\n",
       "      <td>985</td>\n",
       "    </tr>\n",
       "    <tr>\n",
       "      <th>1</th>\n",
       "      <td>spring</td>\n",
       "      <td>0</td>\n",
       "      <td>Jan</td>\n",
       "      <td>0</td>\n",
       "      <td>Sunday</td>\n",
       "      <td>0</td>\n",
       "      <td>Mist_cloudy</td>\n",
       "      <td>17.68695</td>\n",
       "      <td>69.6087</td>\n",
       "      <td>16.652113</td>\n",
       "      <td>801</td>\n",
       "    </tr>\n",
       "    <tr>\n",
       "      <th>2</th>\n",
       "      <td>spring</td>\n",
       "      <td>0</td>\n",
       "      <td>Jan</td>\n",
       "      <td>0</td>\n",
       "      <td>Monday</td>\n",
       "      <td>1</td>\n",
       "      <td>Clear_Few Clouds</td>\n",
       "      <td>9.47025</td>\n",
       "      <td>43.7273</td>\n",
       "      <td>16.636703</td>\n",
       "      <td>1349</td>\n",
       "    </tr>\n",
       "    <tr>\n",
       "      <th>3</th>\n",
       "      <td>spring</td>\n",
       "      <td>0</td>\n",
       "      <td>Jan</td>\n",
       "      <td>0</td>\n",
       "      <td>Tuesday</td>\n",
       "      <td>1</td>\n",
       "      <td>Clear_Few Clouds</td>\n",
       "      <td>10.60610</td>\n",
       "      <td>59.0435</td>\n",
       "      <td>10.739832</td>\n",
       "      <td>1562</td>\n",
       "    </tr>\n",
       "    <tr>\n",
       "      <th>4</th>\n",
       "      <td>spring</td>\n",
       "      <td>0</td>\n",
       "      <td>Jan</td>\n",
       "      <td>0</td>\n",
       "      <td>Wednesday</td>\n",
       "      <td>1</td>\n",
       "      <td>Clear_Few Clouds</td>\n",
       "      <td>11.46350</td>\n",
       "      <td>43.6957</td>\n",
       "      <td>12.522300</td>\n",
       "      <td>1600</td>\n",
       "    </tr>\n",
       "  </tbody>\n",
       "</table>\n",
       "</div>"
      ],
      "text/plain": [
       "   season  yr mnth  holiday    weekday  workingday        weathersit  \\\n",
       "0  spring   0  Jan        0   Saturday           0       Mist_cloudy   \n",
       "1  spring   0  Jan        0     Sunday           0       Mist_cloudy   \n",
       "2  spring   0  Jan        0     Monday           1  Clear_Few Clouds   \n",
       "3  spring   0  Jan        0    Tuesday           1  Clear_Few Clouds   \n",
       "4  spring   0  Jan        0  Wednesday           1  Clear_Few Clouds   \n",
       "\n",
       "      atemp      hum  windspeed   cnt  \n",
       "0  18.18125  80.5833  10.749882   985  \n",
       "1  17.68695  69.6087  16.652113   801  \n",
       "2   9.47025  43.7273  16.636703  1349  \n",
       "3  10.60610  59.0435  10.739832  1562  \n",
       "4  11.46350  43.6957  12.522300  1600  "
      ]
     },
     "execution_count": 22,
     "metadata": {},
     "output_type": "execute_result"
    }
   ],
   "source": [
    "#Due to high collinearity, We will drop temp and will keep atemp\n",
    "bikeSharing.drop(['temp'],axis=1,inplace=True)\n",
    "bikeSharing.head()"
   ]
  },
  {
   "cell_type": "markdown",
   "id": "ff6312f1",
   "metadata": {},
   "source": [
    "## Visualising Categorical Variables\n",
    "### As there are a few categorical variables as well. Let's make a boxplot for some of these variables."
   ]
  },
  {
   "cell_type": "code",
   "execution_count": 23,
   "id": "18aa5157",
   "metadata": {},
   "outputs": [
    {
     "data": {
      "image/png": "[encoded data removed]",
      "text/plain": [
       "<Figure size 1440x1080 with 7 Axes>"
      ]
     },
     "metadata": {
      "needs_background": "light"
     },
     "output_type": "display_data"
    }
   ],
   "source": [
    "#Visualising categorical Variables to understand data better\n",
    "plt.figure(figsize=(20, 15))\n",
    "plt.subplot(4,2,1)\n",
    "sns.boxplot(x = 'season', y = 'cnt', data = bikeSharing)\n",
    "plt.subplot(4,2,2)\n",
    "sns.boxplot(x = 'weathersit', y = 'cnt', data = bikeSharing)\n",
    "plt.subplot(4,2,3)\n",
    "sns.boxplot(x = 'mnth', y = 'cnt', data = bikeSharing)\n",
    "plt.subplot(4,2,4)\n",
    "sns.boxplot(x = 'yr', y = 'cnt', data = bikeSharing)\n",
    "plt.subplot(4,2,5)\n",
    "sns.boxplot(x = 'workingday', y = 'cnt', data = bikeSharing)\n",
    "plt.subplot(4,2,6)\n",
    "sns.boxplot(x = 'weekday', y = 'cnt', data = bikeSharing)\n",
    "plt.subplot(4,2,7)\n",
    "sns.boxplot(x = 'holiday', y = 'cnt', data = bikeSharing)\n",
    "plt.show()"
   ]
  },
  {
   "cell_type": "markdown",
   "id": "2754bcec",
   "metadata": {},
   "source": [
    "## Creating Dummy Variables\n",
    "### In order to fit a regression line, we would need numerical values instead of categorical values."
   ]
  },
  {
   "cell_type": "code",
   "execution_count": 24,
   "id": "0601b95b",
   "metadata": {},
   "outputs": [
    {
     "name": "stdout",
     "output_type": "stream",
     "text": [
      "<class 'pandas.core.frame.DataFrame'>\n",
      "RangeIndex: 730 entries, 0 to 729\n",
      "Data columns (total 11 columns):\n",
      " #   Column      Non-Null Count  Dtype  \n",
      "---  ------      --------------  -----  \n",
      " 0   season      730 non-null    object \n",
      " 1   yr          730 non-null    int64  \n",
      " 2   mnth        730 non-null    object \n",
      " 3   holiday     730 non-null    int64  \n",
      " 4   weekday     730 non-null    object \n",
      " 5   workingday  730 non-null    int64  \n",
      " 6   weathersit  730 non-null    object \n",
      " 7   atemp       730 non-null    float64\n",
      " 8   hum         730 non-null    float64\n",
      " 9   windspeed   730 non-null    float64\n",
      " 10  cnt         730 non-null    int64  \n",
      "dtypes: float64(3), int64(4), object(4)\n",
      "memory usage: 62.9+ KB\n"
     ]
    }
   ],
   "source": [
    "#Variables conversion\n",
    "bikeSharing['mnth']=bikeSharing['mnth'].astype(object)\n",
    "bikeSharing['season']=bikeSharing['season'].astype(object)\n",
    "bikeSharing['weathersit']=bikeSharing['weathersit'].astype(object)\n",
    "bikeSharing['weekday']=bikeSharing['weekday'].astype(object)\n",
    "bikeSharing.info()"
   ]
  },
  {
   "cell_type": "code",
   "execution_count": 25,
   "id": "2a4a1f44",
   "metadata": {},
   "outputs": [
    {
     "data": {
      "text/html": [
       "<div>\n",
       "<style scoped>\n",
       "    .dataframe tbody tr th:only-of-type {\n",
       "        vertical-align: middle;\n",
       "    }\n",
       "\n",
       "    .dataframe tbody tr th {\n",
       "        vertical-align: top;\n",
       "    }\n",
       "\n",
       "    .dataframe thead th {\n",
       "        text-align: right;\n",
       "    }\n",
       "</style>\n",
       "<table border=\"1\" class=\"dataframe\">\n",
       "  <thead>\n",
       "    <tr style=\"text-align: right;\">\n",
       "      <th></th>\n",
       "      <th>season</th>\n",
       "      <th>yr</th>\n",
       "      <th>mnth</th>\n",
       "      <th>holiday</th>\n",
       "      <th>weekday</th>\n",
       "      <th>workingday</th>\n",
       "      <th>weathersit</th>\n",
       "      <th>atemp</th>\n",
       "      <th>hum</th>\n",
       "      <th>windspeed</th>\n",
       "      <th>cnt</th>\n",
       "    </tr>\n",
       "  </thead>\n",
       "  <tbody>\n",
       "    <tr>\n",
       "      <th>0</th>\n",
       "      <td>spring</td>\n",
       "      <td>0</td>\n",
       "      <td>Jan</td>\n",
       "      <td>0</td>\n",
       "      <td>Saturday</td>\n",
       "      <td>0</td>\n",
       "      <td>Mist_cloudy</td>\n",
       "      <td>18.18125</td>\n",
       "      <td>80.5833</td>\n",
       "      <td>10.749882</td>\n",
       "      <td>985</td>\n",
       "    </tr>\n",
       "    <tr>\n",
       "      <th>1</th>\n",
       "      <td>spring</td>\n",
       "      <td>0</td>\n",
       "      <td>Jan</td>\n",
       "      <td>0</td>\n",
       "      <td>Sunday</td>\n",
       "      <td>0</td>\n",
       "      <td>Mist_cloudy</td>\n",
       "      <td>17.68695</td>\n",
       "      <td>69.6087</td>\n",
       "      <td>16.652113</td>\n",
       "      <td>801</td>\n",
       "    </tr>\n",
       "    <tr>\n",
       "      <th>2</th>\n",
       "      <td>spring</td>\n",
       "      <td>0</td>\n",
       "      <td>Jan</td>\n",
       "      <td>0</td>\n",
       "      <td>Monday</td>\n",
       "      <td>1</td>\n",
       "      <td>Clear_Few Clouds</td>\n",
       "      <td>9.47025</td>\n",
       "      <td>43.7273</td>\n",
       "      <td>16.636703</td>\n",
       "      <td>1349</td>\n",
       "    </tr>\n",
       "    <tr>\n",
       "      <th>3</th>\n",
       "      <td>spring</td>\n",
       "      <td>0</td>\n",
       "      <td>Jan</td>\n",
       "      <td>0</td>\n",
       "      <td>Tuesday</td>\n",
       "      <td>1</td>\n",
       "      <td>Clear_Few Clouds</td>\n",
       "      <td>10.60610</td>\n",
       "      <td>59.0435</td>\n",
       "      <td>10.739832</td>\n",
       "      <td>1562</td>\n",
       "    </tr>\n",
       "    <tr>\n",
       "      <th>4</th>\n",
       "      <td>spring</td>\n",
       "      <td>0</td>\n",
       "      <td>Jan</td>\n",
       "      <td>0</td>\n",
       "      <td>Wednesday</td>\n",
       "      <td>1</td>\n",
       "      <td>Clear_Few Clouds</td>\n",
       "      <td>11.46350</td>\n",
       "      <td>43.6957</td>\n",
       "      <td>12.522300</td>\n",
       "      <td>1600</td>\n",
       "    </tr>\n",
       "  </tbody>\n",
       "</table>\n",
       "</div>"
      ],
      "text/plain": [
       "   season  yr mnth  holiday    weekday  workingday        weathersit  \\\n",
       "0  spring   0  Jan        0   Saturday           0       Mist_cloudy   \n",
       "1  spring   0  Jan        0     Sunday           0       Mist_cloudy   \n",
       "2  spring   0  Jan        0     Monday           1  Clear_Few Clouds   \n",
       "3  spring   0  Jan        0    Tuesday           1  Clear_Few Clouds   \n",
       "4  spring   0  Jan        0  Wednesday           1  Clear_Few Clouds   \n",
       "\n",
       "      atemp      hum  windspeed   cnt  \n",
       "0  18.18125  80.5833  10.749882   985  \n",
       "1  17.68695  69.6087  16.652113   801  \n",
       "2   9.47025  43.7273  16.636703  1349  \n",
       "3  10.60610  59.0435  10.739832  1562  \n",
       "4  11.46350  43.6957  12.522300  1600  "
      ]
     },
     "execution_count": 25,
     "metadata": {},
     "output_type": "execute_result"
    }
   ],
   "source": [
    "bikeSharing.head()"
   ]
  },
  {
   "cell_type": "code",
   "execution_count": 26,
   "id": "a2d342b5",
   "metadata": {},
   "outputs": [],
   "source": [
    "# Get the dummy variables for the features and store these in a new variables\n",
    "Season_Cond=pd.get_dummies(bikeSharing['season'],drop_first=True)\n",
    "Weather_Cond=pd.get_dummies(bikeSharing['weathersit'],drop_first=True)\n",
    "Day_of_Week=pd.get_dummies(bikeSharing['weekday'],drop_first=True)\n",
    "Month=pd.get_dummies(bikeSharing['mnth'],drop_first=True)"
   ]
  },
  {
   "cell_type": "code",
   "execution_count": 27,
   "id": "7a07be9c",
   "metadata": {},
   "outputs": [
    {
     "data": {
      "text/html": [
       "<div>\n",
       "<style scoped>\n",
       "    .dataframe tbody tr th:only-of-type {\n",
       "        vertical-align: middle;\n",
       "    }\n",
       "\n",
       "    .dataframe tbody tr th {\n",
       "        vertical-align: top;\n",
       "    }\n",
       "\n",
       "    .dataframe thead th {\n",
       "        text-align: right;\n",
       "    }\n",
       "</style>\n",
       "<table border=\"1\" class=\"dataframe\">\n",
       "  <thead>\n",
       "    <tr style=\"text-align: right;\">\n",
       "      <th></th>\n",
       "      <th>Light rain_Light snow_Thunderstorm</th>\n",
       "      <th>Mist_cloudy</th>\n",
       "    </tr>\n",
       "  </thead>\n",
       "  <tbody>\n",
       "    <tr>\n",
       "      <th>0</th>\n",
       "      <td>0</td>\n",
       "      <td>1</td>\n",
       "    </tr>\n",
       "    <tr>\n",
       "      <th>1</th>\n",
       "      <td>0</td>\n",
       "      <td>1</td>\n",
       "    </tr>\n",
       "    <tr>\n",
       "      <th>2</th>\n",
       "      <td>0</td>\n",
       "      <td>0</td>\n",
       "    </tr>\n",
       "    <tr>\n",
       "      <th>3</th>\n",
       "      <td>0</td>\n",
       "      <td>0</td>\n",
       "    </tr>\n",
       "    <tr>\n",
       "      <th>4</th>\n",
       "      <td>0</td>\n",
       "      <td>0</td>\n",
       "    </tr>\n",
       "    <tr>\n",
       "      <th>...</th>\n",
       "      <td>...</td>\n",
       "      <td>...</td>\n",
       "    </tr>\n",
       "    <tr>\n",
       "      <th>725</th>\n",
       "      <td>0</td>\n",
       "      <td>1</td>\n",
       "    </tr>\n",
       "    <tr>\n",
       "      <th>726</th>\n",
       "      <td>0</td>\n",
       "      <td>1</td>\n",
       "    </tr>\n",
       "    <tr>\n",
       "      <th>727</th>\n",
       "      <td>0</td>\n",
       "      <td>1</td>\n",
       "    </tr>\n",
       "    <tr>\n",
       "      <th>728</th>\n",
       "      <td>0</td>\n",
       "      <td>0</td>\n",
       "    </tr>\n",
       "    <tr>\n",
       "      <th>729</th>\n",
       "      <td>0</td>\n",
       "      <td>1</td>\n",
       "    </tr>\n",
       "  </tbody>\n",
       "</table>\n",
       "<p>730 rows × 2 columns</p>\n",
       "</div>"
      ],
      "text/plain": [
       "     Light rain_Light snow_Thunderstorm  Mist_cloudy\n",
       "0                                     0            1\n",
       "1                                     0            1\n",
       "2                                     0            0\n",
       "3                                     0            0\n",
       "4                                     0            0\n",
       "..                                  ...          ...\n",
       "725                                   0            1\n",
       "726                                   0            1\n",
       "727                                   0            1\n",
       "728                                   0            0\n",
       "729                                   0            1\n",
       "\n",
       "[730 rows x 2 columns]"
      ]
     },
     "execution_count": 27,
     "metadata": {},
     "output_type": "execute_result"
    }
   ],
   "source": [
    "Weather_Cond"
   ]
  },
  {
   "cell_type": "code",
   "execution_count": 28,
   "id": "7974c2fe",
   "metadata": {},
   "outputs": [
    {
     "name": "stdout",
     "output_type": "stream",
     "text": [
      "<class 'pandas.core.frame.DataFrame'>\n",
      "RangeIndex: 730 entries, 0 to 729\n",
      "Data columns (total 33 columns):\n",
      " #   Column                              Non-Null Count  Dtype  \n",
      "---  ------                              --------------  -----  \n",
      " 0   season                              730 non-null    object \n",
      " 1   yr                                  730 non-null    int64  \n",
      " 2   mnth                                730 non-null    object \n",
      " 3   holiday                             730 non-null    int64  \n",
      " 4   weekday                             730 non-null    object \n",
      " 5   workingday                          730 non-null    int64  \n",
      " 6   weathersit                          730 non-null    object \n",
      " 7   atemp                               730 non-null    float64\n",
      " 8   hum                                 730 non-null    float64\n",
      " 9   windspeed                           730 non-null    float64\n",
      " 10  cnt                                 730 non-null    int64  \n",
      " 11  spring                              730 non-null    uint8  \n",
      " 12  summer                              730 non-null    uint8  \n",
      " 13  winter                              730 non-null    uint8  \n",
      " 14  Light rain_Light snow_Thunderstorm  730 non-null    uint8  \n",
      " 15  Mist_cloudy                         730 non-null    uint8  \n",
      " 16  Monday                              730 non-null    uint8  \n",
      " 17  Saturday                            730 non-null    uint8  \n",
      " 18  Sunday                              730 non-null    uint8  \n",
      " 19  Thursday                            730 non-null    uint8  \n",
      " 20  Tuesday                             730 non-null    uint8  \n",
      " 21  Wednesday                           730 non-null    uint8  \n",
      " 22  Aug                                 730 non-null    uint8  \n",
      " 23  Dec                                 730 non-null    uint8  \n",
      " 24  Feb                                 730 non-null    uint8  \n",
      " 25  Jan                                 730 non-null    uint8  \n",
      " 26  Jul                                 730 non-null    uint8  \n",
      " 27  Jun                                 730 non-null    uint8  \n",
      " 28  Mar                                 730 non-null    uint8  \n",
      " 29  May                                 730 non-null    uint8  \n",
      " 30  Nov                                 730 non-null    uint8  \n",
      " 31  Oct                                 730 non-null    uint8  \n",
      " 32  Sep                                 730 non-null    uint8  \n",
      "dtypes: float64(3), int64(4), object(4), uint8(22)\n",
      "memory usage: 78.5+ KB\n"
     ]
    }
   ],
   "source": [
    "# Let's concatinate these dummy variables in bikeSharing dataset\n",
    "bikeSharing=pd.concat([bikeSharing,Season_Cond],axis=1)\n",
    "bikeSharing=pd.concat([bikeSharing,Weather_Cond],axis=1)\n",
    "bikeSharing=pd.concat([bikeSharing,Day_of_Week],axis=1)\n",
    "bikeSharing=pd.concat([bikeSharing,Month],axis=1)\n",
    "bikeSharing.info()"
   ]
  },
  {
   "cell_type": "code",
   "execution_count": 29,
   "id": "1ab931b9",
   "metadata": {},
   "outputs": [
    {
     "data": {
      "text/html": [
       "<div>\n",
       "<style scoped>\n",
       "    .dataframe tbody tr th:only-of-type {\n",
       "        vertical-align: middle;\n",
       "    }\n",
       "\n",
       "    .dataframe tbody tr th {\n",
       "        vertical-align: top;\n",
       "    }\n",
       "\n",
       "    .dataframe thead th {\n",
       "        text-align: right;\n",
       "    }\n",
       "</style>\n",
       "<table border=\"1\" class=\"dataframe\">\n",
       "  <thead>\n",
       "    <tr style=\"text-align: right;\">\n",
       "      <th></th>\n",
       "      <th>season</th>\n",
       "      <th>yr</th>\n",
       "      <th>mnth</th>\n",
       "      <th>holiday</th>\n",
       "      <th>weekday</th>\n",
       "      <th>workingday</th>\n",
       "      <th>weathersit</th>\n",
       "      <th>atemp</th>\n",
       "      <th>hum</th>\n",
       "      <th>windspeed</th>\n",
       "      <th>...</th>\n",
       "      <th>Dec</th>\n",
       "      <th>Feb</th>\n",
       "      <th>Jan</th>\n",
       "      <th>Jul</th>\n",
       "      <th>Jun</th>\n",
       "      <th>Mar</th>\n",
       "      <th>May</th>\n",
       "      <th>Nov</th>\n",
       "      <th>Oct</th>\n",
       "      <th>Sep</th>\n",
       "    </tr>\n",
       "  </thead>\n",
       "  <tbody>\n",
       "    <tr>\n",
       "      <th>0</th>\n",
       "      <td>spring</td>\n",
       "      <td>0</td>\n",
       "      <td>Jan</td>\n",
       "      <td>0</td>\n",
       "      <td>Saturday</td>\n",
       "      <td>0</td>\n",
       "      <td>Mist_cloudy</td>\n",
       "      <td>18.18125</td>\n",
       "      <td>80.5833</td>\n",
       "      <td>10.749882</td>\n",
       "      <td>...</td>\n",
       "      <td>0</td>\n",
       "      <td>0</td>\n",
       "      <td>1</td>\n",
       "      <td>0</td>\n",
       "      <td>0</td>\n",
       "      <td>0</td>\n",
       "      <td>0</td>\n",
       "      <td>0</td>\n",
       "      <td>0</td>\n",
       "      <td>0</td>\n",
       "    </tr>\n",
       "    <tr>\n",
       "      <th>1</th>\n",
       "      <td>spring</td>\n",
       "      <td>0</td>\n",
       "      <td>Jan</td>\n",
       "      <td>0</td>\n",
       "      <td>Sunday</td>\n",
       "      <td>0</td>\n",
       "      <td>Mist_cloudy</td>\n",
       "      <td>17.68695</td>\n",
       "      <td>69.6087</td>\n",
       "      <td>16.652113</td>\n",
       "      <td>...</td>\n",
       "      <td>0</td>\n",
       "      <td>0</td>\n",
       "      <td>1</td>\n",
       "      <td>0</td>\n",
       "      <td>0</td>\n",
       "      <td>0</td>\n",
       "      <td>0</td>\n",
       "      <td>0</td>\n",
       "      <td>0</td>\n",
       "      <td>0</td>\n",
       "    </tr>\n",
       "    <tr>\n",
       "      <th>2</th>\n",
       "      <td>spring</td>\n",
       "      <td>0</td>\n",
       "      <td>Jan</td>\n",
       "      <td>0</td>\n",
       "      <td>Monday</td>\n",
       "      <td>1</td>\n",
       "      <td>Clear_Few Clouds</td>\n",
       "      <td>9.47025</td>\n",
       "      <td>43.7273</td>\n",
       "      <td>16.636703</td>\n",
       "      <td>...</td>\n",
       "      <td>0</td>\n",
       "      <td>0</td>\n",
       "      <td>1</td>\n",
       "      <td>0</td>\n",
       "      <td>0</td>\n",
       "      <td>0</td>\n",
       "      <td>0</td>\n",
       "      <td>0</td>\n",
       "      <td>0</td>\n",
       "      <td>0</td>\n",
       "    </tr>\n",
       "    <tr>\n",
       "      <th>3</th>\n",
       "      <td>spring</td>\n",
       "      <td>0</td>\n",
       "      <td>Jan</td>\n",
       "      <td>0</td>\n",
       "      <td>Tuesday</td>\n",
       "      <td>1</td>\n",
       "      <td>Clear_Few Clouds</td>\n",
       "      <td>10.60610</td>\n",
       "      <td>59.0435</td>\n",
       "      <td>10.739832</td>\n",
       "      <td>...</td>\n",
       "      <td>0</td>\n",
       "      <td>0</td>\n",
       "      <td>1</td>\n",
       "      <td>0</td>\n",
       "      <td>0</td>\n",
       "      <td>0</td>\n",
       "      <td>0</td>\n",
       "      <td>0</td>\n",
       "      <td>0</td>\n",
       "      <td>0</td>\n",
       "    </tr>\n",
       "    <tr>\n",
       "      <th>4</th>\n",
       "      <td>spring</td>\n",
       "      <td>0</td>\n",
       "      <td>Jan</td>\n",
       "      <td>0</td>\n",
       "      <td>Wednesday</td>\n",
       "      <td>1</td>\n",
       "      <td>Clear_Few Clouds</td>\n",
       "      <td>11.46350</td>\n",
       "      <td>43.6957</td>\n",
       "      <td>12.522300</td>\n",
       "      <td>...</td>\n",
       "      <td>0</td>\n",
       "      <td>0</td>\n",
       "      <td>1</td>\n",
       "      <td>0</td>\n",
       "      <td>0</td>\n",
       "      <td>0</td>\n",
       "      <td>0</td>\n",
       "      <td>0</td>\n",
       "      <td>0</td>\n",
       "      <td>0</td>\n",
       "    </tr>\n",
       "  </tbody>\n",
       "</table>\n",
       "<p>5 rows × 33 columns</p>\n",
       "</div>"
      ],
      "text/plain": [
       "   season  yr mnth  holiday    weekday  workingday        weathersit  \\\n",
       "0  spring   0  Jan        0   Saturday           0       Mist_cloudy   \n",
       "1  spring   0  Jan        0     Sunday           0       Mist_cloudy   \n",
       "2  spring   0  Jan        0     Monday           1  Clear_Few Clouds   \n",
       "3  spring   0  Jan        0    Tuesday           1  Clear_Few Clouds   \n",
       "4  spring   0  Jan        0  Wednesday           1  Clear_Few Clouds   \n",
       "\n",
       "      atemp      hum  windspeed  ...  Dec  Feb  Jan  Jul  Jun  Mar  May  Nov  \\\n",
       "0  18.18125  80.5833  10.749882  ...    0    0    1    0    0    0    0    0   \n",
       "1  17.68695  69.6087  16.652113  ...    0    0    1    0    0    0    0    0   \n",
       "2   9.47025  43.7273  16.636703  ...    0    0    1    0    0    0    0    0   \n",
       "3  10.60610  59.0435  10.739832  ...    0    0    1    0    0    0    0    0   \n",
       "4  11.46350  43.6957  12.522300  ...    0    0    1    0    0    0    0    0   \n",
       "\n",
       "   Oct  Sep  \n",
       "0    0    0  \n",
       "1    0    0  \n",
       "2    0    0  \n",
       "3    0    0  \n",
       "4    0    0  \n",
       "\n",
       "[5 rows x 33 columns]"
      ]
     },
     "execution_count": 29,
     "metadata": {},
     "output_type": "execute_result"
    }
   ],
   "source": [
    "# Check what the dataset looks like now\n",
    "bikeSharing.head()"
   ]
  },
  {
   "cell_type": "markdown",
   "id": "6a6b6085",
   "metadata": {},
   "source": [
    "### Now, we don't need Original columns as we have created dummy columns for them. We will drop the originals."
   ]
  },
  {
   "cell_type": "code",
   "execution_count": 30,
   "id": "53c13730",
   "metadata": {},
   "outputs": [],
   "source": [
    "# Drop 'season' , 'weathersit', 'weekday','mnth'as we have created the dummies for these.\n",
    "bikeSharing.drop(['season'], axis = 1, inplace = True)\n",
    "bikeSharing.drop(['weathersit'], axis = 1, inplace = True)\n",
    "bikeSharing.drop(['weekday'], axis = 1, inplace = True)\n",
    "bikeSharing.drop(['mnth'], axis = 1, inplace = True)"
   ]
  },
  {
   "cell_type": "code",
   "execution_count": 31,
   "id": "cb3109a5",
   "metadata": {},
   "outputs": [
    {
     "data": {
      "text/html": [
       "<div>\n",
       "<style scoped>\n",
       "    .dataframe tbody tr th:only-of-type {\n",
       "        vertical-align: middle;\n",
       "    }\n",
       "\n",
       "    .dataframe tbody tr th {\n",
       "        vertical-align: top;\n",
       "    }\n",
       "\n",
       "    .dataframe thead th {\n",
       "        text-align: right;\n",
       "    }\n",
       "</style>\n",
       "<table border=\"1\" class=\"dataframe\">\n",
       "  <thead>\n",
       "    <tr style=\"text-align: right;\">\n",
       "      <th></th>\n",
       "      <th>yr</th>\n",
       "      <th>holiday</th>\n",
       "      <th>workingday</th>\n",
       "      <th>atemp</th>\n",
       "      <th>hum</th>\n",
       "      <th>windspeed</th>\n",
       "      <th>cnt</th>\n",
       "      <th>spring</th>\n",
       "      <th>summer</th>\n",
       "      <th>winter</th>\n",
       "      <th>...</th>\n",
       "      <th>Dec</th>\n",
       "      <th>Feb</th>\n",
       "      <th>Jan</th>\n",
       "      <th>Jul</th>\n",
       "      <th>Jun</th>\n",
       "      <th>Mar</th>\n",
       "      <th>May</th>\n",
       "      <th>Nov</th>\n",
       "      <th>Oct</th>\n",
       "      <th>Sep</th>\n",
       "    </tr>\n",
       "  </thead>\n",
       "  <tbody>\n",
       "    <tr>\n",
       "      <th>0</th>\n",
       "      <td>0</td>\n",
       "      <td>0</td>\n",
       "      <td>0</td>\n",
       "      <td>18.18125</td>\n",
       "      <td>80.5833</td>\n",
       "      <td>10.749882</td>\n",
       "      <td>985</td>\n",
       "      <td>1</td>\n",
       "      <td>0</td>\n",
       "      <td>0</td>\n",
       "      <td>...</td>\n",
       "      <td>0</td>\n",
       "      <td>0</td>\n",
       "      <td>1</td>\n",
       "      <td>0</td>\n",
       "      <td>0</td>\n",
       "      <td>0</td>\n",
       "      <td>0</td>\n",
       "      <td>0</td>\n",
       "      <td>0</td>\n",
       "      <td>0</td>\n",
       "    </tr>\n",
       "    <tr>\n",
       "      <th>1</th>\n",
       "      <td>0</td>\n",
       "      <td>0</td>\n",
       "      <td>0</td>\n",
       "      <td>17.68695</td>\n",
       "      <td>69.6087</td>\n",
       "      <td>16.652113</td>\n",
       "      <td>801</td>\n",
       "      <td>1</td>\n",
       "      <td>0</td>\n",
       "      <td>0</td>\n",
       "      <td>...</td>\n",
       "      <td>0</td>\n",
       "      <td>0</td>\n",
       "      <td>1</td>\n",
       "      <td>0</td>\n",
       "      <td>0</td>\n",
       "      <td>0</td>\n",
       "      <td>0</td>\n",
       "      <td>0</td>\n",
       "      <td>0</td>\n",
       "      <td>0</td>\n",
       "    </tr>\n",
       "    <tr>\n",
       "      <th>2</th>\n",
       "      <td>0</td>\n",
       "      <td>0</td>\n",
       "      <td>1</td>\n",
       "      <td>9.47025</td>\n",
       "      <td>43.7273</td>\n",
       "      <td>16.636703</td>\n",
       "      <td>1349</td>\n",
       "      <td>1</td>\n",
       "      <td>0</td>\n",
       "      <td>0</td>\n",
       "      <td>...</td>\n",
       "      <td>0</td>\n",
       "      <td>0</td>\n",
       "      <td>1</td>\n",
       "      <td>0</td>\n",
       "      <td>0</td>\n",
       "      <td>0</td>\n",
       "      <td>0</td>\n",
       "      <td>0</td>\n",
       "      <td>0</td>\n",
       "      <td>0</td>\n",
       "    </tr>\n",
       "    <tr>\n",
       "      <th>3</th>\n",
       "      <td>0</td>\n",
       "      <td>0</td>\n",
       "      <td>1</td>\n",
       "      <td>10.60610</td>\n",
       "      <td>59.0435</td>\n",
       "      <td>10.739832</td>\n",
       "      <td>1562</td>\n",
       "      <td>1</td>\n",
       "      <td>0</td>\n",
       "      <td>0</td>\n",
       "      <td>...</td>\n",
       "      <td>0</td>\n",
       "      <td>0</td>\n",
       "      <td>1</td>\n",
       "      <td>0</td>\n",
       "      <td>0</td>\n",
       "      <td>0</td>\n",
       "      <td>0</td>\n",
       "      <td>0</td>\n",
       "      <td>0</td>\n",
       "      <td>0</td>\n",
       "    </tr>\n",
       "    <tr>\n",
       "      <th>4</th>\n",
       "      <td>0</td>\n",
       "      <td>0</td>\n",
       "      <td>1</td>\n",
       "      <td>11.46350</td>\n",
       "      <td>43.6957</td>\n",
       "      <td>12.522300</td>\n",
       "      <td>1600</td>\n",
       "      <td>1</td>\n",
       "      <td>0</td>\n",
       "      <td>0</td>\n",
       "      <td>...</td>\n",
       "      <td>0</td>\n",
       "      <td>0</td>\n",
       "      <td>1</td>\n",
       "      <td>0</td>\n",
       "      <td>0</td>\n",
       "      <td>0</td>\n",
       "      <td>0</td>\n",
       "      <td>0</td>\n",
       "      <td>0</td>\n",
       "      <td>0</td>\n",
       "    </tr>\n",
       "  </tbody>\n",
       "</table>\n",
       "<p>5 rows × 29 columns</p>\n",
       "</div>"
      ],
      "text/plain": [
       "   yr  holiday  workingday     atemp      hum  windspeed   cnt  spring  \\\n",
       "0   0        0           0  18.18125  80.5833  10.749882   985       1   \n",
       "1   0        0           0  17.68695  69.6087  16.652113   801       1   \n",
       "2   0        0           1   9.47025  43.7273  16.636703  1349       1   \n",
       "3   0        0           1  10.60610  59.0435  10.739832  1562       1   \n",
       "4   0        0           1  11.46350  43.6957  12.522300  1600       1   \n",
       "\n",
       "   summer  winter  ...  Dec  Feb  Jan  Jul  Jun  Mar  May  Nov  Oct  Sep  \n",
       "0       0       0  ...    0    0    1    0    0    0    0    0    0    0  \n",
       "1       0       0  ...    0    0    1    0    0    0    0    0    0    0  \n",
       "2       0       0  ...    0    0    1    0    0    0    0    0    0    0  \n",
       "3       0       0  ...    0    0    1    0    0    0    0    0    0    0  \n",
       "4       0       0  ...    0    0    1    0    0    0    0    0    0    0  \n",
       "\n",
       "[5 rows x 29 columns]"
      ]
     },
     "execution_count": 31,
     "metadata": {},
     "output_type": "execute_result"
    }
   ],
   "source": [
    "bikeSharing.head()"
   ]
  },
  {
   "cell_type": "markdown",
   "id": "85c60bca",
   "metadata": {},
   "source": [
    "## Step 4: Splitting the Data into Train and Test Sets"
   ]
  },
  {
   "cell_type": "code",
   "execution_count": 32,
   "id": "ee3bcfaf",
   "metadata": {},
   "outputs": [],
   "source": [
    "from sklearn.model_selection import train_test_split\n",
    "# We specify this so that the train and test data set always have the same rows, respectively\n",
    "np.random.seed(0)\n",
    "df_train, df_test = train_test_split(bikeSharing, train_size = 0.8, test_size = 0.2, random_state = 100)"
   ]
  },
  {
   "cell_type": "code",
   "execution_count": 33,
   "id": "21172d24",
   "metadata": {},
   "outputs": [
    {
     "data": {
      "text/html": [
       "<div>\n",
       "<style scoped>\n",
       "    .dataframe tbody tr th:only-of-type {\n",
       "        vertical-align: middle;\n",
       "    }\n",
       "\n",
       "    .dataframe tbody tr th {\n",
       "        vertical-align: top;\n",
       "    }\n",
       "\n",
       "    .dataframe thead th {\n",
       "        text-align: right;\n",
       "    }\n",
       "</style>\n",
       "<table border=\"1\" class=\"dataframe\">\n",
       "  <thead>\n",
       "    <tr style=\"text-align: right;\">\n",
       "      <th></th>\n",
       "      <th>yr</th>\n",
       "      <th>holiday</th>\n",
       "      <th>workingday</th>\n",
       "      <th>atemp</th>\n",
       "      <th>hum</th>\n",
       "      <th>windspeed</th>\n",
       "      <th>cnt</th>\n",
       "      <th>spring</th>\n",
       "      <th>summer</th>\n",
       "      <th>winter</th>\n",
       "      <th>...</th>\n",
       "      <th>Dec</th>\n",
       "      <th>Feb</th>\n",
       "      <th>Jan</th>\n",
       "      <th>Jul</th>\n",
       "      <th>Jun</th>\n",
       "      <th>Mar</th>\n",
       "      <th>May</th>\n",
       "      <th>Nov</th>\n",
       "      <th>Oct</th>\n",
       "      <th>Sep</th>\n",
       "    </tr>\n",
       "  </thead>\n",
       "  <tbody>\n",
       "    <tr>\n",
       "      <th>367</th>\n",
       "      <td>1</td>\n",
       "      <td>0</td>\n",
       "      <td>1</td>\n",
       "      <td>6.31375</td>\n",
       "      <td>44.1250</td>\n",
       "      <td>24.499957</td>\n",
       "      <td>2236</td>\n",
       "      <td>1</td>\n",
       "      <td>0</td>\n",
       "      <td>0</td>\n",
       "      <td>...</td>\n",
       "      <td>0</td>\n",
       "      <td>0</td>\n",
       "      <td>1</td>\n",
       "      <td>0</td>\n",
       "      <td>0</td>\n",
       "      <td>0</td>\n",
       "      <td>0</td>\n",
       "      <td>0</td>\n",
       "      <td>0</td>\n",
       "      <td>0</td>\n",
       "    </tr>\n",
       "    <tr>\n",
       "      <th>648</th>\n",
       "      <td>1</td>\n",
       "      <td>0</td>\n",
       "      <td>1</td>\n",
       "      <td>21.55835</td>\n",
       "      <td>46.3333</td>\n",
       "      <td>12.166932</td>\n",
       "      <td>7570</td>\n",
       "      <td>0</td>\n",
       "      <td>0</td>\n",
       "      <td>1</td>\n",
       "      <td>...</td>\n",
       "      <td>0</td>\n",
       "      <td>0</td>\n",
       "      <td>0</td>\n",
       "      <td>0</td>\n",
       "      <td>0</td>\n",
       "      <td>0</td>\n",
       "      <td>0</td>\n",
       "      <td>0</td>\n",
       "      <td>1</td>\n",
       "      <td>0</td>\n",
       "    </tr>\n",
       "    <tr>\n",
       "      <th>44</th>\n",
       "      <td>0</td>\n",
       "      <td>0</td>\n",
       "      <td>1</td>\n",
       "      <td>19.91750</td>\n",
       "      <td>37.5833</td>\n",
       "      <td>27.999836</td>\n",
       "      <td>1913</td>\n",
       "      <td>1</td>\n",
       "      <td>0</td>\n",
       "      <td>0</td>\n",
       "      <td>...</td>\n",
       "      <td>0</td>\n",
       "      <td>1</td>\n",
       "      <td>0</td>\n",
       "      <td>0</td>\n",
       "      <td>0</td>\n",
       "      <td>0</td>\n",
       "      <td>0</td>\n",
       "      <td>0</td>\n",
       "      <td>0</td>\n",
       "      <td>0</td>\n",
       "    </tr>\n",
       "    <tr>\n",
       "      <th>705</th>\n",
       "      <td>1</td>\n",
       "      <td>0</td>\n",
       "      <td>1</td>\n",
       "      <td>16.09790</td>\n",
       "      <td>76.4167</td>\n",
       "      <td>8.750200</td>\n",
       "      <td>5008</td>\n",
       "      <td>0</td>\n",
       "      <td>0</td>\n",
       "      <td>1</td>\n",
       "      <td>...</td>\n",
       "      <td>1</td>\n",
       "      <td>0</td>\n",
       "      <td>0</td>\n",
       "      <td>0</td>\n",
       "      <td>0</td>\n",
       "      <td>0</td>\n",
       "      <td>0</td>\n",
       "      <td>0</td>\n",
       "      <td>0</td>\n",
       "      <td>0</td>\n",
       "    </tr>\n",
       "    <tr>\n",
       "      <th>379</th>\n",
       "      <td>1</td>\n",
       "      <td>0</td>\n",
       "      <td>0</td>\n",
       "      <td>8.08125</td>\n",
       "      <td>41.9167</td>\n",
       "      <td>16.834286</td>\n",
       "      <td>2311</td>\n",
       "      <td>1</td>\n",
       "      <td>0</td>\n",
       "      <td>0</td>\n",
       "      <td>...</td>\n",
       "      <td>0</td>\n",
       "      <td>0</td>\n",
       "      <td>1</td>\n",
       "      <td>0</td>\n",
       "      <td>0</td>\n",
       "      <td>0</td>\n",
       "      <td>0</td>\n",
       "      <td>0</td>\n",
       "      <td>0</td>\n",
       "      <td>0</td>\n",
       "    </tr>\n",
       "  </tbody>\n",
       "</table>\n",
       "<p>5 rows × 29 columns</p>\n",
       "</div>"
      ],
      "text/plain": [
       "     yr  holiday  workingday     atemp      hum  windspeed   cnt  spring  \\\n",
       "367   1        0           1   6.31375  44.1250  24.499957  2236       1   \n",
       "648   1        0           1  21.55835  46.3333  12.166932  7570       0   \n",
       "44    0        0           1  19.91750  37.5833  27.999836  1913       1   \n",
       "705   1        0           1  16.09790  76.4167   8.750200  5008       0   \n",
       "379   1        0           0   8.08125  41.9167  16.834286  2311       1   \n",
       "\n",
       "     summer  winter  ...  Dec  Feb  Jan  Jul  Jun  Mar  May  Nov  Oct  Sep  \n",
       "367       0       0  ...    0    0    1    0    0    0    0    0    0    0  \n",
       "648       0       1  ...    0    0    0    0    0    0    0    0    1    0  \n",
       "44        0       0  ...    0    1    0    0    0    0    0    0    0    0  \n",
       "705       0       1  ...    1    0    0    0    0    0    0    0    0    0  \n",
       "379       0       0  ...    0    0    1    0    0    0    0    0    0    0  \n",
       "\n",
       "[5 rows x 29 columns]"
      ]
     },
     "execution_count": 33,
     "metadata": {},
     "output_type": "execute_result"
    }
   ],
   "source": [
    "df_train.head()"
   ]
  },
  {
   "cell_type": "code",
   "execution_count": 34,
   "id": "e541540e",
   "metadata": {},
   "outputs": [
    {
     "data": {
      "text/html": [
       "<div>\n",
       "<style scoped>\n",
       "    .dataframe tbody tr th:only-of-type {\n",
       "        vertical-align: middle;\n",
       "    }\n",
       "\n",
       "    .dataframe tbody tr th {\n",
       "        vertical-align: top;\n",
       "    }\n",
       "\n",
       "    .dataframe thead th {\n",
       "        text-align: right;\n",
       "    }\n",
       "</style>\n",
       "<table border=\"1\" class=\"dataframe\">\n",
       "  <thead>\n",
       "    <tr style=\"text-align: right;\">\n",
       "      <th></th>\n",
       "      <th>yr</th>\n",
       "      <th>holiday</th>\n",
       "      <th>workingday</th>\n",
       "      <th>atemp</th>\n",
       "      <th>hum</th>\n",
       "      <th>windspeed</th>\n",
       "      <th>cnt</th>\n",
       "      <th>spring</th>\n",
       "      <th>summer</th>\n",
       "      <th>winter</th>\n",
       "      <th>...</th>\n",
       "      <th>Dec</th>\n",
       "      <th>Feb</th>\n",
       "      <th>Jan</th>\n",
       "      <th>Jul</th>\n",
       "      <th>Jun</th>\n",
       "      <th>Mar</th>\n",
       "      <th>May</th>\n",
       "      <th>Nov</th>\n",
       "      <th>Oct</th>\n",
       "      <th>Sep</th>\n",
       "    </tr>\n",
       "  </thead>\n",
       "  <tbody>\n",
       "    <tr>\n",
       "      <th>184</th>\n",
       "      <td>0</td>\n",
       "      <td>1</td>\n",
       "      <td>0</td>\n",
       "      <td>33.27085</td>\n",
       "      <td>63.7917</td>\n",
       "      <td>5.459106</td>\n",
       "      <td>6043</td>\n",
       "      <td>0</td>\n",
       "      <td>0</td>\n",
       "      <td>0</td>\n",
       "      <td>...</td>\n",
       "      <td>0</td>\n",
       "      <td>0</td>\n",
       "      <td>0</td>\n",
       "      <td>1</td>\n",
       "      <td>0</td>\n",
       "      <td>0</td>\n",
       "      <td>0</td>\n",
       "      <td>0</td>\n",
       "      <td>0</td>\n",
       "      <td>0</td>\n",
       "    </tr>\n",
       "    <tr>\n",
       "      <th>535</th>\n",
       "      <td>1</td>\n",
       "      <td>0</td>\n",
       "      <td>1</td>\n",
       "      <td>36.04875</td>\n",
       "      <td>59.2083</td>\n",
       "      <td>7.625404</td>\n",
       "      <td>6211</td>\n",
       "      <td>0</td>\n",
       "      <td>1</td>\n",
       "      <td>0</td>\n",
       "      <td>...</td>\n",
       "      <td>0</td>\n",
       "      <td>0</td>\n",
       "      <td>0</td>\n",
       "      <td>0</td>\n",
       "      <td>1</td>\n",
       "      <td>0</td>\n",
       "      <td>0</td>\n",
       "      <td>0</td>\n",
       "      <td>0</td>\n",
       "      <td>0</td>\n",
       "    </tr>\n",
       "    <tr>\n",
       "      <th>299</th>\n",
       "      <td>0</td>\n",
       "      <td>0</td>\n",
       "      <td>1</td>\n",
       "      <td>22.85230</td>\n",
       "      <td>81.2917</td>\n",
       "      <td>13.250121</td>\n",
       "      <td>2659</td>\n",
       "      <td>0</td>\n",
       "      <td>0</td>\n",
       "      <td>1</td>\n",
       "      <td>...</td>\n",
       "      <td>0</td>\n",
       "      <td>0</td>\n",
       "      <td>0</td>\n",
       "      <td>0</td>\n",
       "      <td>0</td>\n",
       "      <td>0</td>\n",
       "      <td>0</td>\n",
       "      <td>0</td>\n",
       "      <td>1</td>\n",
       "      <td>0</td>\n",
       "    </tr>\n",
       "    <tr>\n",
       "      <th>221</th>\n",
       "      <td>0</td>\n",
       "      <td>0</td>\n",
       "      <td>1</td>\n",
       "      <td>34.24915</td>\n",
       "      <td>42.4167</td>\n",
       "      <td>13.417286</td>\n",
       "      <td>4780</td>\n",
       "      <td>0</td>\n",
       "      <td>0</td>\n",
       "      <td>0</td>\n",
       "      <td>...</td>\n",
       "      <td>0</td>\n",
       "      <td>0</td>\n",
       "      <td>0</td>\n",
       "      <td>0</td>\n",
       "      <td>0</td>\n",
       "      <td>0</td>\n",
       "      <td>0</td>\n",
       "      <td>0</td>\n",
       "      <td>0</td>\n",
       "      <td>0</td>\n",
       "    </tr>\n",
       "    <tr>\n",
       "      <th>152</th>\n",
       "      <td>0</td>\n",
       "      <td>0</td>\n",
       "      <td>1</td>\n",
       "      <td>32.19710</td>\n",
       "      <td>30.5000</td>\n",
       "      <td>19.583229</td>\n",
       "      <td>4968</td>\n",
       "      <td>0</td>\n",
       "      <td>1</td>\n",
       "      <td>0</td>\n",
       "      <td>...</td>\n",
       "      <td>0</td>\n",
       "      <td>0</td>\n",
       "      <td>0</td>\n",
       "      <td>0</td>\n",
       "      <td>1</td>\n",
       "      <td>0</td>\n",
       "      <td>0</td>\n",
       "      <td>0</td>\n",
       "      <td>0</td>\n",
       "      <td>0</td>\n",
       "    </tr>\n",
       "  </tbody>\n",
       "</table>\n",
       "<p>5 rows × 29 columns</p>\n",
       "</div>"
      ],
      "text/plain": [
       "     yr  holiday  workingday     atemp      hum  windspeed   cnt  spring  \\\n",
       "184   0        1           0  33.27085  63.7917   5.459106  6043       0   \n",
       "535   1        0           1  36.04875  59.2083   7.625404  6211       0   \n",
       "299   0        0           1  22.85230  81.2917  13.250121  2659       0   \n",
       "221   0        0           1  34.24915  42.4167  13.417286  4780       0   \n",
       "152   0        0           1  32.19710  30.5000  19.583229  4968       0   \n",
       "\n",
       "     summer  winter  ...  Dec  Feb  Jan  Jul  Jun  Mar  May  Nov  Oct  Sep  \n",
       "184       0       0  ...    0    0    0    1    0    0    0    0    0    0  \n",
       "535       1       0  ...    0    0    0    0    1    0    0    0    0    0  \n",
       "299       0       1  ...    0    0    0    0    0    0    0    0    1    0  \n",
       "221       0       0  ...    0    0    0    0    0    0    0    0    0    0  \n",
       "152       1       0  ...    0    0    0    0    1    0    0    0    0    0  \n",
       "\n",
       "[5 rows x 29 columns]"
      ]
     },
     "execution_count": 34,
     "metadata": {},
     "output_type": "execute_result"
    }
   ],
   "source": [
    "df_test.head()"
   ]
  },
  {
   "cell_type": "markdown",
   "id": "a57ea3f8",
   "metadata": {},
   "source": [
    "## Features Rescaling\n",
    "### It is very crucial to rescale the features so that they have a comparable scale.\n",
    "### Scaling doesn't impact our model.\n",
    "### Advised scaling techniques:\n",
    "### 1.Min-Max scaling\n",
    "### 2.Standardisation (mean-0, sigma-1)\n",
    "### Here, I have used MinMax scaling."
   ]
  },
  {
   "cell_type": "code",
   "execution_count": 35,
   "id": "b8fd4935",
   "metadata": {},
   "outputs": [],
   "source": [
    "#importing SCaler library\n",
    "from sklearn.preprocessing import MinMaxScaler\n",
    "scaler = MinMaxScaler()"
   ]
  },
  {
   "cell_type": "code",
   "execution_count": 36,
   "id": "fd53125a",
   "metadata": {},
   "outputs": [],
   "source": [
    "# Apply scaler() to all the Numeric Features\n",
    "numVariables = ['atemp','hum','windspeed']\n",
    "\n",
    "df_train[numVariables] = scaler.fit_transform(df_train[numVariables])"
   ]
  },
  {
   "cell_type": "code",
   "execution_count": 37,
   "id": "7e977b22",
   "metadata": {},
   "outputs": [
    {
     "data": {
      "text/html": [
       "<div>\n",
       "<style scoped>\n",
       "    .dataframe tbody tr th:only-of-type {\n",
       "        vertical-align: middle;\n",
       "    }\n",
       "\n",
       "    .dataframe tbody tr th {\n",
       "        vertical-align: top;\n",
       "    }\n",
       "\n",
       "    .dataframe thead th {\n",
       "        text-align: right;\n",
       "    }\n",
       "</style>\n",
       "<table border=\"1\" class=\"dataframe\">\n",
       "  <thead>\n",
       "    <tr style=\"text-align: right;\">\n",
       "      <th></th>\n",
       "      <th>yr</th>\n",
       "      <th>holiday</th>\n",
       "      <th>workingday</th>\n",
       "      <th>atemp</th>\n",
       "      <th>hum</th>\n",
       "      <th>windspeed</th>\n",
       "      <th>cnt</th>\n",
       "      <th>spring</th>\n",
       "      <th>summer</th>\n",
       "      <th>winter</th>\n",
       "      <th>...</th>\n",
       "      <th>Dec</th>\n",
       "      <th>Feb</th>\n",
       "      <th>Jan</th>\n",
       "      <th>Jul</th>\n",
       "      <th>Jun</th>\n",
       "      <th>Mar</th>\n",
       "      <th>May</th>\n",
       "      <th>Nov</th>\n",
       "      <th>Oct</th>\n",
       "      <th>Sep</th>\n",
       "    </tr>\n",
       "  </thead>\n",
       "  <tbody>\n",
       "    <tr>\n",
       "      <th>367</th>\n",
       "      <td>1</td>\n",
       "      <td>0</td>\n",
       "      <td>1</td>\n",
       "      <td>0.061963</td>\n",
       "      <td>0.454701</td>\n",
       "      <td>0.695175</td>\n",
       "      <td>2236</td>\n",
       "      <td>1</td>\n",
       "      <td>0</td>\n",
       "      <td>0</td>\n",
       "      <td>...</td>\n",
       "      <td>0</td>\n",
       "      <td>0</td>\n",
       "      <td>1</td>\n",
       "      <td>0</td>\n",
       "      <td>0</td>\n",
       "      <td>0</td>\n",
       "      <td>0</td>\n",
       "      <td>0</td>\n",
       "      <td>0</td>\n",
       "      <td>0</td>\n",
       "    </tr>\n",
       "    <tr>\n",
       "      <th>648</th>\n",
       "      <td>1</td>\n",
       "      <td>0</td>\n",
       "      <td>1</td>\n",
       "      <td>0.462175</td>\n",
       "      <td>0.477458</td>\n",
       "      <td>0.299450</td>\n",
       "      <td>7570</td>\n",
       "      <td>0</td>\n",
       "      <td>0</td>\n",
       "      <td>1</td>\n",
       "      <td>...</td>\n",
       "      <td>0</td>\n",
       "      <td>0</td>\n",
       "      <td>0</td>\n",
       "      <td>0</td>\n",
       "      <td>0</td>\n",
       "      <td>0</td>\n",
       "      <td>0</td>\n",
       "      <td>0</td>\n",
       "      <td>1</td>\n",
       "      <td>0</td>\n",
       "    </tr>\n",
       "    <tr>\n",
       "      <th>44</th>\n",
       "      <td>0</td>\n",
       "      <td>0</td>\n",
       "      <td>1</td>\n",
       "      <td>0.419099</td>\n",
       "      <td>0.387290</td>\n",
       "      <td>0.807474</td>\n",
       "      <td>1913</td>\n",
       "      <td>1</td>\n",
       "      <td>0</td>\n",
       "      <td>0</td>\n",
       "      <td>...</td>\n",
       "      <td>0</td>\n",
       "      <td>1</td>\n",
       "      <td>0</td>\n",
       "      <td>0</td>\n",
       "      <td>0</td>\n",
       "      <td>0</td>\n",
       "      <td>0</td>\n",
       "      <td>0</td>\n",
       "      <td>0</td>\n",
       "      <td>0</td>\n",
       "    </tr>\n",
       "    <tr>\n",
       "      <th>705</th>\n",
       "      <td>1</td>\n",
       "      <td>0</td>\n",
       "      <td>1</td>\n",
       "      <td>0.318824</td>\n",
       "      <td>0.787463</td>\n",
       "      <td>0.189819</td>\n",
       "      <td>5008</td>\n",
       "      <td>0</td>\n",
       "      <td>0</td>\n",
       "      <td>1</td>\n",
       "      <td>...</td>\n",
       "      <td>1</td>\n",
       "      <td>0</td>\n",
       "      <td>0</td>\n",
       "      <td>0</td>\n",
       "      <td>0</td>\n",
       "      <td>0</td>\n",
       "      <td>0</td>\n",
       "      <td>0</td>\n",
       "      <td>0</td>\n",
       "      <td>0</td>\n",
       "    </tr>\n",
       "    <tr>\n",
       "      <th>379</th>\n",
       "      <td>1</td>\n",
       "      <td>0</td>\n",
       "      <td>0</td>\n",
       "      <td>0.108365</td>\n",
       "      <td>0.431945</td>\n",
       "      <td>0.449210</td>\n",
       "      <td>2311</td>\n",
       "      <td>1</td>\n",
       "      <td>0</td>\n",
       "      <td>0</td>\n",
       "      <td>...</td>\n",
       "      <td>0</td>\n",
       "      <td>0</td>\n",
       "      <td>1</td>\n",
       "      <td>0</td>\n",
       "      <td>0</td>\n",
       "      <td>0</td>\n",
       "      <td>0</td>\n",
       "      <td>0</td>\n",
       "      <td>0</td>\n",
       "      <td>0</td>\n",
       "    </tr>\n",
       "  </tbody>\n",
       "</table>\n",
       "<p>5 rows × 29 columns</p>\n",
       "</div>"
      ],
      "text/plain": [
       "     yr  holiday  workingday     atemp       hum  windspeed   cnt  spring  \\\n",
       "367   1        0           1  0.061963  0.454701   0.695175  2236       1   \n",
       "648   1        0           1  0.462175  0.477458   0.299450  7570       0   \n",
       "44    0        0           1  0.419099  0.387290   0.807474  1913       1   \n",
       "705   1        0           1  0.318824  0.787463   0.189819  5008       0   \n",
       "379   1        0           0  0.108365  0.431945   0.449210  2311       1   \n",
       "\n",
       "     summer  winter  ...  Dec  Feb  Jan  Jul  Jun  Mar  May  Nov  Oct  Sep  \n",
       "367       0       0  ...    0    0    1    0    0    0    0    0    0    0  \n",
       "648       0       1  ...    0    0    0    0    0    0    0    0    1    0  \n",
       "44        0       0  ...    0    1    0    0    0    0    0    0    0    0  \n",
       "705       0       1  ...    1    0    0    0    0    0    0    0    0    0  \n",
       "379       0       0  ...    0    0    1    0    0    0    0    0    0    0  \n",
       "\n",
       "[5 rows x 29 columns]"
      ]
     },
     "execution_count": 37,
     "metadata": {},
     "output_type": "execute_result"
    }
   ],
   "source": [
    "df_train.head()"
   ]
  },
  {
   "cell_type": "code",
   "execution_count": 38,
   "id": "fbf4d872",
   "metadata": {},
   "outputs": [
    {
     "data": {
      "text/html": [
       "<div>\n",
       "<style scoped>\n",
       "    .dataframe tbody tr th:only-of-type {\n",
       "        vertical-align: middle;\n",
       "    }\n",
       "\n",
       "    .dataframe tbody tr th {\n",
       "        vertical-align: top;\n",
       "    }\n",
       "\n",
       "    .dataframe thead th {\n",
       "        text-align: right;\n",
       "    }\n",
       "</style>\n",
       "<table border=\"1\" class=\"dataframe\">\n",
       "  <thead>\n",
       "    <tr style=\"text-align: right;\">\n",
       "      <th></th>\n",
       "      <th>yr</th>\n",
       "      <th>holiday</th>\n",
       "      <th>workingday</th>\n",
       "      <th>atemp</th>\n",
       "      <th>hum</th>\n",
       "      <th>windspeed</th>\n",
       "      <th>cnt</th>\n",
       "      <th>spring</th>\n",
       "      <th>summer</th>\n",
       "      <th>winter</th>\n",
       "      <th>...</th>\n",
       "      <th>Dec</th>\n",
       "      <th>Feb</th>\n",
       "      <th>Jan</th>\n",
       "      <th>Jul</th>\n",
       "      <th>Jun</th>\n",
       "      <th>Mar</th>\n",
       "      <th>May</th>\n",
       "      <th>Nov</th>\n",
       "      <th>Oct</th>\n",
       "      <th>Sep</th>\n",
       "    </tr>\n",
       "  </thead>\n",
       "  <tbody>\n",
       "    <tr>\n",
       "      <th>count</th>\n",
       "      <td>584.000000</td>\n",
       "      <td>584.000000</td>\n",
       "      <td>584.000000</td>\n",
       "      <td>584.000000</td>\n",
       "      <td>584.000000</td>\n",
       "      <td>584.000000</td>\n",
       "      <td>584.000000</td>\n",
       "      <td>584.000000</td>\n",
       "      <td>584.000000</td>\n",
       "      <td>584.000000</td>\n",
       "      <td>...</td>\n",
       "      <td>584.000000</td>\n",
       "      <td>584.000000</td>\n",
       "      <td>584.000000</td>\n",
       "      <td>584.000000</td>\n",
       "      <td>584.000000</td>\n",
       "      <td>584.000000</td>\n",
       "      <td>584.000000</td>\n",
       "      <td>584.000000</td>\n",
       "      <td>584.000000</td>\n",
       "      <td>584.000000</td>\n",
       "    </tr>\n",
       "    <tr>\n",
       "      <th>mean</th>\n",
       "      <td>0.513699</td>\n",
       "      <td>0.027397</td>\n",
       "      <td>0.667808</td>\n",
       "      <td>0.513175</td>\n",
       "      <td>0.649499</td>\n",
       "      <td>0.319463</td>\n",
       "      <td>4505.267123</td>\n",
       "      <td>0.251712</td>\n",
       "      <td>0.246575</td>\n",
       "      <td>0.250000</td>\n",
       "      <td>...</td>\n",
       "      <td>0.087329</td>\n",
       "      <td>0.073630</td>\n",
       "      <td>0.087329</td>\n",
       "      <td>0.075342</td>\n",
       "      <td>0.077055</td>\n",
       "      <td>0.090753</td>\n",
       "      <td>0.087329</td>\n",
       "      <td>0.080479</td>\n",
       "      <td>0.092466</td>\n",
       "      <td>0.080479</td>\n",
       "    </tr>\n",
       "    <tr>\n",
       "      <th>std</th>\n",
       "      <td>0.500241</td>\n",
       "      <td>0.163378</td>\n",
       "      <td>0.471403</td>\n",
       "      <td>0.211663</td>\n",
       "      <td>0.144219</td>\n",
       "      <td>0.168114</td>\n",
       "      <td>1958.617712</td>\n",
       "      <td>0.434369</td>\n",
       "      <td>0.431387</td>\n",
       "      <td>0.433384</td>\n",
       "      <td>...</td>\n",
       "      <td>0.282558</td>\n",
       "      <td>0.261392</td>\n",
       "      <td>0.282558</td>\n",
       "      <td>0.264169</td>\n",
       "      <td>0.266907</td>\n",
       "      <td>0.287504</td>\n",
       "      <td>0.282558</td>\n",
       "      <td>0.272267</td>\n",
       "      <td>0.289931</td>\n",
       "      <td>0.272267</td>\n",
       "    </tr>\n",
       "    <tr>\n",
       "      <th>min</th>\n",
       "      <td>0.000000</td>\n",
       "      <td>0.000000</td>\n",
       "      <td>0.000000</td>\n",
       "      <td>0.000000</td>\n",
       "      <td>0.000000</td>\n",
       "      <td>0.000000</td>\n",
       "      <td>22.000000</td>\n",
       "      <td>0.000000</td>\n",
       "      <td>0.000000</td>\n",
       "      <td>0.000000</td>\n",
       "      <td>...</td>\n",
       "      <td>0.000000</td>\n",
       "      <td>0.000000</td>\n",
       "      <td>0.000000</td>\n",
       "      <td>0.000000</td>\n",
       "      <td>0.000000</td>\n",
       "      <td>0.000000</td>\n",
       "      <td>0.000000</td>\n",
       "      <td>0.000000</td>\n",
       "      <td>0.000000</td>\n",
       "      <td>0.000000</td>\n",
       "    </tr>\n",
       "    <tr>\n",
       "      <th>25%</th>\n",
       "      <td>0.000000</td>\n",
       "      <td>0.000000</td>\n",
       "      <td>0.000000</td>\n",
       "      <td>0.331819</td>\n",
       "      <td>0.535852</td>\n",
       "      <td>0.199177</td>\n",
       "      <td>3070.250000</td>\n",
       "      <td>0.000000</td>\n",
       "      <td>0.000000</td>\n",
       "      <td>0.000000</td>\n",
       "      <td>...</td>\n",
       "      <td>0.000000</td>\n",
       "      <td>0.000000</td>\n",
       "      <td>0.000000</td>\n",
       "      <td>0.000000</td>\n",
       "      <td>0.000000</td>\n",
       "      <td>0.000000</td>\n",
       "      <td>0.000000</td>\n",
       "      <td>0.000000</td>\n",
       "      <td>0.000000</td>\n",
       "      <td>0.000000</td>\n",
       "    </tr>\n",
       "    <tr>\n",
       "      <th>50%</th>\n",
       "      <td>1.000000</td>\n",
       "      <td>0.000000</td>\n",
       "      <td>1.000000</td>\n",
       "      <td>0.530558</td>\n",
       "      <td>0.653714</td>\n",
       "      <td>0.294764</td>\n",
       "      <td>4566.500000</td>\n",
       "      <td>0.000000</td>\n",
       "      <td>0.000000</td>\n",
       "      <td>0.000000</td>\n",
       "      <td>...</td>\n",
       "      <td>0.000000</td>\n",
       "      <td>0.000000</td>\n",
       "      <td>0.000000</td>\n",
       "      <td>0.000000</td>\n",
       "      <td>0.000000</td>\n",
       "      <td>0.000000</td>\n",
       "      <td>0.000000</td>\n",
       "      <td>0.000000</td>\n",
       "      <td>0.000000</td>\n",
       "      <td>0.000000</td>\n",
       "    </tr>\n",
       "    <tr>\n",
       "      <th>75%</th>\n",
       "      <td>1.000000</td>\n",
       "      <td>0.000000</td>\n",
       "      <td>1.000000</td>\n",
       "      <td>0.690521</td>\n",
       "      <td>0.752361</td>\n",
       "      <td>0.410413</td>\n",
       "      <td>6035.750000</td>\n",
       "      <td>1.000000</td>\n",
       "      <td>0.000000</td>\n",
       "      <td>0.250000</td>\n",
       "      <td>...</td>\n",
       "      <td>0.000000</td>\n",
       "      <td>0.000000</td>\n",
       "      <td>0.000000</td>\n",
       "      <td>0.000000</td>\n",
       "      <td>0.000000</td>\n",
       "      <td>0.000000</td>\n",
       "      <td>0.000000</td>\n",
       "      <td>0.000000</td>\n",
       "      <td>0.000000</td>\n",
       "      <td>0.000000</td>\n",
       "    </tr>\n",
       "    <tr>\n",
       "      <th>max</th>\n",
       "      <td>1.000000</td>\n",
       "      <td>1.000000</td>\n",
       "      <td>1.000000</td>\n",
       "      <td>1.000000</td>\n",
       "      <td>1.000000</td>\n",
       "      <td>1.000000</td>\n",
       "      <td>8714.000000</td>\n",
       "      <td>1.000000</td>\n",
       "      <td>1.000000</td>\n",
       "      <td>1.000000</td>\n",
       "      <td>...</td>\n",
       "      <td>1.000000</td>\n",
       "      <td>1.000000</td>\n",
       "      <td>1.000000</td>\n",
       "      <td>1.000000</td>\n",
       "      <td>1.000000</td>\n",
       "      <td>1.000000</td>\n",
       "      <td>1.000000</td>\n",
       "      <td>1.000000</td>\n",
       "      <td>1.000000</td>\n",
       "      <td>1.000000</td>\n",
       "    </tr>\n",
       "  </tbody>\n",
       "</table>\n",
       "<p>8 rows × 29 columns</p>\n",
       "</div>"
      ],
      "text/plain": [
       "               yr     holiday  workingday       atemp         hum   windspeed  \\\n",
       "count  584.000000  584.000000  584.000000  584.000000  584.000000  584.000000   \n",
       "mean     0.513699    0.027397    0.667808    0.513175    0.649499    0.319463   \n",
       "std      0.500241    0.163378    0.471403    0.211663    0.144219    0.168114   \n",
       "min      0.000000    0.000000    0.000000    0.000000    0.000000    0.000000   \n",
       "25%      0.000000    0.000000    0.000000    0.331819    0.535852    0.199177   \n",
       "50%      1.000000    0.000000    1.000000    0.530558    0.653714    0.294764   \n",
       "75%      1.000000    0.000000    1.000000    0.690521    0.752361    0.410413   \n",
       "max      1.000000    1.000000    1.000000    1.000000    1.000000    1.000000   \n",
       "\n",
       "               cnt      spring      summer      winter  ...         Dec  \\\n",
       "count   584.000000  584.000000  584.000000  584.000000  ...  584.000000   \n",
       "mean   4505.267123    0.251712    0.246575    0.250000  ...    0.087329   \n",
       "std    1958.617712    0.434369    0.431387    0.433384  ...    0.282558   \n",
       "min      22.000000    0.000000    0.000000    0.000000  ...    0.000000   \n",
       "25%    3070.250000    0.000000    0.000000    0.000000  ...    0.000000   \n",
       "50%    4566.500000    0.000000    0.000000    0.000000  ...    0.000000   \n",
       "75%    6035.750000    1.000000    0.000000    0.250000  ...    0.000000   \n",
       "max    8714.000000    1.000000    1.000000    1.000000  ...    1.000000   \n",
       "\n",
       "              Feb         Jan         Jul         Jun         Mar         May  \\\n",
       "count  584.000000  584.000000  584.000000  584.000000  584.000000  584.000000   \n",
       "mean     0.073630    0.087329    0.075342    0.077055    0.090753    0.087329   \n",
       "std      0.261392    0.282558    0.264169    0.266907    0.287504    0.282558   \n",
       "min      0.000000    0.000000    0.000000    0.000000    0.000000    0.000000   \n",
       "25%      0.000000    0.000000    0.000000    0.000000    0.000000    0.000000   \n",
       "50%      0.000000    0.000000    0.000000    0.000000    0.000000    0.000000   \n",
       "75%      0.000000    0.000000    0.000000    0.000000    0.000000    0.000000   \n",
       "max      1.000000    1.000000    1.000000    1.000000    1.000000    1.000000   \n",
       "\n",
       "              Nov         Oct         Sep  \n",
       "count  584.000000  584.000000  584.000000  \n",
       "mean     0.080479    0.092466    0.080479  \n",
       "std      0.272267    0.289931    0.272267  \n",
       "min      0.000000    0.000000    0.000000  \n",
       "25%      0.000000    0.000000    0.000000  \n",
       "50%      0.000000    0.000000    0.000000  \n",
       "75%      0.000000    0.000000    0.000000  \n",
       "max      1.000000    1.000000    1.000000  \n",
       "\n",
       "[8 rows x 29 columns]"
      ]
     },
     "execution_count": 38,
     "metadata": {},
     "output_type": "execute_result"
    }
   ],
   "source": [
    "df_train.describe()"
   ]
  },
  {
   "cell_type": "markdown",
   "id": "65ac895f",
   "metadata": {},
   "source": [
    "### Dividing into X and Y sets for the model building"
   ]
  },
  {
   "cell_type": "code",
   "execution_count": 39,
   "id": "33596ae9",
   "metadata": {},
   "outputs": [],
   "source": [
    "y_train = df_train.pop('cnt')\n",
    "X_train = df_train"
   ]
  },
  {
   "cell_type": "code",
   "execution_count": 40,
   "id": "f35afad1",
   "metadata": {},
   "outputs": [
    {
     "data": {
      "text/html": [
       "<div>\n",
       "<style scoped>\n",
       "    .dataframe tbody tr th:only-of-type {\n",
       "        vertical-align: middle;\n",
       "    }\n",
       "\n",
       "    .dataframe tbody tr th {\n",
       "        vertical-align: top;\n",
       "    }\n",
       "\n",
       "    .dataframe thead th {\n",
       "        text-align: right;\n",
       "    }\n",
       "</style>\n",
       "<table border=\"1\" class=\"dataframe\">\n",
       "  <thead>\n",
       "    <tr style=\"text-align: right;\">\n",
       "      <th></th>\n",
       "      <th>yr</th>\n",
       "      <th>holiday</th>\n",
       "      <th>workingday</th>\n",
       "      <th>atemp</th>\n",
       "      <th>hum</th>\n",
       "      <th>windspeed</th>\n",
       "      <th>spring</th>\n",
       "      <th>summer</th>\n",
       "      <th>winter</th>\n",
       "      <th>Light rain_Light snow_Thunderstorm</th>\n",
       "      <th>...</th>\n",
       "      <th>Dec</th>\n",
       "      <th>Feb</th>\n",
       "      <th>Jan</th>\n",
       "      <th>Jul</th>\n",
       "      <th>Jun</th>\n",
       "      <th>Mar</th>\n",
       "      <th>May</th>\n",
       "      <th>Nov</th>\n",
       "      <th>Oct</th>\n",
       "      <th>Sep</th>\n",
       "    </tr>\n",
       "  </thead>\n",
       "  <tbody>\n",
       "    <tr>\n",
       "      <th>367</th>\n",
       "      <td>1</td>\n",
       "      <td>0</td>\n",
       "      <td>1</td>\n",
       "      <td>0.061963</td>\n",
       "      <td>0.454701</td>\n",
       "      <td>0.695175</td>\n",
       "      <td>1</td>\n",
       "      <td>0</td>\n",
       "      <td>0</td>\n",
       "      <td>0</td>\n",
       "      <td>...</td>\n",
       "      <td>0</td>\n",
       "      <td>0</td>\n",
       "      <td>1</td>\n",
       "      <td>0</td>\n",
       "      <td>0</td>\n",
       "      <td>0</td>\n",
       "      <td>0</td>\n",
       "      <td>0</td>\n",
       "      <td>0</td>\n",
       "      <td>0</td>\n",
       "    </tr>\n",
       "    <tr>\n",
       "      <th>648</th>\n",
       "      <td>1</td>\n",
       "      <td>0</td>\n",
       "      <td>1</td>\n",
       "      <td>0.462175</td>\n",
       "      <td>0.477458</td>\n",
       "      <td>0.299450</td>\n",
       "      <td>0</td>\n",
       "      <td>0</td>\n",
       "      <td>1</td>\n",
       "      <td>0</td>\n",
       "      <td>...</td>\n",
       "      <td>0</td>\n",
       "      <td>0</td>\n",
       "      <td>0</td>\n",
       "      <td>0</td>\n",
       "      <td>0</td>\n",
       "      <td>0</td>\n",
       "      <td>0</td>\n",
       "      <td>0</td>\n",
       "      <td>1</td>\n",
       "      <td>0</td>\n",
       "    </tr>\n",
       "    <tr>\n",
       "      <th>44</th>\n",
       "      <td>0</td>\n",
       "      <td>0</td>\n",
       "      <td>1</td>\n",
       "      <td>0.419099</td>\n",
       "      <td>0.387290</td>\n",
       "      <td>0.807474</td>\n",
       "      <td>1</td>\n",
       "      <td>0</td>\n",
       "      <td>0</td>\n",
       "      <td>0</td>\n",
       "      <td>...</td>\n",
       "      <td>0</td>\n",
       "      <td>1</td>\n",
       "      <td>0</td>\n",
       "      <td>0</td>\n",
       "      <td>0</td>\n",
       "      <td>0</td>\n",
       "      <td>0</td>\n",
       "      <td>0</td>\n",
       "      <td>0</td>\n",
       "      <td>0</td>\n",
       "    </tr>\n",
       "    <tr>\n",
       "      <th>705</th>\n",
       "      <td>1</td>\n",
       "      <td>0</td>\n",
       "      <td>1</td>\n",
       "      <td>0.318824</td>\n",
       "      <td>0.787463</td>\n",
       "      <td>0.189819</td>\n",
       "      <td>0</td>\n",
       "      <td>0</td>\n",
       "      <td>1</td>\n",
       "      <td>0</td>\n",
       "      <td>...</td>\n",
       "      <td>1</td>\n",
       "      <td>0</td>\n",
       "      <td>0</td>\n",
       "      <td>0</td>\n",
       "      <td>0</td>\n",
       "      <td>0</td>\n",
       "      <td>0</td>\n",
       "      <td>0</td>\n",
       "      <td>0</td>\n",
       "      <td>0</td>\n",
       "    </tr>\n",
       "    <tr>\n",
       "      <th>379</th>\n",
       "      <td>1</td>\n",
       "      <td>0</td>\n",
       "      <td>0</td>\n",
       "      <td>0.108365</td>\n",
       "      <td>0.431945</td>\n",
       "      <td>0.449210</td>\n",
       "      <td>1</td>\n",
       "      <td>0</td>\n",
       "      <td>0</td>\n",
       "      <td>0</td>\n",
       "      <td>...</td>\n",
       "      <td>0</td>\n",
       "      <td>0</td>\n",
       "      <td>1</td>\n",
       "      <td>0</td>\n",
       "      <td>0</td>\n",
       "      <td>0</td>\n",
       "      <td>0</td>\n",
       "      <td>0</td>\n",
       "      <td>0</td>\n",
       "      <td>0</td>\n",
       "    </tr>\n",
       "  </tbody>\n",
       "</table>\n",
       "<p>5 rows × 28 columns</p>\n",
       "</div>"
      ],
      "text/plain": [
       "     yr  holiday  workingday     atemp       hum  windspeed  spring  summer  \\\n",
       "367   1        0           1  0.061963  0.454701   0.695175       1       0   \n",
       "648   1        0           1  0.462175  0.477458   0.299450       0       0   \n",
       "44    0        0           1  0.419099  0.387290   0.807474       1       0   \n",
       "705   1        0           1  0.318824  0.787463   0.189819       0       0   \n",
       "379   1        0           0  0.108365  0.431945   0.449210       1       0   \n",
       "\n",
       "     winter  Light rain_Light snow_Thunderstorm  ...  Dec  Feb  Jan  Jul  Jun  \\\n",
       "367       0                                   0  ...    0    0    1    0    0   \n",
       "648       1                                   0  ...    0    0    0    0    0   \n",
       "44        0                                   0  ...    0    1    0    0    0   \n",
       "705       1                                   0  ...    1    0    0    0    0   \n",
       "379       0                                   0  ...    0    0    1    0    0   \n",
       "\n",
       "     Mar  May  Nov  Oct  Sep  \n",
       "367    0    0    0    0    0  \n",
       "648    0    0    0    1    0  \n",
       "44     0    0    0    0    0  \n",
       "705    0    0    0    0    0  \n",
       "379    0    0    0    0    0  \n",
       "\n",
       "[5 rows x 28 columns]"
      ]
     },
     "execution_count": 40,
     "metadata": {},
     "output_type": "execute_result"
    }
   ],
   "source": [
    "X_train.head()"
   ]
  },
  {
   "cell_type": "code",
   "execution_count": 41,
   "id": "b0e3d308",
   "metadata": {},
   "outputs": [
    {
     "data": {
      "text/plain": [
       "367    2236\n",
       "648    7570\n",
       "44     1913\n",
       "705    5008\n",
       "379    2311\n",
       "Name: cnt, dtype: int64"
      ]
     },
     "execution_count": 41,
     "metadata": {},
     "output_type": "execute_result"
    }
   ],
   "source": [
    "y_train.head()"
   ]
  },
  {
   "cell_type": "markdown",
   "id": "e3766377",
   "metadata": {},
   "source": [
    "### Step 5: Building a linear model\n",
    "### First Fit a regression line through the training data using sklearn and Recursive Feature Elimination.\n",
    "### Using Automated Recursive Feature Elimination Technique- sklearn"
   ]
  },
  {
   "cell_type": "code",
   "execution_count": 42,
   "id": "4a2bd606",
   "metadata": {},
   "outputs": [],
   "source": [
    "#import Lib\n",
    "from sklearn.feature_selection import RFE\n",
    "from sklearn.linear_model import LinearRegression"
   ]
  },
  {
   "cell_type": "code",
   "execution_count": 43,
   "id": "465e36c1",
   "metadata": {},
   "outputs": [
    {
     "data": {
      "text/plain": [
       "LinearRegression()"
      ]
     },
     "execution_count": 43,
     "metadata": {},
     "output_type": "execute_result"
    }
   ],
   "source": [
    "#Initializing\n",
    "lm = LinearRegression()\n",
    "# Training Model\n",
    "lm.fit(X_train, y_train)"
   ]
  },
  {
   "cell_type": "code",
   "execution_count": 44,
   "id": "2cd319b4",
   "metadata": {},
   "outputs": [],
   "source": [
    "# Selecting Features using RFE. We have selected here 15 features\n",
    "rfe = RFE(lm, 15,step=1)            \n",
    "rfe = rfe.fit(X_train, y_train)"
   ]
  },
  {
   "cell_type": "code",
   "execution_count": 45,
   "id": "c9e75b78",
   "metadata": {},
   "outputs": [
    {
     "data": {
      "text/plain": [
       "array([ True,  True,  True,  True,  True,  True,  True, False,  True,\n",
       "        True,  True, False,  True, False, False, False, False, False,\n",
       "        True, False,  True, False, False, False, False,  True, False,\n",
       "        True])"
      ]
     },
     "execution_count": 45,
     "metadata": {},
     "output_type": "execute_result"
    }
   ],
   "source": [
    "#Checking support for features\n",
    "rfe.support_"
   ]
  },
  {
   "cell_type": "code",
   "execution_count": 46,
   "id": "81a7a3a4",
   "metadata": {},
   "outputs": [
    {
     "data": {
      "text/plain": [
       "array([ 1,  1,  1,  1,  1,  1,  1,  2,  1,  1,  1,  9,  1,  8, 12, 10, 13,\n",
       "        3,  1,  4,  1,  7,  5, 14,  6,  1, 11,  1])"
      ]
     },
     "execution_count": 46,
     "metadata": {},
     "output_type": "execute_result"
    }
   ],
   "source": [
    "#Checking Ranking\n",
    "rfe.ranking_"
   ]
  },
  {
   "cell_type": "code",
   "execution_count": 47,
   "id": "bab34b1a",
   "metadata": {},
   "outputs": [
    {
     "data": {
      "text/plain": [
       "[('yr', True, 1),\n",
       " ('holiday', True, 1),\n",
       " ('workingday', True, 1),\n",
       " ('atemp', True, 1),\n",
       " ('hum', True, 1),\n",
       " ('windspeed', True, 1),\n",
       " ('spring', True, 1),\n",
       " ('summer', False, 2),\n",
       " ('winter', True, 1),\n",
       " ('Light rain_Light snow_Thunderstorm', True, 1),\n",
       " ('Mist_cloudy', True, 1),\n",
       " ('Monday', False, 9),\n",
       " ('Saturday', True, 1),\n",
       " ('Sunday', False, 8),\n",
       " ('Thursday', False, 12),\n",
       " ('Tuesday', False, 10),\n",
       " ('Wednesday', False, 13),\n",
       " ('Aug', False, 3),\n",
       " ('Dec', True, 1),\n",
       " ('Feb', False, 4),\n",
       " ('Jan', True, 1),\n",
       " ('Jul', False, 7),\n",
       " ('Jun', False, 5),\n",
       " ('Mar', False, 14),\n",
       " ('May', False, 6),\n",
       " ('Nov', True, 1),\n",
       " ('Oct', False, 11),\n",
       " ('Sep', True, 1)]"
      ]
     },
     "execution_count": 47,
     "metadata": {},
     "output_type": "execute_result"
    }
   ],
   "source": [
    "#Combining and Checking Support and Ranking\n",
    "list(zip(X_train.columns,rfe.support_,rfe.ranking_))"
   ]
  },
  {
   "cell_type": "code",
   "execution_count": 48,
   "id": "351d55b0",
   "metadata": {},
   "outputs": [
    {
     "data": {
      "text/plain": [
       "Index(['summer', 'Monday', 'Sunday', 'Thursday', 'Tuesday', 'Wednesday', 'Aug',\n",
       "       'Feb', 'Jul', 'Jun', 'Mar', 'May', 'Oct'],\n",
       "      dtype='object')"
      ]
     },
     "execution_count": 48,
     "metadata": {},
     "output_type": "execute_result"
    }
   ],
   "source": [
    "# Checking Unsupported Features data Set\n",
    "X_train.columns[~rfe.support_]"
   ]
  },
  {
   "cell_type": "code",
   "execution_count": 49,
   "id": "70b74318",
   "metadata": {},
   "outputs": [
    {
     "data": {
      "text/html": [
       "<div>\n",
       "<style scoped>\n",
       "    .dataframe tbody tr th:only-of-type {\n",
       "        vertical-align: middle;\n",
       "    }\n",
       "\n",
       "    .dataframe tbody tr th {\n",
       "        vertical-align: top;\n",
       "    }\n",
       "\n",
       "    .dataframe thead th {\n",
       "        text-align: right;\n",
       "    }\n",
       "</style>\n",
       "<table border=\"1\" class=\"dataframe\">\n",
       "  <thead>\n",
       "    <tr style=\"text-align: right;\">\n",
       "      <th></th>\n",
       "      <th>yr</th>\n",
       "      <th>holiday</th>\n",
       "      <th>workingday</th>\n",
       "      <th>atemp</th>\n",
       "      <th>hum</th>\n",
       "      <th>windspeed</th>\n",
       "      <th>spring</th>\n",
       "      <th>winter</th>\n",
       "      <th>Light rain_Light snow_Thunderstorm</th>\n",
       "      <th>Mist_cloudy</th>\n",
       "      <th>Saturday</th>\n",
       "      <th>Dec</th>\n",
       "      <th>Jan</th>\n",
       "      <th>Nov</th>\n",
       "      <th>Sep</th>\n",
       "    </tr>\n",
       "  </thead>\n",
       "  <tbody>\n",
       "    <tr>\n",
       "      <th>367</th>\n",
       "      <td>1</td>\n",
       "      <td>0</td>\n",
       "      <td>1</td>\n",
       "      <td>0.061963</td>\n",
       "      <td>0.454701</td>\n",
       "      <td>0.695175</td>\n",
       "      <td>1</td>\n",
       "      <td>0</td>\n",
       "      <td>0</td>\n",
       "      <td>0</td>\n",
       "      <td>0</td>\n",
       "      <td>0</td>\n",
       "      <td>1</td>\n",
       "      <td>0</td>\n",
       "      <td>0</td>\n",
       "    </tr>\n",
       "    <tr>\n",
       "      <th>648</th>\n",
       "      <td>1</td>\n",
       "      <td>0</td>\n",
       "      <td>1</td>\n",
       "      <td>0.462175</td>\n",
       "      <td>0.477458</td>\n",
       "      <td>0.299450</td>\n",
       "      <td>0</td>\n",
       "      <td>1</td>\n",
       "      <td>0</td>\n",
       "      <td>0</td>\n",
       "      <td>0</td>\n",
       "      <td>0</td>\n",
       "      <td>0</td>\n",
       "      <td>0</td>\n",
       "      <td>0</td>\n",
       "    </tr>\n",
       "    <tr>\n",
       "      <th>44</th>\n",
       "      <td>0</td>\n",
       "      <td>0</td>\n",
       "      <td>1</td>\n",
       "      <td>0.419099</td>\n",
       "      <td>0.387290</td>\n",
       "      <td>0.807474</td>\n",
       "      <td>1</td>\n",
       "      <td>0</td>\n",
       "      <td>0</td>\n",
       "      <td>0</td>\n",
       "      <td>0</td>\n",
       "      <td>0</td>\n",
       "      <td>0</td>\n",
       "      <td>0</td>\n",
       "      <td>0</td>\n",
       "    </tr>\n",
       "    <tr>\n",
       "      <th>705</th>\n",
       "      <td>1</td>\n",
       "      <td>0</td>\n",
       "      <td>1</td>\n",
       "      <td>0.318824</td>\n",
       "      <td>0.787463</td>\n",
       "      <td>0.189819</td>\n",
       "      <td>0</td>\n",
       "      <td>1</td>\n",
       "      <td>0</td>\n",
       "      <td>1</td>\n",
       "      <td>0</td>\n",
       "      <td>1</td>\n",
       "      <td>0</td>\n",
       "      <td>0</td>\n",
       "      <td>0</td>\n",
       "    </tr>\n",
       "    <tr>\n",
       "      <th>379</th>\n",
       "      <td>1</td>\n",
       "      <td>0</td>\n",
       "      <td>0</td>\n",
       "      <td>0.108365</td>\n",
       "      <td>0.431945</td>\n",
       "      <td>0.449210</td>\n",
       "      <td>1</td>\n",
       "      <td>0</td>\n",
       "      <td>0</td>\n",
       "      <td>0</td>\n",
       "      <td>0</td>\n",
       "      <td>0</td>\n",
       "      <td>1</td>\n",
       "      <td>0</td>\n",
       "      <td>0</td>\n",
       "    </tr>\n",
       "  </tbody>\n",
       "</table>\n",
       "</div>"
      ],
      "text/plain": [
       "     yr  holiday  workingday     atemp       hum  windspeed  spring  winter  \\\n",
       "367   1        0           1  0.061963  0.454701   0.695175       1       0   \n",
       "648   1        0           1  0.462175  0.477458   0.299450       0       1   \n",
       "44    0        0           1  0.419099  0.387290   0.807474       1       0   \n",
       "705   1        0           1  0.318824  0.787463   0.189819       0       1   \n",
       "379   1        0           0  0.108365  0.431945   0.449210       1       0   \n",
       "\n",
       "     Light rain_Light snow_Thunderstorm  Mist_cloudy  Saturday  Dec  Jan  Nov  \\\n",
       "367                                   0            0         0    0    1    0   \n",
       "648                                   0            0         0    0    0    0   \n",
       "44                                    0            0         0    0    0    0   \n",
       "705                                   0            1         0    1    0    0   \n",
       "379                                   0            0         0    0    1    0   \n",
       "\n",
       "     Sep  \n",
       "367    0  \n",
       "648    0  \n",
       "44     0  \n",
       "705    0  \n",
       "379    0  "
      ]
     },
     "execution_count": 49,
     "metadata": {},
     "output_type": "execute_result"
    }
   ],
   "source": [
    "# Retrieving supported Features data Set\n",
    "col = X_train.columns[rfe.support_]\n",
    "X_train_rfe=X_train[col]\n",
    "X_train_rfe.head()"
   ]
  },
  {
   "cell_type": "markdown",
   "id": "a299f5cf",
   "metadata": {},
   "source": [
    "### Using Manual Features Removal Technique - statsmodels"
   ]
  },
  {
   "cell_type": "code",
   "execution_count": 50,
   "id": "187d3678",
   "metadata": {},
   "outputs": [],
   "source": [
    "#Import lib\n",
    "import statsmodels.api as sm"
   ]
  },
  {
   "cell_type": "code",
   "execution_count": 51,
   "id": "f92c0f18",
   "metadata": {},
   "outputs": [],
   "source": [
    "# Add a constant as stats model by deafult have 0 incercept.\n",
    "X_train_lm1 = sm.add_constant(X_train_rfe)"
   ]
  },
  {
   "cell_type": "code",
   "execution_count": 52,
   "id": "72030313",
   "metadata": {},
   "outputs": [],
   "source": [
    "# Model Fitting\n",
    "lm1 = sm.OLS(y_train,X_train_lm1).fit()"
   ]
  },
  {
   "cell_type": "code",
   "execution_count": 53,
   "id": "1dd3a54d",
   "metadata": {},
   "outputs": [
    {
     "data": {
      "text/plain": [
       "const                                 2887.217070\n",
       "yr                                    2007.999141\n",
       "holiday                               -391.768939\n",
       "workingday                             459.490391\n",
       "atemp                                 3484.797661\n",
       "hum                                  -1078.063967\n",
       "windspeed                            -1392.520193\n",
       "spring                               -1028.179101\n",
       "winter                                 656.514296\n",
       "Light rain_Light snow_Thunderstorm   -2324.990975\n",
       "Mist_cloudy                           -516.250859\n",
       "Saturday                               531.561013\n",
       "Dec                                   -553.005573\n",
       "Jan                                   -493.298007\n",
       "Nov                                   -596.513894\n",
       "Sep                                    517.252899\n",
       "dtype: float64"
      ]
     },
     "execution_count": 53,
     "metadata": {},
     "output_type": "execute_result"
    }
   ],
   "source": [
    "# Check the parameters obtained\n",
    "lm1.params"
   ]
  },
  {
   "cell_type": "code",
   "execution_count": 54,
   "id": "5fd9bfe1",
   "metadata": {},
   "outputs": [
    {
     "name": "stdout",
     "output_type": "stream",
     "text": [
      "                            OLS Regression Results                            \n",
      "==============================================================================\n",
      "Dep. Variable:                    cnt   R-squared:                       0.848\n",
      "Model:                            OLS   Adj. R-squared:                  0.844\n",
      "Method:                 Least Squares   F-statistic:                     210.9\n",
      "Date:                Tue, 17 May 2022   Prob (F-statistic):          1.21e-220\n",
      "Time:                        21:48:01   Log-Likelihood:                -4705.2\n",
      "No. Observations:                 584   AIC:                             9442.\n",
      "Df Residuals:                     568   BIC:                             9512.\n",
      "Df Model:                          15                                         \n",
      "Covariance Type:            nonrobust                                         \n",
      "======================================================================================================\n",
      "                                         coef    std err          t      P>|t|      [0.025      0.975]\n",
      "------------------------------------------------------------------------------------------------------\n",
      "const                               2887.2171    272.021     10.614      0.000    2352.927    3421.508\n",
      "yr                                  2007.9991     65.092     30.849      0.000    1880.149    2135.849\n",
      "holiday                             -391.7689    212.543     -1.843      0.066    -809.235      25.697\n",
      "workingday                           459.4904     90.987      5.050      0.000     280.779     638.202\n",
      "atemp                               3484.7977    265.670     13.117      0.000    2962.982    4006.613\n",
      "hum                                -1078.0640    309.653     -3.482      0.001   -1686.269    -469.859\n",
      "windspeed                          -1392.5202    209.055     -6.661      0.000   -1803.136    -981.904\n",
      "spring                             -1028.1791    123.063     -8.355      0.000   -1269.893    -786.465\n",
      "winter                               656.5143    108.348      6.059      0.000     443.702     869.327\n",
      "Light rain_Light snow_Thunderstorm -2324.9910    219.869    -10.574      0.000   -2756.846   -1893.136\n",
      "Mist_cloudy                         -516.2509     85.610     -6.030      0.000    -684.402    -348.100\n",
      "Saturday                             531.5610    116.719      4.554      0.000     302.308     760.814\n",
      "Dec                                 -553.0056    134.667     -4.106      0.000    -817.512    -288.499\n",
      "Jan                                 -493.2980    143.280     -3.443      0.001    -774.722    -211.874\n",
      "Nov                                 -596.5139    150.160     -3.973      0.000    -891.451    -301.577\n",
      "Sep                                  517.2529    122.760      4.214      0.000     276.135     758.371\n",
      "==============================================================================\n",
      "Omnibus:                      104.447   Durbin-Watson:                   2.066\n",
      "Prob(Omnibus):                  0.000   Jarque-Bera (JB):              314.245\n",
      "Skew:                          -0.852   Prob(JB):                     5.79e-69\n",
      "Kurtosis:                       6.164   Cond. No.                         21.2\n",
      "==============================================================================\n",
      "\n",
      "Notes:\n",
      "[1] Standard Errors assume that the covariance matrix of the errors is correctly specified.\n"
     ]
    }
   ],
   "source": [
    "print(lm1.summary())"
   ]
  },
  {
   "cell_type": "markdown",
   "id": "439b26e6",
   "metadata": {},
   "source": [
    "### Removing another variable\n",
    "### Let's Test Multicolinearity to decide which fetaure to eliminate"
   ]
  },
  {
   "cell_type": "code",
   "execution_count": 55,
   "id": "a4487953",
   "metadata": {},
   "outputs": [],
   "source": [
    "#import Lib\n",
    "from statsmodels.stats.outliers_influence import variance_inflation_factor"
   ]
  },
  {
   "cell_type": "markdown",
   "id": "734f9875",
   "metadata": {},
   "source": [
    "## Checking VIF\n",
    "### Variance Inflation Factor or VIF, gives a basic quantitative idea about how much the feature variables are correlated with each other. It is an extremely important parameter to test our linear model. The formula for calculating VIF is:"
   ]
  },
  {
   "cell_type": "code",
   "execution_count": 56,
   "id": "ca3b7a45",
   "metadata": {},
   "outputs": [],
   "source": [
    "# Define function to check VIF in Train set\n",
    "def checkVIF(X_train):\n",
    "    vif = pd.DataFrame()\n",
    "    vif['Features'] = X_train.columns\n",
    "    vif['VIF'] = [variance_inflation_factor(X_train.values, i) for i in range(X_train.shape[1])]\n",
    "    vif['VIF'] = round(vif['VIF'], 2)\n",
    "    vif = vif.sort_values(by = \"VIF\", ascending = False)\n",
    "    print(vif)"
   ]
  },
  {
   "cell_type": "code",
   "execution_count": 57,
   "id": "513493d6",
   "metadata": {},
   "outputs": [
    {
     "name": "stdout",
     "output_type": "stream",
     "text": [
      "                              Features    VIF\n",
      "4                                  hum  25.64\n",
      "3                                atemp  15.68\n",
      "2                           workingday   4.99\n",
      "5                            windspeed   4.19\n",
      "6                               spring   3.01\n",
      "7                               winter   2.72\n",
      "9                          Mist_cloudy   2.30\n",
      "0                                   yr   2.07\n",
      "10                            Saturday   1.90\n",
      "13                                 Nov   1.73\n",
      "12                                 Jan   1.70\n",
      "11                                 Dec   1.52\n",
      "8   Light rain_Light snow_Thunderstorm   1.23\n",
      "1                              holiday   1.20\n",
      "14                                 Sep   1.18\n"
     ]
    }
   ],
   "source": [
    "checkVIF(X_train_rfe)"
   ]
  },
  {
   "cell_type": "markdown",
   "id": "704db691",
   "metadata": {},
   "source": [
    "### Let's drop Column 'hum' as it has veru high VIF and retrain the model"
   ]
  },
  {
   "cell_type": "code",
   "execution_count": 58,
   "id": "fcd51c8f",
   "metadata": {},
   "outputs": [],
   "source": [
    "X_train_rfe=X_train_rfe.drop(['hum'],axis=1)"
   ]
  },
  {
   "cell_type": "code",
   "execution_count": 59,
   "id": "1f2069e0",
   "metadata": {},
   "outputs": [
    {
     "name": "stdout",
     "output_type": "stream",
     "text": [
      "                            OLS Regression Results                            \n",
      "==============================================================================\n",
      "Dep. Variable:                    cnt   R-squared:                       0.845\n",
      "Model:                            OLS   Adj. R-squared:                  0.841\n",
      "Method:                 Least Squares   F-statistic:                     220.7\n",
      "Date:                Tue, 17 May 2022   Prob (F-statistic):          3.14e-219\n",
      "Time:                        21:48:02   Log-Likelihood:                -4711.4\n",
      "No. Observations:                 584   AIC:                             9453.\n",
      "Df Residuals:                     569   BIC:                             9518.\n",
      "Df Model:                          14                                         \n",
      "Covariance Type:            nonrobust                                         \n",
      "======================================================================================================\n",
      "                                         coef    std err          t      P>|t|      [0.025      0.975]\n",
      "------------------------------------------------------------------------------------------------------\n",
      "const                               2303.5766    216.309     10.649      0.000    1878.715    2728.438\n",
      "yr                                  2038.4099     65.130     31.297      0.000    1910.485    2166.335\n",
      "holiday                             -375.5767    214.559     -1.750      0.081    -797.000      45.847\n",
      "workingday                           473.0020     91.788      5.153      0.000     292.717     653.287\n",
      "atemp                               3275.4205    261.290     12.536      0.000    2762.210    3788.632\n",
      "windspeed                          -1209.4770    204.304     -5.920      0.000   -1610.759    -808.195\n",
      "spring                             -1043.0017    124.185     -8.399      0.000   -1286.919    -799.084\n",
      "winter                               602.2995    108.266      5.563      0.000     389.649     814.950\n",
      "Light rain_Light snow_Thunderstorm -2632.5778    203.296    -12.949      0.000   -3031.880   -2233.276\n",
      "Mist_cloudy                         -693.1433     69.573     -9.963      0.000    -829.794    -556.493\n",
      "Saturday                             555.8698    117.643      4.725      0.000     324.803     786.936\n",
      "Dec                                 -598.9110    135.323     -4.426      0.000    -864.706    -333.116\n",
      "Jan                                 -526.6564    144.350     -3.648      0.000    -810.180    -243.133\n",
      "Nov                                 -598.6789    151.619     -3.949      0.000    -896.481    -300.877\n",
      "Sep                                  480.5590    123.496      3.891      0.000     237.996     723.122\n",
      "==============================================================================\n",
      "Omnibus:                      103.851   Durbin-Watson:                   2.057\n",
      "Prob(Omnibus):                  0.000   Jarque-Bera (JB):              309.553\n",
      "Skew:                          -0.851   Prob(JB):                     6.04e-68\n",
      "Kurtosis:                       6.135   Cond. No.                         17.1\n",
      "==============================================================================\n",
      "\n",
      "Notes:\n",
      "[1] Standard Errors assume that the covariance matrix of the errors is correctly specified.\n"
     ]
    }
   ],
   "source": [
    "#Retrain model \n",
    "X_train_lm2 = sm.add_constant(X_train_rfe)\n",
    "lm2 = sm.OLS(y_train,X_train_lm2).fit()\n",
    "print(lm2.summary())"
   ]
  },
  {
   "cell_type": "code",
   "execution_count": 60,
   "id": "a675c2a8",
   "metadata": {},
   "outputs": [
    {
     "name": "stdout",
     "output_type": "stream",
     "text": [
      "                              Features   VIF\n",
      "3                                atemp  5.70\n",
      "2                           workingday  4.86\n",
      "4                            windspeed  4.16\n",
      "5                               spring  2.46\n",
      "6                               winter  2.37\n",
      "0                                   yr  2.07\n",
      "9                             Saturday  1.88\n",
      "12                                 Nov  1.70\n",
      "11                                 Jan  1.63\n",
      "8                          Mist_cloudy  1.53\n",
      "10                                 Dec  1.44\n",
      "1                              holiday  1.19\n",
      "13                                 Sep  1.17\n",
      "7   Light rain_Light snow_Thunderstorm  1.08\n"
     ]
    }
   ],
   "source": [
    "#Check VIF Again\n",
    "checkVIF(X_train_rfe)"
   ]
  },
  {
   "cell_type": "markdown",
   "id": "2703589e",
   "metadata": {},
   "source": [
    "### 'atemp' has very high VIF but, we earlier saw that it has highest correlation with cnt, so we will not drop it yet.\n",
    "### Let's drop Column 'workingday' as it also has very high VIF and retrain the model"
   ]
  },
  {
   "cell_type": "code",
   "execution_count": 61,
   "id": "f3a2d475",
   "metadata": {},
   "outputs": [
    {
     "name": "stdout",
     "output_type": "stream",
     "text": [
      "                            OLS Regression Results                            \n",
      "==============================================================================\n",
      "Dep. Variable:                    cnt   R-squared:                       0.837\n",
      "Model:                            OLS   Adj. R-squared:                  0.834\n",
      "Method:                 Least Squares   F-statistic:                     225.6\n",
      "Date:                Tue, 17 May 2022   Prob (F-statistic):          8.42e-215\n",
      "Time:                        21:48:02   Log-Likelihood:                -4724.7\n",
      "No. Observations:                 584   AIC:                             9477.\n",
      "Df Residuals:                     570   BIC:                             9539.\n",
      "Df Model:                          13                                         \n",
      "Covariance Type:            nonrobust                                         \n",
      "======================================================================================================\n",
      "                                         coef    std err          t      P>|t|      [0.025      0.975]\n",
      "------------------------------------------------------------------------------------------------------\n",
      "const                               2649.7475    210.172     12.607      0.000    2236.941    3062.554\n",
      "yr                                  2044.0856     66.565     30.708      0.000    1913.344    2174.828\n",
      "holiday                             -754.5398    206.031     -3.662      0.000   -1159.213    -349.867\n",
      "atemp                               3311.8555    266.986     12.405      0.000    2787.460    3836.251\n",
      "windspeed                          -1187.5610    208.788     -5.688      0.000   -1597.649    -777.473\n",
      "spring                             -1047.2576    126.936     -8.250      0.000   -1296.577    -797.938\n",
      "winter                               598.4845    110.664      5.408      0.000     381.125     815.844\n",
      "Light rain_Light snow_Thunderstorm -2578.8522    207.530    -12.426      0.000   -2986.468   -2171.236\n",
      "Mist_cloudy                         -671.3838     70.984     -9.458      0.000    -810.806    -531.962\n",
      "Saturday                             171.2258     92.947      1.842      0.066     -11.334     353.786\n",
      "Dec                                 -583.5311    138.290     -4.220      0.000    -855.152    -311.911\n",
      "Jan                                 -515.9084    147.535     -3.497      0.001    -805.686    -226.130\n",
      "Nov                                 -600.2999    154.981     -3.873      0.000    -904.703    -295.897\n",
      "Sep                                  485.3035    126.230      3.845      0.000     237.370     733.237\n",
      "==============================================================================\n",
      "Omnibus:                      103.814   Durbin-Watson:                   2.021\n",
      "Prob(Omnibus):                  0.000   Jarque-Bera (JB):              282.780\n",
      "Skew:                          -0.880   Prob(JB):                     3.94e-62\n",
      "Kurtosis:                       5.919   Cond. No.                         15.3\n",
      "==============================================================================\n",
      "\n",
      "Notes:\n",
      "[1] Standard Errors assume that the covariance matrix of the errors is correctly specified.\n"
     ]
    }
   ],
   "source": [
    "X_train_rfe=X_train_rfe.drop(['workingday'],axis=1)\n",
    "#train model \n",
    "X_train_lm3 = sm.add_constant(X_train_rfe)\n",
    "lm3 = sm.OLS(y_train,X_train_lm3).fit()\n",
    "print(lm3.summary())"
   ]
  },
  {
   "cell_type": "code",
   "execution_count": 62,
   "id": "33d48d2b",
   "metadata": {},
   "outputs": [
    {
     "name": "stdout",
     "output_type": "stream",
     "text": [
      "                              Features   VIF\n",
      "3                            windspeed  4.02\n",
      "2                                atemp  3.84\n",
      "4                               spring  2.33\n",
      "5                               winter  2.32\n",
      "0                                   yr  2.06\n",
      "11                                 Nov  1.69\n",
      "10                                 Jan  1.61\n",
      "7                          Mist_cloudy  1.50\n",
      "9                                  Dec  1.42\n",
      "8                             Saturday  1.19\n",
      "12                                 Sep  1.17\n",
      "6   Light rain_Light snow_Thunderstorm  1.08\n",
      "1                              holiday  1.06\n"
     ]
    }
   ],
   "source": [
    "#Check VIF Again\n",
    "checkVIF(X_train_rfe)"
   ]
  },
  {
   "cell_type": "markdown",
   "id": "f5e22a4c",
   "metadata": {},
   "source": [
    "### 'Saturday' has high p value, so now let's drop it"
   ]
  },
  {
   "cell_type": "code",
   "execution_count": 63,
   "id": "8b006778",
   "metadata": {},
   "outputs": [
    {
     "name": "stdout",
     "output_type": "stream",
     "text": [
      "                            OLS Regression Results                            \n",
      "==============================================================================\n",
      "Dep. Variable:                    cnt   R-squared:                       0.836\n",
      "Model:                            OLS   Adj. R-squared:                  0.833\n",
      "Method:                 Least Squares   F-statistic:                     243.1\n",
      "Date:                Tue, 17 May 2022   Prob (F-statistic):          2.85e-215\n",
      "Time:                        21:48:03   Log-Likelihood:                -4726.5\n",
      "No. Observations:                 584   AIC:                             9479.\n",
      "Df Residuals:                     571   BIC:                             9536.\n",
      "Df Model:                          12                                         \n",
      "Covariance Type:            nonrobust                                         \n",
      "======================================================================================================\n",
      "                                         coef    std err          t      P>|t|      [0.025      0.975]\n",
      "------------------------------------------------------------------------------------------------------\n",
      "const                               2672.8159    210.238     12.713      0.000    2259.881    3085.751\n",
      "yr                                  2039.4035     66.655     30.596      0.000    1908.484    2170.323\n",
      "holiday                             -781.7464    205.931     -3.796      0.000   -1186.222    -377.271\n",
      "atemp                               3309.1118    267.540     12.369      0.000    2783.628    3834.595\n",
      "windspeed                          -1167.2419    208.933     -5.587      0.000   -1577.614    -756.870\n",
      "spring                             -1048.2525    127.201     -8.241      0.000   -1298.091    -798.414\n",
      "winter                               598.9857    110.895      5.401      0.000     381.173     816.798\n",
      "Light rain_Light snow_Thunderstorm -2576.5775    207.960    -12.390      0.000   -2985.038   -2168.117\n",
      "Mist_cloudy                         -671.8795     71.132     -9.446      0.000    -811.592    -532.167\n",
      "Dec                                 -577.7331    138.544     -4.170      0.000    -849.851    -305.615\n",
      "Jan                                 -513.3397    147.837     -3.472      0.001    -803.710    -222.969\n",
      "Nov                                 -602.7963    155.299     -3.882      0.000    -907.824    -297.769\n",
      "Sep                                  491.5529    126.449      3.887      0.000     243.191     739.915\n",
      "==============================================================================\n",
      "Omnibus:                       97.809   Durbin-Watson:                   2.024\n",
      "Prob(Omnibus):                  0.000   Jarque-Bera (JB):              273.338\n",
      "Skew:                          -0.823   Prob(JB):                     4.42e-60\n",
      "Kurtosis:                       5.920   Cond. No.                         15.2\n",
      "==============================================================================\n",
      "\n",
      "Notes:\n",
      "[1] Standard Errors assume that the covariance matrix of the errors is correctly specified.\n"
     ]
    }
   ],
   "source": [
    "X_train_rfe=X_train_rfe.drop(['Saturday'],axis=1)\n",
    "#train model \n",
    "X_train_lm4 = sm.add_constant(X_train_rfe)\n",
    "lm4 = sm.OLS(y_train,X_train_lm4).fit()\n",
    "print(lm4.summary())"
   ]
  },
  {
   "cell_type": "code",
   "execution_count": 64,
   "id": "fca4e150",
   "metadata": {},
   "outputs": [
    {
     "name": "stdout",
     "output_type": "stream",
     "text": [
      "                              Features   VIF\n",
      "3                            windspeed  3.98\n",
      "2                                atemp  3.79\n",
      "4                               spring  2.33\n",
      "5                               winter  2.32\n",
      "0                                   yr  2.06\n",
      "10                                 Nov  1.69\n",
      "9                                  Jan  1.61\n",
      "7                          Mist_cloudy  1.50\n",
      "8                                  Dec  1.42\n",
      "11                                 Sep  1.17\n",
      "6   Light rain_Light snow_Thunderstorm  1.07\n",
      "1                              holiday  1.06\n"
     ]
    }
   ],
   "source": [
    "#Check VIF Again\n",
    "checkVIF(X_train_rfe)"
   ]
  },
  {
   "cell_type": "code",
   "execution_count": 65,
   "id": "9a4308c6",
   "metadata": {},
   "outputs": [
    {
     "name": "stdout",
     "output_type": "stream",
     "text": [
      "                            OLS Regression Results                            \n",
      "==============================================================================\n",
      "Dep. Variable:                    cnt   R-squared:                       0.827\n",
      "Model:                            OLS   Adj. R-squared:                  0.824\n",
      "Method:                 Least Squares   F-statistic:                     249.2\n",
      "Date:                Tue, 17 May 2022   Prob (F-statistic):          6.63e-210\n",
      "Time:                        21:48:03   Log-Likelihood:                -4742.0\n",
      "No. Observations:                 584   AIC:                             9508.\n",
      "Df Residuals:                     572   BIC:                             9560.\n",
      "Df Model:                          11                                         \n",
      "Covariance Type:            nonrobust                                         \n",
      "======================================================================================================\n",
      "                                         coef    std err          t      P>|t|      [0.025      0.975]\n",
      "------------------------------------------------------------------------------------------------------\n",
      "const                               2108.6784    189.207     11.145      0.000    1737.053    2480.303\n",
      "yr                                  2030.1645     68.372     29.693      0.000    1895.874    2164.455\n",
      "holiday                             -807.6442    211.246     -3.823      0.000   -1222.557    -392.731\n",
      "atemp                               3610.2790    268.884     13.427      0.000    3082.158    4138.400\n",
      "spring                             -1051.7038    130.515     -8.058      0.000   -1308.051    -795.357\n",
      "winter                               672.8630    112.974      5.956      0.000     450.968     894.758\n",
      "Light rain_Light snow_Thunderstorm -2684.0534    212.467    -12.633      0.000   -3101.363   -2266.743\n",
      "Mist_cloudy                         -656.2033     72.930     -8.998      0.000    -799.446    -512.961\n",
      "Dec                                 -488.1215    141.199     -3.457      0.001    -765.454    -210.789\n",
      "Jan                                 -407.0939    150.431     -2.706      0.007    -702.558    -111.630\n",
      "Nov                                 -593.9360    159.339     -3.727      0.000    -906.897    -280.975\n",
      "Sep                                  545.1018    129.372      4.213      0.000     291.000     799.204\n",
      "==============================================================================\n",
      "Omnibus:                       98.903   Durbin-Watson:                   2.039\n",
      "Prob(Omnibus):                  0.000   Jarque-Bera (JB):              288.413\n",
      "Skew:                          -0.818   Prob(JB):                     2.35e-63\n",
      "Kurtosis:                       6.030   Cond. No.                         13.9\n",
      "==============================================================================\n",
      "\n",
      "Notes:\n",
      "[1] Standard Errors assume that the covariance matrix of the errors is correctly specified.\n"
     ]
    }
   ],
   "source": [
    "# Now 'windspeed' has quite high VIF value, hence we will drop it.\n",
    "X_train_rfe=X_train_rfe.drop(['windspeed'],axis=1)\n",
    "#train model \n",
    "X_train_lm5 = sm.add_constant(X_train_rfe)\n",
    "lm5 = sm.OLS(y_train,X_train_lm5).fit()\n",
    "print(lm5.summary())"
   ]
  },
  {
   "cell_type": "code",
   "execution_count": 66,
   "id": "d60f7560",
   "metadata": {},
   "outputs": [
    {
     "name": "stdout",
     "output_type": "stream",
     "text": [
      "                              Features   VIF\n",
      "2                                atemp  2.39\n",
      "4                               winter  2.30\n",
      "0                                   yr  2.05\n",
      "3                               spring  1.90\n",
      "9                                  Nov  1.67\n",
      "8                                  Jan  1.61\n",
      "6                          Mist_cloudy  1.50\n",
      "7                                  Dec  1.42\n",
      "10                                 Sep  1.17\n",
      "1                              holiday  1.06\n",
      "5   Light rain_Light snow_Thunderstorm  1.05\n"
     ]
    }
   ],
   "source": [
    "#Check VIF Again\n",
    "checkVIF(X_train_rfe)"
   ]
  },
  {
   "cell_type": "markdown",
   "id": "43a10db8",
   "metadata": {},
   "source": [
    "### Let's try to drop 'winter' which has high VIF in the above model and see if model improves"
   ]
  },
  {
   "cell_type": "code",
   "execution_count": 67,
   "id": "c677be52",
   "metadata": {},
   "outputs": [
    {
     "name": "stdout",
     "output_type": "stream",
     "text": [
      "                            OLS Regression Results                            \n",
      "==============================================================================\n",
      "Dep. Variable:                    cnt   R-squared:                       0.817\n",
      "Model:                            OLS   Adj. R-squared:                  0.813\n",
      "Method:                 Least Squares   F-statistic:                     255.2\n",
      "Date:                Tue, 17 May 2022   Prob (F-statistic):          1.14e-203\n",
      "Time:                        21:48:03   Log-Likelihood:                -4759.6\n",
      "No. Observations:                 584   AIC:                             9541.\n",
      "Df Residuals:                     573   BIC:                             9589.\n",
      "Df Model:                          10                                         \n",
      "Covariance Type:            nonrobust                                         \n",
      "======================================================================================================\n",
      "                                         coef    std err          t      P>|t|      [0.025      0.975]\n",
      "------------------------------------------------------------------------------------------------------\n",
      "const                               2569.1533    177.809     14.449      0.000    2219.917    2918.389\n",
      "yr                                  2042.6764     70.365     29.030      0.000    1904.471    2180.882\n",
      "holiday                             -825.4188    217.486     -3.795      0.000   -1252.586    -398.252\n",
      "atemp                               3076.8403    261.044     11.787      0.000    2564.121    3589.560\n",
      "spring                             -1396.3539    120.453    -11.593      0.000   -1632.937   -1159.771\n",
      "Light rain_Light snow_Thunderstorm -2602.2133    218.307    -11.920      0.000   -3030.992   -2173.435\n",
      "Mist_cloudy                         -650.9493     75.086     -8.669      0.000    -798.426    -503.472\n",
      "Dec                                 -229.1022    138.317     -1.656      0.098    -500.772      42.568\n",
      "Jan                                 -422.2784    154.867     -2.727      0.007    -726.455    -118.102\n",
      "Nov                                 -187.3177    148.240     -1.264      0.207    -478.477     103.842\n",
      "Sep                                  597.7972    132.895      4.498      0.000     336.777     858.818\n",
      "==============================================================================\n",
      "Omnibus:                       73.249   Durbin-Watson:                   2.054\n",
      "Prob(Omnibus):                  0.000   Jarque-Bera (JB):              167.074\n",
      "Skew:                          -0.684   Prob(JB):                     5.25e-37\n",
      "Kurtosis:                       5.235   Cond. No.                         13.0\n",
      "==============================================================================\n",
      "\n",
      "Notes:\n",
      "[1] Standard Errors assume that the covariance matrix of the errors is correctly specified.\n"
     ]
    }
   ],
   "source": [
    "X_train_rfe=X_train_rfe.drop(['winter'],axis=1)\n",
    "#train model \n",
    "X_train_lm6 = sm.add_constant(X_train_rfe)\n",
    "lm6 = sm.OLS(y_train,X_train_lm6).fit()\n",
    "print(lm6.summary())"
   ]
  },
  {
   "cell_type": "code",
   "execution_count": 68,
   "id": "0f6328ab",
   "metadata": {},
   "outputs": [
    {
     "name": "stdout",
     "output_type": "stream",
     "text": [
      "                             Features   VIF\n",
      "2                               atemp  2.34\n",
      "0                                  yr  2.03\n",
      "3                              spring  1.79\n",
      "7                                 Jan  1.60\n",
      "5                         Mist_cloudy  1.48\n",
      "9                                 Sep  1.16\n",
      "6                                 Dec  1.12\n",
      "8                                 Nov  1.09\n",
      "1                             holiday  1.06\n",
      "4  Light rain_Light snow_Thunderstorm  1.04\n"
     ]
    }
   ],
   "source": [
    "#Check VIF Again\n",
    "checkVIF(X_train_rfe)"
   ]
  },
  {
   "cell_type": "markdown",
   "id": "26a48c55",
   "metadata": {},
   "source": [
    "### Let's try to drop 'Nov' which has high p value in the above model and see if model improves"
   ]
  },
  {
   "cell_type": "code",
   "execution_count": 69,
   "id": "caf9b2ec",
   "metadata": {},
   "outputs": [
    {
     "name": "stdout",
     "output_type": "stream",
     "text": [
      "                            OLS Regression Results                            \n",
      "==============================================================================\n",
      "Dep. Variable:                    cnt   R-squared:                       0.816\n",
      "Model:                            OLS   Adj. R-squared:                  0.813\n",
      "Method:                 Least Squares   F-statistic:                     283.1\n",
      "Date:                Tue, 17 May 2022   Prob (F-statistic):          1.45e-204\n",
      "Time:                        21:48:03   Log-Likelihood:                -4760.4\n",
      "No. Observations:                 584   AIC:                             9541.\n",
      "Df Residuals:                     574   BIC:                             9584.\n",
      "Df Model:                           9                                         \n",
      "Covariance Type:            nonrobust                                         \n",
      "======================================================================================================\n",
      "                                         coef    std err          t      P>|t|      [0.025      0.975]\n",
      "------------------------------------------------------------------------------------------------------\n",
      "const                               2458.0666    154.636     15.896      0.000    2154.346    2761.788\n",
      "yr                                  2041.5788     70.397     29.001      0.000    1903.312    2179.845\n",
      "holiday                             -860.2834    215.841     -3.986      0.000   -1284.218    -436.349\n",
      "atemp                               3220.9176    234.948     13.709      0.000    2759.455    3682.381\n",
      "spring                             -1340.5275    112.116    -11.957      0.000   -1560.736   -1120.319\n",
      "Light rain_Light snow_Thunderstorm -2595.6876    218.359    -11.887      0.000   -3024.567   -2166.808\n",
      "Mist_cloudy                         -645.1359     74.984     -8.604      0.000    -792.412    -497.860\n",
      "Dec                                 -185.0259    133.916     -1.382      0.168    -448.051      78.000\n",
      "Jan                                 -396.0082    153.545     -2.579      0.010    -697.587     -94.429\n",
      "Sep                                  613.0619    132.413      4.630      0.000     352.988     873.136\n",
      "==============================================================================\n",
      "Omnibus:                       72.365   Durbin-Watson:                   2.055\n",
      "Prob(Omnibus):                  0.000   Jarque-Bera (JB):              165.198\n",
      "Skew:                          -0.676   Prob(JB):                     1.34e-36\n",
      "Kurtosis:                       5.227   Cond. No.                         11.2\n",
      "==============================================================================\n",
      "\n",
      "Notes:\n",
      "[1] Standard Errors assume that the covariance matrix of the errors is correctly specified.\n"
     ]
    }
   ],
   "source": [
    "X_train_rfe=X_train_rfe.drop(['Nov'],axis=1)\n",
    "#train model \n",
    "X_train_lm7 = sm.add_constant(X_train_rfe)\n",
    "lm7 = sm.OLS(y_train,X_train_lm7).fit()\n",
    "print(lm7.summary())"
   ]
  },
  {
   "cell_type": "code",
   "execution_count": 70,
   "id": "e574301b",
   "metadata": {},
   "outputs": [
    {
     "name": "stdout",
     "output_type": "stream",
     "text": [
      "                             Features   VIF\n",
      "2                               atemp  2.33\n",
      "0                                  yr  2.01\n",
      "3                              spring  1.78\n",
      "7                                 Jan  1.60\n",
      "5                         Mist_cloudy  1.47\n",
      "8                                 Sep  1.15\n",
      "6                                 Dec  1.11\n",
      "1                             holiday  1.04\n",
      "4  Light rain_Light snow_Thunderstorm  1.03\n"
     ]
    }
   ],
   "source": [
    "#Check VIF Again\n",
    "checkVIF(X_train_rfe)"
   ]
  },
  {
   "cell_type": "markdown",
   "id": "70733246",
   "metadata": {},
   "source": [
    "### Let's try to drop 'Dec' which has high p value in the above model and see if model improves"
   ]
  },
  {
   "cell_type": "code",
   "execution_count": 71,
   "id": "441687fa",
   "metadata": {},
   "outputs": [
    {
     "name": "stdout",
     "output_type": "stream",
     "text": [
      "                            OLS Regression Results                            \n",
      "==============================================================================\n",
      "Dep. Variable:                    cnt   R-squared:                       0.816\n",
      "Model:                            OLS   Adj. R-squared:                  0.813\n",
      "Method:                 Least Squares   F-statistic:                     317.7\n",
      "Date:                Tue, 17 May 2022   Prob (F-statistic):          2.04e-205\n",
      "Time:                        21:48:05   Log-Likelihood:                -4761.4\n",
      "No. Observations:                 584   AIC:                             9541.\n",
      "Df Residuals:                     575   BIC:                             9580.\n",
      "Df Model:                           8                                         \n",
      "Covariance Type:            nonrobust                                         \n",
      "======================================================================================================\n",
      "                                         coef    std err          t      P>|t|      [0.025      0.975]\n",
      "------------------------------------------------------------------------------------------------------\n",
      "const                               2381.9038    144.591     16.473      0.000    2097.913    2665.894\n",
      "yr                                  2039.0273     70.428     28.952      0.000    1900.700    2177.355\n",
      "holiday                             -864.6190    215.989     -4.003      0.000   -1288.842    -440.396\n",
      "atemp                               3327.0603    222.209     14.973      0.000    2890.620    3763.501\n",
      "spring                             -1332.3972    112.050    -11.891      0.000   -1552.475   -1112.319\n",
      "Light rain_Light snow_Thunderstorm -2591.0389    218.505    -11.858      0.000   -3020.205   -2161.873\n",
      "Mist_cloudy                         -645.1144     75.043     -8.597      0.000    -792.506    -497.723\n",
      "Jan                                 -347.9457    149.671     -2.325      0.020    -641.914     -53.977\n",
      "Sep                                  620.3430    132.413      4.685      0.000     360.271     880.415\n",
      "==============================================================================\n",
      "Omnibus:                       70.424   Durbin-Watson:                   2.056\n",
      "Prob(Omnibus):                  0.000   Jarque-Bera (JB):              159.685\n",
      "Skew:                          -0.662   Prob(JB):                     2.11e-35\n",
      "Kurtosis:                       5.194   Cond. No.                         10.5\n",
      "==============================================================================\n",
      "\n",
      "Notes:\n",
      "[1] Standard Errors assume that the covariance matrix of the errors is correctly specified.\n"
     ]
    }
   ],
   "source": [
    "X_train_rfe=X_train_rfe.drop(['Dec'],axis=1)\n",
    "#train model \n",
    "X_train_lm8 = sm.add_constant(X_train_rfe)\n",
    "lm8 = sm.OLS(y_train,X_train_lm8).fit()\n",
    "print(lm8.summary())"
   ]
  },
  {
   "cell_type": "code",
   "execution_count": 72,
   "id": "efacfbb8",
   "metadata": {},
   "outputs": [
    {
     "name": "stdout",
     "output_type": "stream",
     "text": [
      "                             Features   VIF\n",
      "2                               atemp  2.33\n",
      "0                                  yr  2.00\n",
      "3                              spring  1.72\n",
      "6                                 Jan  1.55\n",
      "5                         Mist_cloudy  1.45\n",
      "7                                 Sep  1.15\n",
      "1                             holiday  1.04\n",
      "4  Light rain_Light snow_Thunderstorm  1.03\n"
     ]
    }
   ],
   "source": [
    "#Check VIF Again\n",
    "checkVIF(X_train_rfe)"
   ]
  },
  {
   "cell_type": "markdown",
   "id": "9c28f410",
   "metadata": {},
   "source": [
    "### Let's try to drop 'Jan' which has high p value in the above model and see if model improves"
   ]
  },
  {
   "cell_type": "code",
   "execution_count": 73,
   "id": "78c483a2",
   "metadata": {},
   "outputs": [
    {
     "name": "stdout",
     "output_type": "stream",
     "text": [
      "                            OLS Regression Results                            \n",
      "==============================================================================\n",
      "Dep. Variable:                    cnt   R-squared:                       0.814\n",
      "Model:                            OLS   Adj. R-squared:                  0.812\n",
      "Method:                 Least Squares   F-statistic:                     359.6\n",
      "Date:                Tue, 17 May 2022   Prob (F-statistic):          1.52e-205\n",
      "Time:                        21:48:05   Log-Likelihood:                -4764.1\n",
      "No. Observations:                 584   AIC:                             9544.\n",
      "Df Residuals:                     576   BIC:                             9579.\n",
      "Df Model:                           7                                         \n",
      "Covariance Type:            nonrobust                                         \n",
      "======================================================================================================\n",
      "                                         coef    std err          t      P>|t|      [0.025      0.975]\n",
      "------------------------------------------------------------------------------------------------------\n",
      "const                               2329.7972    143.388     16.248      0.000    2048.170    2611.425\n",
      "yr                                  2034.9703     70.675     28.793      0.000    1896.158    2173.782\n",
      "holiday                             -873.5290    216.779     -4.030      0.000   -1299.302    -447.756\n",
      "atemp                               3421.5839    219.291     15.603      0.000    2990.877    3852.291\n",
      "spring                             -1424.4364    105.223    -13.537      0.000   -1631.104   -1217.769\n",
      "Light rain_Light snow_Thunderstorm -2561.0004    218.955    -11.696      0.000   -2991.049   -2130.952\n",
      "Mist_cloudy                         -649.5445     75.305     -8.626      0.000    -797.450    -501.639\n",
      "Sep                                  612.9308    132.880      4.613      0.000     351.943     873.919\n",
      "==============================================================================\n",
      "Omnibus:                       67.256   Durbin-Watson:                   2.061\n",
      "Prob(Omnibus):                  0.000   Jarque-Bera (JB):              152.392\n",
      "Skew:                          -0.634   Prob(JB):                     8.10e-34\n",
      "Kurtosis:                       5.157   Cond. No.                         10.3\n",
      "==============================================================================\n",
      "\n",
      "Notes:\n",
      "[1] Standard Errors assume that the covariance matrix of the errors is correctly specified.\n"
     ]
    }
   ],
   "source": [
    "X_train_rfe=X_train_rfe.drop(['Jan'],axis=1)\n",
    "#train model \n",
    "X_train_lm9 = sm.add_constant(X_train_rfe)\n",
    "lm9 = sm.OLS(y_train,X_train_lm9).fit()\n",
    "print(lm9.summary())"
   ]
  },
  {
   "cell_type": "code",
   "execution_count": 74,
   "id": "d97b7813",
   "metadata": {},
   "outputs": [
    {
     "name": "stdout",
     "output_type": "stream",
     "text": [
      "                             Features   VIF\n",
      "2                               atemp  2.30\n",
      "0                                  yr  1.99\n",
      "5                         Mist_cloudy  1.44\n",
      "3                              spring  1.20\n",
      "6                                 Sep  1.15\n",
      "1                             holiday  1.03\n",
      "4  Light rain_Light snow_Thunderstorm  1.03\n"
     ]
    }
   ],
   "source": [
    "#Check VIF Again\n",
    "checkVIF(X_train_rfe)"
   ]
  },
  {
   "cell_type": "code",
   "execution_count": 75,
   "id": "86f18ad8",
   "metadata": {},
   "outputs": [
    {
     "data": {
      "text/plain": [
       "Index(['yr', 'holiday', 'atemp', 'spring',\n",
       "       'Light rain_Light snow_Thunderstorm', 'Mist_cloudy', 'Sep'],\n",
       "      dtype='object')"
      ]
     },
     "execution_count": 75,
     "metadata": {},
     "output_type": "execute_result"
    }
   ],
   "source": [
    "# Our Features of Final Model\n",
    "X_train_rfe.columns"
   ]
  },
  {
   "cell_type": "markdown",
   "id": "5cf695ef",
   "metadata": {},
   "source": [
    "### Now, lt seems best model, where all VIFs are below 2.5 and very small p values for all coefficients."
   ]
  },
  {
   "cell_type": "markdown",
   "id": "c8b80197",
   "metadata": {},
   "source": [
    "### Step 6: Residual Analysis of the train data\n",
    "#### To check assumption of linear regression, if the error terms are also normally distributed.\n",
    "#### let us plot the histogram of the error terms."
   ]
  },
  {
   "cell_type": "code",
   "execution_count": 76,
   "id": "645e4ccd",
   "metadata": {},
   "outputs": [
    {
     "data": {
      "text/plain": [
       "(584, 8)"
      ]
     },
     "execution_count": 76,
     "metadata": {},
     "output_type": "execute_result"
    }
   ],
   "source": [
    "#Check shape of Model\n",
    "X_train_lm9.shape"
   ]
  },
  {
   "cell_type": "code",
   "execution_count": 77,
   "id": "a4c81f5f",
   "metadata": {},
   "outputs": [],
   "source": [
    "# Predicting y values 'cnt' using our final model lm9\n",
    "y_train_bikeCnt = lm9.predict(X_train_lm9)"
   ]
  },
  {
   "cell_type": "code",
   "execution_count": 78,
   "id": "d92db820",
   "metadata": {},
   "outputs": [
    {
     "data": {
      "text/plain": [
       "Text(0.5, 0, 'Errors')"
      ]
     },
     "execution_count": 78,
     "metadata": {},
     "output_type": "execute_result"
    },
    {
     "data": {
      "image/png": "[encoded data removed]",
      "text/plain": [
       "<Figure size 432x288 with 1 Axes>"
      ]
     },
     "metadata": {
      "needs_background": "light"
     },
     "output_type": "display_data"
    }
   ],
   "source": [
    "# Plot the histogram of the error terms\n",
    "fig = plt.figure()\n",
    "residuals=(y_train - y_train_bikeCnt)\n",
    "sns.distplot(residuals, bins = 20)\n",
    "fig.suptitle('Error Terms', fontsize = 20)                  # Plot heading \n",
    "plt.xlabel('Errors', fontsize = 18)                         # X-label"
   ]
  },
  {
   "cell_type": "code",
   "execution_count": 79,
   "id": "47786d7e",
   "metadata": {},
   "outputs": [
    {
     "data": {
      "text/plain": [
       "(584,)"
      ]
     },
     "execution_count": 79,
     "metadata": {},
     "output_type": "execute_result"
    }
   ],
   "source": [
    "#check shape of residuals\n",
    "residuals.shape"
   ]
  },
  {
   "cell_type": "code",
   "execution_count": 80,
   "id": "b69f0f83",
   "metadata": {},
   "outputs": [
    {
     "data": {
      "image/png": "[encoded data removed]",
      "text/plain": [
       "<Figure size 432x288 with 1 Axes>"
      ]
     },
     "metadata": {
      "needs_background": "light"
     },
     "output_type": "display_data"
    }
   ],
   "source": [
    "# QQ Plots - let’s see QQ Plots of the residuals\n",
    "sm.qqplot(residuals)\n",
    "plt.show()"
   ]
  },
  {
   "cell_type": "markdown",
   "id": "071628ca",
   "metadata": {},
   "source": [
    "### Homoscedasticity Check"
   ]
  },
  {
   "cell_type": "code",
   "execution_count": 81,
   "id": "3b0c0c90",
   "metadata": {},
   "outputs": [
    {
     "data": {
      "text/plain": [
       "[<matplotlib.lines.Line2D at 0x20fa71a02b0>]"
      ]
     },
     "execution_count": 81,
     "metadata": {},
     "output_type": "execute_result"
    },
    {
     "data": {
      "image/png": "[encoded data removed]",
      "text/plain": [
       "<Figure size 432x288 with 1 Axes>"
      ]
     },
     "metadata": {
      "needs_background": "light"
     },
     "output_type": "display_data"
    }
   ],
   "source": [
    "plt.scatter(y_train, residuals)\n",
    "plt.plot(y_train, [0]*len(y_train))"
   ]
  },
  {
   "cell_type": "code",
   "execution_count": 82,
   "id": "a0858692",
   "metadata": {},
   "outputs": [
    {
     "data": {
      "text/plain": [
       "[<matplotlib.lines.Line2D at 0x20fa7a149a0>]"
      ]
     },
     "execution_count": 82,
     "metadata": {},
     "output_type": "execute_result"
    },
    {
     "data": {
      "image/png": "[encoded data removed]",
      "text/plain": [
       "<Figure size 432x288 with 1 Axes>"
      ]
     },
     "metadata": {
      "needs_background": "light"
     },
     "output_type": "display_data"
    }
   ],
   "source": [
    "# Observing that the error terms are uncorrelated with each other\n",
    "plt.plot(residuals.index, residuals)"
   ]
  },
  {
   "cell_type": "markdown",
   "id": "6079f3f1",
   "metadata": {},
   "source": [
    "### Step 7: Making Predictions Using the Final Model\n",
    "#### Now that we have fitted the model and checked the normality of error terms, it's time to go ahead and make predictions using the final model."
   ]
  },
  {
   "cell_type": "markdown",
   "id": "38014cc7",
   "metadata": {},
   "source": [
    "### Applying the scaling on the test sets"
   ]
  },
  {
   "cell_type": "code",
   "execution_count": 83,
   "id": "15bca5b3",
   "metadata": {},
   "outputs": [],
   "source": [
    "numeric_vars=['atemp','hum','windspeed']\n",
    "df_test[numeric_vars] = scaler.transform(df_test[numeric_vars])"
   ]
  },
  {
   "cell_type": "code",
   "execution_count": 84,
   "id": "f2c95d12",
   "metadata": {},
   "outputs": [
    {
     "data": {
      "text/html": [
       "<div>\n",
       "<style scoped>\n",
       "    .dataframe tbody tr th:only-of-type {\n",
       "        vertical-align: middle;\n",
       "    }\n",
       "\n",
       "    .dataframe tbody tr th {\n",
       "        vertical-align: top;\n",
       "    }\n",
       "\n",
       "    .dataframe thead th {\n",
       "        text-align: right;\n",
       "    }\n",
       "</style>\n",
       "<table border=\"1\" class=\"dataframe\">\n",
       "  <thead>\n",
       "    <tr style=\"text-align: right;\">\n",
       "      <th></th>\n",
       "      <th>yr</th>\n",
       "      <th>holiday</th>\n",
       "      <th>workingday</th>\n",
       "      <th>atemp</th>\n",
       "      <th>hum</th>\n",
       "      <th>windspeed</th>\n",
       "      <th>cnt</th>\n",
       "      <th>spring</th>\n",
       "      <th>summer</th>\n",
       "      <th>winter</th>\n",
       "      <th>...</th>\n",
       "      <th>Dec</th>\n",
       "      <th>Feb</th>\n",
       "      <th>Jan</th>\n",
       "      <th>Jul</th>\n",
       "      <th>Jun</th>\n",
       "      <th>Mar</th>\n",
       "      <th>May</th>\n",
       "      <th>Nov</th>\n",
       "      <th>Oct</th>\n",
       "      <th>Sep</th>\n",
       "    </tr>\n",
       "  </thead>\n",
       "  <tbody>\n",
       "    <tr>\n",
       "      <th>184</th>\n",
       "      <td>0</td>\n",
       "      <td>1</td>\n",
       "      <td>0</td>\n",
       "      <td>0.769660</td>\n",
       "      <td>0.657364</td>\n",
       "      <td>0.084219</td>\n",
       "      <td>6043</td>\n",
       "      <td>0</td>\n",
       "      <td>0</td>\n",
       "      <td>0</td>\n",
       "      <td>...</td>\n",
       "      <td>0</td>\n",
       "      <td>0</td>\n",
       "      <td>0</td>\n",
       "      <td>1</td>\n",
       "      <td>0</td>\n",
       "      <td>0</td>\n",
       "      <td>0</td>\n",
       "      <td>0</td>\n",
       "      <td>0</td>\n",
       "      <td>0</td>\n",
       "    </tr>\n",
       "    <tr>\n",
       "      <th>535</th>\n",
       "      <td>1</td>\n",
       "      <td>0</td>\n",
       "      <td>1</td>\n",
       "      <td>0.842587</td>\n",
       "      <td>0.610133</td>\n",
       "      <td>0.153728</td>\n",
       "      <td>6211</td>\n",
       "      <td>0</td>\n",
       "      <td>1</td>\n",
       "      <td>0</td>\n",
       "      <td>...</td>\n",
       "      <td>0</td>\n",
       "      <td>0</td>\n",
       "      <td>0</td>\n",
       "      <td>0</td>\n",
       "      <td>1</td>\n",
       "      <td>0</td>\n",
       "      <td>0</td>\n",
       "      <td>0</td>\n",
       "      <td>0</td>\n",
       "      <td>0</td>\n",
       "    </tr>\n",
       "    <tr>\n",
       "      <th>299</th>\n",
       "      <td>0</td>\n",
       "      <td>0</td>\n",
       "      <td>1</td>\n",
       "      <td>0.496145</td>\n",
       "      <td>0.837699</td>\n",
       "      <td>0.334206</td>\n",
       "      <td>2659</td>\n",
       "      <td>0</td>\n",
       "      <td>0</td>\n",
       "      <td>1</td>\n",
       "      <td>...</td>\n",
       "      <td>0</td>\n",
       "      <td>0</td>\n",
       "      <td>0</td>\n",
       "      <td>0</td>\n",
       "      <td>0</td>\n",
       "      <td>0</td>\n",
       "      <td>0</td>\n",
       "      <td>0</td>\n",
       "      <td>1</td>\n",
       "      <td>0</td>\n",
       "    </tr>\n",
       "    <tr>\n",
       "      <th>221</th>\n",
       "      <td>0</td>\n",
       "      <td>0</td>\n",
       "      <td>1</td>\n",
       "      <td>0.795343</td>\n",
       "      <td>0.437098</td>\n",
       "      <td>0.339570</td>\n",
       "      <td>4780</td>\n",
       "      <td>0</td>\n",
       "      <td>0</td>\n",
       "      <td>0</td>\n",
       "      <td>...</td>\n",
       "      <td>0</td>\n",
       "      <td>0</td>\n",
       "      <td>0</td>\n",
       "      <td>0</td>\n",
       "      <td>0</td>\n",
       "      <td>0</td>\n",
       "      <td>0</td>\n",
       "      <td>0</td>\n",
       "      <td>0</td>\n",
       "      <td>0</td>\n",
       "    </tr>\n",
       "    <tr>\n",
       "      <th>152</th>\n",
       "      <td>0</td>\n",
       "      <td>0</td>\n",
       "      <td>1</td>\n",
       "      <td>0.741471</td>\n",
       "      <td>0.314298</td>\n",
       "      <td>0.537414</td>\n",
       "      <td>4968</td>\n",
       "      <td>0</td>\n",
       "      <td>1</td>\n",
       "      <td>0</td>\n",
       "      <td>...</td>\n",
       "      <td>0</td>\n",
       "      <td>0</td>\n",
       "      <td>0</td>\n",
       "      <td>0</td>\n",
       "      <td>1</td>\n",
       "      <td>0</td>\n",
       "      <td>0</td>\n",
       "      <td>0</td>\n",
       "      <td>0</td>\n",
       "      <td>0</td>\n",
       "    </tr>\n",
       "  </tbody>\n",
       "</table>\n",
       "<p>5 rows × 29 columns</p>\n",
       "</div>"
      ],
      "text/plain": [
       "     yr  holiday  workingday     atemp       hum  windspeed   cnt  spring  \\\n",
       "184   0        1           0  0.769660  0.657364   0.084219  6043       0   \n",
       "535   1        0           1  0.842587  0.610133   0.153728  6211       0   \n",
       "299   0        0           1  0.496145  0.837699   0.334206  2659       0   \n",
       "221   0        0           1  0.795343  0.437098   0.339570  4780       0   \n",
       "152   0        0           1  0.741471  0.314298   0.537414  4968       0   \n",
       "\n",
       "     summer  winter  ...  Dec  Feb  Jan  Jul  Jun  Mar  May  Nov  Oct  Sep  \n",
       "184       0       0  ...    0    0    0    1    0    0    0    0    0    0  \n",
       "535       1       0  ...    0    0    0    0    1    0    0    0    0    0  \n",
       "299       0       1  ...    0    0    0    0    0    0    0    0    1    0  \n",
       "221       0       0  ...    0    0    0    0    0    0    0    0    0    0  \n",
       "152       1       0  ...    0    0    0    0    1    0    0    0    0    0  \n",
       "\n",
       "[5 rows x 29 columns]"
      ]
     },
     "execution_count": 84,
     "metadata": {},
     "output_type": "execute_result"
    }
   ],
   "source": [
    "df_test.head()"
   ]
  },
  {
   "cell_type": "markdown",
   "id": "c6622f75",
   "metadata": {},
   "source": [
    "## Dividing into X_test and y_test"
   ]
  },
  {
   "cell_type": "code",
   "execution_count": 85,
   "id": "51593f0c",
   "metadata": {},
   "outputs": [],
   "source": [
    "y_test = df_test.pop('cnt')\n",
    "X_test = df_test"
   ]
  },
  {
   "cell_type": "code",
   "execution_count": 86,
   "id": "5fe9571b",
   "metadata": {},
   "outputs": [
    {
     "data": {
      "text/plain": [
       "184    6043\n",
       "535    6211\n",
       "299    2659\n",
       "221    4780\n",
       "152    4968\n",
       "       ... \n",
       "219    4326\n",
       "719    3623\n",
       "3      1562\n",
       "392    4023\n",
       "360    1162\n",
       "Name: cnt, Length: 146, dtype: int64"
      ]
     },
     "execution_count": 86,
     "metadata": {},
     "output_type": "execute_result"
    }
   ],
   "source": [
    "y_test"
   ]
  },
  {
   "cell_type": "code",
   "execution_count": 87,
   "id": "8fe99989",
   "metadata": {},
   "outputs": [
    {
     "data": {
      "text/plain": [
       "Index(['yr', 'holiday', 'workingday', 'atemp', 'hum', 'windspeed', 'spring',\n",
       "       'summer', 'winter', 'Light rain_Light snow_Thunderstorm', 'Mist_cloudy',\n",
       "       'Monday', 'Saturday', 'Sunday', 'Thursday', 'Tuesday', 'Wednesday',\n",
       "       'Aug', 'Dec', 'Feb', 'Jan', 'Jul', 'Jun', 'Mar', 'May', 'Nov', 'Oct',\n",
       "       'Sep'],\n",
       "      dtype='object')"
      ]
     },
     "execution_count": 87,
     "metadata": {},
     "output_type": "execute_result"
    }
   ],
   "source": [
    "X_test.columns"
   ]
  },
  {
   "cell_type": "code",
   "execution_count": 88,
   "id": "d6975e9e",
   "metadata": {},
   "outputs": [
    {
     "data": {
      "text/plain": [
       "Index(['yr', 'holiday', 'atemp', 'spring',\n",
       "       'Light rain_Light snow_Thunderstorm', 'Mist_cloudy', 'Sep'],\n",
       "      dtype='object')"
      ]
     },
     "execution_count": 88,
     "metadata": {},
     "output_type": "execute_result"
    }
   ],
   "source": [
    "X_train_new=X_train_lm9.drop(['const'], axis=1)\n",
    "finalColmns=X_train_new.columns\n",
    "finalColmns"
   ]
  },
  {
   "cell_type": "code",
   "execution_count": 89,
   "id": "6bc1e116",
   "metadata": {},
   "outputs": [
    {
     "data": {
      "text/plain": [
       "Index(['yr', 'holiday', 'atemp', 'spring',\n",
       "       'Light rain_Light snow_Thunderstorm', 'Mist_cloudy', 'Sep'],\n",
       "      dtype='object')"
      ]
     },
     "execution_count": 89,
     "metadata": {},
     "output_type": "execute_result"
    }
   ],
   "source": [
    "# Creating X_test_1 dataframe by dropping variables from X_test. Will keep only selected features in Model\n",
    "X_test_1= X_test[finalColmns]\n",
    "X_test_1.columns"
   ]
  },
  {
   "cell_type": "code",
   "execution_count": 90,
   "id": "680f3e79",
   "metadata": {},
   "outputs": [
    {
     "data": {
      "text/plain": [
       "(146, 7)"
      ]
     },
     "execution_count": 90,
     "metadata": {},
     "output_type": "execute_result"
    }
   ],
   "source": [
    "X_test_1.shape"
   ]
  },
  {
   "cell_type": "code",
   "execution_count": 91,
   "id": "ee6f068a",
   "metadata": {},
   "outputs": [
    {
     "data": {
      "text/html": [
       "<div>\n",
       "<style scoped>\n",
       "    .dataframe tbody tr th:only-of-type {\n",
       "        vertical-align: middle;\n",
       "    }\n",
       "\n",
       "    .dataframe tbody tr th {\n",
       "        vertical-align: top;\n",
       "    }\n",
       "\n",
       "    .dataframe thead th {\n",
       "        text-align: right;\n",
       "    }\n",
       "</style>\n",
       "<table border=\"1\" class=\"dataframe\">\n",
       "  <thead>\n",
       "    <tr style=\"text-align: right;\">\n",
       "      <th></th>\n",
       "      <th>const</th>\n",
       "      <th>yr</th>\n",
       "      <th>holiday</th>\n",
       "      <th>atemp</th>\n",
       "      <th>spring</th>\n",
       "      <th>Light rain_Light snow_Thunderstorm</th>\n",
       "      <th>Mist_cloudy</th>\n",
       "      <th>Sep</th>\n",
       "    </tr>\n",
       "  </thead>\n",
       "  <tbody>\n",
       "    <tr>\n",
       "      <th>184</th>\n",
       "      <td>1.0</td>\n",
       "      <td>0</td>\n",
       "      <td>1</td>\n",
       "      <td>0.769660</td>\n",
       "      <td>0</td>\n",
       "      <td>0</td>\n",
       "      <td>1</td>\n",
       "      <td>0</td>\n",
       "    </tr>\n",
       "    <tr>\n",
       "      <th>535</th>\n",
       "      <td>1.0</td>\n",
       "      <td>1</td>\n",
       "      <td>0</td>\n",
       "      <td>0.842587</td>\n",
       "      <td>0</td>\n",
       "      <td>0</td>\n",
       "      <td>0</td>\n",
       "      <td>0</td>\n",
       "    </tr>\n",
       "    <tr>\n",
       "      <th>299</th>\n",
       "      <td>1.0</td>\n",
       "      <td>0</td>\n",
       "      <td>0</td>\n",
       "      <td>0.496145</td>\n",
       "      <td>0</td>\n",
       "      <td>0</td>\n",
       "      <td>1</td>\n",
       "      <td>0</td>\n",
       "    </tr>\n",
       "    <tr>\n",
       "      <th>221</th>\n",
       "      <td>1.0</td>\n",
       "      <td>0</td>\n",
       "      <td>0</td>\n",
       "      <td>0.795343</td>\n",
       "      <td>0</td>\n",
       "      <td>0</td>\n",
       "      <td>0</td>\n",
       "      <td>0</td>\n",
       "    </tr>\n",
       "    <tr>\n",
       "      <th>152</th>\n",
       "      <td>1.0</td>\n",
       "      <td>0</td>\n",
       "      <td>0</td>\n",
       "      <td>0.741471</td>\n",
       "      <td>0</td>\n",
       "      <td>0</td>\n",
       "      <td>0</td>\n",
       "      <td>0</td>\n",
       "    </tr>\n",
       "  </tbody>\n",
       "</table>\n",
       "</div>"
      ],
      "text/plain": [
       "     const  yr  holiday     atemp  spring  Light rain_Light snow_Thunderstorm  \\\n",
       "184    1.0   0        1  0.769660       0                                   0   \n",
       "535    1.0   1        0  0.842587       0                                   0   \n",
       "299    1.0   0        0  0.496145       0                                   0   \n",
       "221    1.0   0        0  0.795343       0                                   0   \n",
       "152    1.0   0        0  0.741471       0                                   0   \n",
       "\n",
       "     Mist_cloudy  Sep  \n",
       "184            1    0  \n",
       "535            0    0  \n",
       "299            1    0  \n",
       "221            0    0  \n",
       "152            0    0  "
      ]
     },
     "execution_count": 91,
     "metadata": {},
     "output_type": "execute_result"
    }
   ],
   "source": [
    "# Adding constant variable to test dataframe\n",
    "X_test_1 = sm.add_constant(X_test_1)\n",
    "X_test_1.head()"
   ]
  },
  {
   "cell_type": "code",
   "execution_count": 92,
   "id": "ebacf553",
   "metadata": {},
   "outputs": [
    {
     "data": {
      "text/plain": [
       "184    3440.180430\n",
       "535    7247.751356\n",
       "299    3377.854666\n",
       "221    5051.130557\n",
       "152    4866.803489\n",
       "          ...     \n",
       "219    5133.321180\n",
       "719    3290.985355\n",
       "3      1502.937858\n",
       "392    4051.069534\n",
       "360    1372.186826\n",
       "Length: 146, dtype: float64"
      ]
     },
     "execution_count": 92,
     "metadata": {},
     "output_type": "execute_result"
    }
   ],
   "source": [
    "# Making predictions using the final model\n",
    "y_pred = lm9.predict(X_test_1)\n",
    "y_pred"
   ]
  },
  {
   "cell_type": "markdown",
   "id": "0e302fed",
   "metadata": {},
   "source": [
    "## Step 8: Model Evaluation\n",
    "## Let's now plot the graph for actual versus predicted values."
   ]
  },
  {
   "cell_type": "code",
   "execution_count": 93,
   "id": "1772bd4a",
   "metadata": {},
   "outputs": [
    {
     "data": {
      "text/plain": [
       "Text(0, 0.5, 'y_pred')"
      ]
     },
     "execution_count": 93,
     "metadata": {},
     "output_type": "execute_result"
    },
    {
     "data": {
      "image/png": "[encoded data removed]",
      "text/plain": [
       "<Figure size 432x288 with 1 Axes>"
      ]
     },
     "metadata": {
      "needs_background": "light"
     },
     "output_type": "display_data"
    }
   ],
   "source": [
    "# Plotting y_test and y_pred to understand the spread\n",
    "fig = plt.figure()\n",
    "sns.regplot(x=y_test, y=y_pred, ci=68, fit_reg=True,scatter_kws={\"color\": \"red\"}, line_kws={\"color\": \"green\"})\n",
    "\n",
    "plt.scatter(y_test, y_pred)\n",
    "fig.suptitle('y_test vs y_pred', fontsize = 25)            \n",
    "plt.xlabel('y_test', fontsize = 20)                         \n",
    "plt.ylabel('y_pred', fontsize = 20)     "
   ]
  },
  {
   "cell_type": "markdown",
   "id": "9ba348ec",
   "metadata": {},
   "source": [
    "## The Model seems good enough to predict demand of bikes. The actual and predicted value of cnt significantly overlapped. Hence, the model is able to explain the change in demand very well."
   ]
  },
  {
   "cell_type": "markdown",
   "id": "5d221e20",
   "metadata": {},
   "source": [
    "## Calculate the r square for test"
   ]
  },
  {
   "cell_type": "code",
   "execution_count": 94,
   "id": "e20173fa",
   "metadata": {},
   "outputs": [],
   "source": [
    "#Import lib\n",
    "from sklearn.metrics import mean_squared_error\n",
    "from sklearn.metrics import r2_score"
   ]
  },
  {
   "cell_type": "code",
   "execution_count": 95,
   "id": "c5f72600",
   "metadata": {},
   "outputs": [
    {
     "data": {
      "text/plain": [
       "0.7874583082630645"
      ]
     },
     "execution_count": 95,
     "metadata": {},
     "output_type": "execute_result"
    }
   ],
   "source": [
    "r_squared = r2_score(y_test, y_pred)\n",
    "r_squared"
   ]
  },
  {
   "cell_type": "markdown",
   "id": "20d359f6",
   "metadata": {},
   "source": [
    "### R^2 score of Model on Test data is: .79. Our model describes 79 % of variance of our test data"
   ]
  },
  {
   "cell_type": "code",
   "execution_count": 96,
   "id": "c7626439",
   "metadata": {},
   "outputs": [
    {
     "name": "stdout",
     "output_type": "stream",
     "text": [
      "Index(['yr', 'holiday', 'atemp', 'spring',\n",
      "       'Light rain_Light snow_Thunderstorm', 'Mist_cloudy', 'Sep'],\n",
      "      dtype='object')\n",
      "                            OLS Regression Results                            \n",
      "==============================================================================\n",
      "Dep. Variable:                    cnt   R-squared:                       0.814\n",
      "Model:                            OLS   Adj. R-squared:                  0.812\n",
      "Method:                 Least Squares   F-statistic:                     359.6\n",
      "Date:                Tue, 17 May 2022   Prob (F-statistic):          1.52e-205\n",
      "Time:                        21:48:12   Log-Likelihood:                -4764.1\n",
      "No. Observations:                 584   AIC:                             9544.\n",
      "Df Residuals:                     576   BIC:                             9579.\n",
      "Df Model:                           7                                         \n",
      "Covariance Type:            nonrobust                                         \n",
      "======================================================================================================\n",
      "                                         coef    std err          t      P>|t|      [0.025      0.975]\n",
      "------------------------------------------------------------------------------------------------------\n",
      "const                               2329.7972    143.388     16.248      0.000    2048.170    2611.425\n",
      "yr                                  2034.9703     70.675     28.793      0.000    1896.158    2173.782\n",
      "holiday                             -873.5290    216.779     -4.030      0.000   -1299.302    -447.756\n",
      "atemp                               3421.5839    219.291     15.603      0.000    2990.877    3852.291\n",
      "spring                             -1424.4364    105.223    -13.537      0.000   -1631.104   -1217.769\n",
      "Light rain_Light snow_Thunderstorm -2561.0004    218.955    -11.696      0.000   -2991.049   -2130.952\n",
      "Mist_cloudy                         -649.5445     75.305     -8.626      0.000    -797.450    -501.639\n",
      "Sep                                  612.9308    132.880      4.613      0.000     351.943     873.919\n",
      "==============================================================================\n",
      "Omnibus:                       67.256   Durbin-Watson:                   2.061\n",
      "Prob(Omnibus):                  0.000   Jarque-Bera (JB):              152.392\n",
      "Skew:                          -0.634   Prob(JB):                     8.10e-34\n",
      "Kurtosis:                       5.157   Cond. No.                         10.3\n",
      "==============================================================================\n",
      "\n",
      "Notes:\n",
      "[1] Standard Errors assume that the covariance matrix of the errors is correctly specified.\n"
     ]
    }
   ],
   "source": [
    "print(X_train_rfe.columns)\n",
    "print(lm9.summary())"
   ]
  },
  {
   "cell_type": "markdown",
   "id": "672ff5ee",
   "metadata": {},
   "source": [
    "## Adjusted  score of Model on Train data is: .81. Our model describes 81% of variance of our train data.¶\n",
    "### We can see that the equation for best fitted line is:\n",
    "### cnt=2329.7972+(2034.9703 * yr) +(-873.5290 * holiday)+(3421.5839 * atemp)+(-1424.4364 * spring)+(-2561.0004 * Light rain_Light snow_Thunderstorm)+(-649.5445 * Mist_cloudy)+(612.9308 * Sep)"
   ]
  },
  {
   "cell_type": "markdown",
   "id": "8d52aa95",
   "metadata": {},
   "source": [
    "## Conclusion:\n",
    "### We can see the demand for bikes depends mainly on below variables:\n",
    "### Time related fetaures\n",
    "#### yr , Holiday,Sep\n",
    "### Weather related fetaures\n",
    "atemp ,Spring, Mist_Cloudy, Light rain_Light snow_Thunderstorm\n",
    "\n",
    "#### Demand Increases :\n",
    "\n",
    "#### With Year\n",
    "#### In month of Sep\n",
    "#### atemp \n",
    "### Demand Decreases:\n",
    "#### Spring, Mist_Cloudy, Light rain_Light snow_Thunderstorm\n",
    "#### On Holiday"
   ]
  },
  {
   "cell_type": "code",
   "execution_count": null,
   "id": "ab5535d5",
   "metadata": {},
   "outputs": [],
   "source": []
  }
 ],
 "metadata": {
  "kernelspec": {
   "display_name": "Python 3",
   "language": "python",
   "name": "python3"
  },
  "language_info": {
   "codemirror_mode": {
    "name": "ipython",
    "version": 3
   },
   "file_extension": ".py",
   "mimetype": "text/x-python",
   "name": "python",
   "nbconvert_exporter": "python",
   "pygments_lexer": "ipython3",
   "version": "3.8.8"
  }
 },
 "nbformat": 4,
 "nbformat_minor": 5
}
